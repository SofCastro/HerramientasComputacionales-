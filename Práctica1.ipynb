{
 "cells": [
  {
   "cell_type": "markdown",
   "metadata": {},
   "source": [
    "# PRÁCTICA-1 "
   ]
  },
  {
   "cell_type": "markdown",
   "metadata": {},
   "source": [
    "**Nombre: Sofía Castro Varona**\n",
    "\n",
    "**Usuario de GitHub: SofCastro**"
   ]
  },
  {
   "cell_type": "markdown",
   "metadata": {},
   "source": [
    "## Índice \n",
    "* [1. Celdas](#1.-Celdas)\n",
    "     * [1.1 Tipo código](#1.1-Tipo-código)\n",
    "          * [1.2 Tipo markdown](#1.2-Tipo-markdown)\n",
    "              * [1.3 Tipo Raw](#1.3-Tipo-Raw)\n",
    "* [2. Estilo de fuente](#2.-Estilo-de-fuente)\n",
    "     * [2.1 Fuente itálica](#2.1-Fuente-itálica)\n",
    "          * [2.2 Fuente negrita](#2.1-Fuente-negrita)\n",
    "               * [2.3 Fuente negrita e itálica](#2.3-Fuente-negrita-e-itálica)\n",
    "* [3. Enlaces](#3.-Enlaces)\n",
    "     * [3.1 Enlace dentro del notebook](#3.1-Enlace-dentro-del-notebook)\n",
    "          * [3.2 Enlace a un sitio web](#3.2-Enlace-a-un-sitio-web)\n",
    "               * [3.3 Enlace a una imagen web](#3.3-Enlace-a-una-imagen-web)\n",
    "* [4. Ecuaciones](#4.-Ecuaciones)\n",
    "     * [4.1 Ecuaciones tipo LATEX](#4.1-Ecuaciones-tipo-LATEX)"
   ]
  },
  {
   "cell_type": "markdown",
   "metadata": {},
   "source": [
    "# 1. Celdas\n",
    "Tenemos cuatro tipo de celdas en Jupyter \n",
    "* Celdas de código *code cells*\n",
    "* Celdas de radacción *markdown cells*\n",
    "* Celdas sin formato *RAW NBConvert*\n",
    "* Celdas de encabezado *heading* , de estas hay seis tipos\n",
    "\n",
    "## 1.1 Tipo código\n",
    "Las celdas tipo código en Jupyther se ejecutan en Python. También admite comandos como JavaScript, Python, HTML y Bash.\n"
   ]
  },
  {
   "cell_type": "code",
   "execution_count": 2,
   "metadata": {},
   "outputs": [
    {
     "data": {
      "text/plain": [
       "'Dejé esto al final y ya me estresé'"
      ]
     },
     "execution_count": 2,
     "metadata": {},
     "output_type": "execute_result"
    }
   ],
   "source": [
    "\"Dejé esto al final y ya me estresé\""
   ]
  },
  {
   "cell_type": "markdown",
   "metadata": {},
   "source": [
    "## 1.2 Tipo markdown\n",
    "Es la forma más sencilla de escribir un texto "
   ]
  },
  {
   "cell_type": "markdown",
   "metadata": {},
   "source": [
    "Esta es una celda tipo ___markdown___"
   ]
  },
  {
   "cell_type": "markdown",
   "metadata": {},
   "source": [
    "## 1.3 Tipo Raw"
   ]
  },
  {
   "cell_type": "markdown",
   "metadata": {},
   "source": [
    "Son celdas sin procesar, no tiene distinción de entrada y salida. Si le da en ejecutar, la celda permanecerá igual Se utilizan para crear ejemplos. "
   ]
  },
  {
   "cell_type": "raw",
   "metadata": {},
   "source": [
    "print(\"I´m responsable for all the chaos in my life\")"
   ]
  },
  {
   "cell_type": "markdown",
   "metadata": {},
   "source": [
    "# 2. Estilo de fuente\n",
    "\n",
    "Se ocupa para cambiar el formato o presentación de un texto o palabra\n",
    "\n",
    "## 2.1 Fuente itálica \n",
    "Para realizar una fuente itálica lo que debes hacer es poner un guion bajo al principio y al final \n"
   ]
  },
  {
   "cell_type": "markdown",
   "metadata": {},
   "source": [
    "\n",
    "_Tengo sueño pero esta oración está en italics_\n",
    "\n",
    "<pre>\n",
    "Se vería así:\n",
    "_Tengo sueño pero esta oración está en italics_\n",
    "<pre>"
   ]
  },
  {
   "cell_type": "markdown",
   "metadata": {},
   "source": [
    "## 2.2 Fuente negrita"
   ]
  },
  {
   "cell_type": "markdown",
   "metadata": {},
   "source": [
    "Para realizar una fuente en negritas lo que debes de hacer es poner dos asteriscos al principio y al final "
   ]
  },
  {
   "cell_type": "markdown",
   "metadata": {},
   "source": [
    "**Yo soy mi peor enemigo**\n",
    "\n",
    "<pre>\n",
    "Se vería así:\n",
    "**Yo soy mi peor enemigo**\n",
    "<pre>"
   ]
  },
  {
   "cell_type": "markdown",
   "metadata": {},
   "source": [
    "## 2.3 Fuente negrita e itálica "
   ]
  },
  {
   "cell_type": "markdown",
   "metadata": {},
   "source": [
    "Para realizar estas dos fuentes debemos poner tres asteriscos "
   ]
  },
  {
   "cell_type": "markdown",
   "metadata": {},
   "source": [
    "***Solo cené un cerealito***\n",
    "\n",
    "<pre>\n",
    "Se vería así:\n",
    "***Solo cené un cerealito***\n",
    "<pre>"
   ]
  },
  {
   "cell_type": "markdown",
   "metadata": {},
   "source": [
    "# 3. Enlaces "
   ]
  },
  {
   "cell_type": "markdown",
   "metadata": {},
   "source": [
    "## 3.1 Enlace dentro del Notebook"
   ]
  },
  {
   "cell_type": "markdown",
   "metadata": {},
   "source": [
    "Este tipo de enlace vincula una celda markdown con encabezado. Es como una pequeña sección te lleva a alguna sección del notebook. Es el mismo código que para hacer un índice: poner entre corchetes lo que quieres que se lea y en paréntesis seguido de un # con el título de el apartado a ir. "
   ]
  },
  {
   "cell_type": "markdown",
   "metadata": {},
   "source": [
    "[Da click aquí para que mostrarte las celdas tipo código](#1.1-Tipo-código)"
   ]
  },
  {
   "cell_type": "markdown",
   "metadata": {},
   "source": [
    "<pre>\n",
    "Se vería así:\n",
    "[Da click aquí para que mostrarte las celdas tipo código](#1.1-Tipo-código)\n",
    "<pre>"
   ]
  },
  {
   "cell_type": "markdown",
   "metadata": {},
   "source": [
    "## 3.2 Enlace a un sitio web "
   ]
  },
  {
   "cell_type": "markdown",
   "metadata": {},
   "source": [
    "Este tipo de enlace te lleva a una página web por medio de un link u otra cosa haciendo referencia a algo que hayas puesto en el texto. Lo que debes hacer es poner entre corchetes lo que quieras que se lea y en paréntesis el link "
   ]
  },
  {
   "cell_type": "markdown",
   "metadata": {},
   "source": [
    "[Esta es la página de la ENCiT](http://www.encit.unam.mx/)"
   ]
  },
  {
   "cell_type": "markdown",
   "metadata": {},
   "source": [
    "<pre>\n",
    "Se vería así:\n",
    "[Esta es la página de la ENCiT](http://www.encit.unam.mx/)\n",
    "<pre>"
   ]
  },
  {
   "cell_type": "markdown",
   "metadata": {},
   "source": [
    "## 3.3 Enlace a una imagen web "
   ]
  },
  {
   "cell_type": "markdown",
   "metadata": {},
   "source": [
    "Este tipo de enlace es parecido a los dos anteriores, solo que al principio se tendrá que poner un ! \n",
    "\n",
    "![Imagen de globos terráqueos](http://www.encit.unam.mx/sites/default/files/2020-09/foto_geografia.jpg) "
   ]
  },
  {
   "cell_type": "markdown",
   "metadata": {},
   "source": [
    "<pre>\n",
    "Así se vería:\n",
    "![Imagen de globos terráqueos](http://www.encit.unam.mx/sites/default/files/2020-09/foto_geografia.jpg) \n",
    "<pre>"
   ]
  },
  {
   "cell_type": "markdown",
   "metadata": {},
   "source": [
    "## 4. Ecuaciones"
   ]
  },
  {
   "cell_type": "markdown",
   "metadata": {},
   "source": [
    "Para poner ecuaciones se utiliza una celda markdown y un código específico, el que usaremos será LATEX. Se tendrá que usar $ al principio y final de la ecuación"
   ]
  },
  {
   "cell_type": "markdown",
   "metadata": {},
   "source": [
    "## 4.1 Ecuaciones tipo LATEX"
   ]
  },
  {
   "cell_type": "markdown",
   "metadata": {},
   "source": [
    "La suma total de Gauss:"
   ]
  },
  {
   "cell_type": "markdown",
   "metadata": {},
   "source": [
    "$\\displaystyle \\sum_{k=1}^{n} k = \\dfrac{n(n+1)}{2}$."
   ]
  },
  {
   "cell_type": "markdown",
   "metadata": {},
   "source": [
    "Se vería así:\n",
    "<pre> $\\displaystyle \\sum_{k=1}^{n} k = \\dfrac{n(n+1)}{2}$. <pre>"
   ]
  },
  {
   "cell_type": "code",
   "execution_count": null,
   "metadata": {},
   "outputs": [],
   "source": []
  }
 ],
 "metadata": {
  "kernelspec": {
   "display_name": "Python 3",
   "language": "python",
   "name": "python3"
  },
  "language_info": {
   "codemirror_mode": {
    "name": "ipython",
    "version": 3
   },
   "file_extension": ".py",
   "mimetype": "text/x-python",
   "name": "python",
   "nbconvert_exporter": "python",
   "pygments_lexer": "ipython3",
   "version": "3.8.3"
  }
 },
 "nbformat": 4,
 "nbformat_minor": 4
}
