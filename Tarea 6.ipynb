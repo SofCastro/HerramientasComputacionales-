{
 "cells": [
  {
   "cell_type": "markdown",
   "id": "49dc1936",
   "metadata": {},
   "source": [
    "# Tarea 6"
   ]
  },
  {
   "cell_type": "markdown",
   "id": "f0d13a78",
   "metadata": {},
   "source": [
    "**Alumna:** Sofía Castro Varona"
   ]
  },
  {
   "cell_type": "markdown",
   "id": "2be88957",
   "metadata": {},
   "source": [
    "**Fecha de entrega:** Miércoles 11 de mayo del 2022"
   ]
  },
  {
   "cell_type": "markdown",
   "id": "e8575ad6",
   "metadata": {},
   "source": [
    "\n",
    "**Instrucciones:** El código de la solución a los enunciados de esta tarea debe de escribirse usando jupyter notebook. Debes entregar la tarea en formato HTML y en ipynb en la platafoma de classroom. Además, debes comentar que acción, operación y/o proceso están realizando las líneas del código solución."
   ]
  },
  {
   "cell_type": "markdown",
   "id": "8187e63c",
   "metadata": {},
   "source": [
    "1.- Considerando el conjunto de puntos $(-1,1),(0,3),(1,1.25),(2,0.5),(3,-0.75)$ realiza una interpolación por splin de tercer orden. \n",
    "\n",
    "Escribe todas las ecuaciones de los polinomios así como el sistema de ecuaciones a resover en forma matricial $Ac=b$. No olvides graficar la función interpoladora.\n",
    "\n",
    "\n",
    "2.- Interpole los siguientes puntos considerando la interpolación de Lagrange:\n",
    "$(1,1),(2,4),(3,1),(4,5),(5,6),(6,4.5)$\n",
    "\n",
    "Gráfica el resultado, ¿que sucede si evaluamos la función interpoladora para $x$ fuera del intervalo $[2,6]$?"
   ]
  },
  {
   "cell_type": "code",
   "execution_count": 1,
   "id": "8565eb68",
   "metadata": {},
   "outputs": [],
   "source": [
    "import numpy as np\n",
    "import matplotlib.pyplot as plt\n",
    "from scipy.interpolate import lagrange\n",
    "from scipy.interpolate import interp1d"
   ]
  },
  {
   "cell_type": "markdown",
   "id": "2b758b41",
   "metadata": {},
   "source": [
    "**Ejercicio 1**"
   ]
  },
  {
   "cell_type": "markdown",
   "id": "5ff23c7d",
   "metadata": {},
   "source": [
    "Puntos :  $(-1,1),(0,3),(1,1.25),(2,0.5),(3,-0.75)$"
   ]
  },
  {
   "cell_type": "markdown",
   "id": "e9589bf3",
   "metadata": {},
   "source": [
    "Se tiene $n = 5$, por lo que se necesita un total de $4(n-1)$ ecuaciones, es decir, 16 incógnitas.\n",
    "\n",
    "$\n",
    "\\left.\\begin{array}{ccccccc}\n",
    "a_1x^3+&b_1x^2+&c_1x& + d_1& para & -1 \\leq x < 0 \\\\\n",
    "a_2x^3+&b_2x^2+&c_2x& + d_2& para & 0 \\leq x < 1\\\\\n",
    "a_3x^3+&b_3x^2+&c_3x& + d_3& para & 1 \\leq x < 2 \\\\\n",
    "a_4x^3+&b_4x^2+&c_4x& + d_4& para & 2 \\leq x \\leq  3\n",
    "\\end{array}\\right\\rbrace S(x)\n",
    "$\n"
   ]
  },
  {
   "cell_type": "markdown",
   "id": "9026e965",
   "metadata": {},
   "source": [
    "Interpolación de datos:\n",
    "\n",
    "$S_1(-1) = -a_1 + b_1 -c_1 + d_1 = 1 \\cdots (1)$\n",
    "\n",
    "$S_1(0) =  d_1 = 3 \\cdots (2)$\n",
    "\n",
    "$S_2(0) =  d_2 = 3 \\cdots (3)$\n",
    "\n",
    "$S_2(1) = a_2 + b_2 + c_2 + d_2 = 1.25 \\cdots (4)$\n",
    "\n",
    "$S_3(1) = a_3 + b_3 + c_3 + d_3 = 1.25 \\cdots (5)$\n",
    "\n",
    "$S_3(2) = 8a_3 + 4b_3 + 2c_3 + d_3 = 0.5 \\cdots (6)$\n",
    "\n",
    "$S_4(2) = 8a_4 + 4b_4 + 2c_4 + d_4 = 0.5 \\cdots (7)$\n",
    "\n",
    "$S_4(3) = 27a_4 + 9b_4 + 3c_4 + d_4 = -0.75 \\cdots (8)$"
   ]
  },
  {
   "cell_type": "markdown",
   "id": "e8856825",
   "metadata": {},
   "source": [
    "Para las primeras derivadas continuas, se tiene que $ i = n-2$, por lo tanto $i = 3$. Además:\n",
    "\n",
    "$S_{1}^{\\prime}(x_{i+1}) = S_{2}^{\\prime}(x_{i+1})$\n",
    "\n",
    "$S_{2}^{\\prime}(x_{i+2}) = S_{3}^{\\prime}(x_{i+2}) $\n",
    "\n",
    "$S_{3}^{\\prime}(x_{i+3}) = S_{4}^{\\prime}(x_{i+3})$\n",
    "\n",
    "Recordando que:\n",
    "\n",
    "$S_{i}^{\\prime}(x) = 3a_ix^{2} + 2 b_ix + c_i$"
   ]
  },
  {
   "cell_type": "markdown",
   "id": "dbe95348",
   "metadata": {},
   "source": [
    "Las ecuaciones quedan de la siguiente manera:\n",
    "\n",
    "$c_1 - c_2 = 0 \\cdots (9)$\n",
    "\n",
    "$3a_2 + 2b_2 + c_2 - 3a_3 - 2b_3 - c_3 = 0 \\cdots (10)$\n",
    "\n",
    "$12a_3 + 4b_3 + c_3 - 12a_4 - 4b_4 - c_4 = 0 \\cdots (11)$"
   ]
  },
  {
   "cell_type": "markdown",
   "id": "082c9ae3",
   "metadata": {},
   "source": [
    "Para las segundas derivadas continuas, al igual que las primeras $i = 3$ y también se tiene que cumplir la condición de que\n",
    "\n",
    "$S_{1}^{\\prime\\prime}(x_{i+1}) = S_{2}^{\\prime\\prime}(x_{i+1})$\n",
    "\n",
    "$S_{2}^{\\prime\\prime}(x_{i+2}) = S_{3}^{\\prime\\prime}(x_{i+2}) $\n",
    "\n",
    "$S_{3}^{\\prime\\prime}(x_{i+3}) = S_{4}^{\\prime\\prime}(x_{i+3})$\n"
   ]
  },
  {
   "cell_type": "markdown",
   "id": "6a762903",
   "metadata": {},
   "source": [
    "Se recuerda que\n",
    "\n",
    "$S_{1}^{\\prime\\prime}(x_{i+1}) = 6a_ix + 2b_i $"
   ]
  },
  {
   "cell_type": "markdown",
   "id": "478a624d",
   "metadata": {},
   "source": [
    "Nuestras ecuaciones quedan como:\n",
    "\n",
    "$2a_1 - 2b_2 = 0 \\cdots (12)$\n",
    "\n",
    "$6a_2 + 2b_2 - 6a_3 - 2b_3 = 0 \\cdots (13)$\n",
    "\n",
    "$12a_3 + 2b_3 - 12a_4 - 2b_4 = 0 \\cdots (14)$"
   ]
  },
  {
   "cell_type": "markdown",
   "id": "1119ba01",
   "metadata": {},
   "source": [
    "Para las ecuaciones de frontera, se asume que las segundas derivadas son cero en los extremos:\n",
    "\n",
    "$-6a_1 + 2b_1 = 0 \\cdots (15)$\n",
    "\n",
    "$18 a_4 + 2b_4 = 0 \\cdots (16)$"
   ]
  },
  {
   "cell_type": "markdown",
   "id": "820ca6a9",
   "metadata": {},
   "source": [
    "Ahora, se desarrolla la matriz  $Ac=b$"
   ]
  },
  {
   "cell_type": "markdown",
   "id": "05689a28",
   "metadata": {},
   "source": [
    "$\n",
    "\\left[\\begin{array}{cccc}\n",
    "-1&1&-1&1& 0&0&0&0& 0&0&0&0 & 0&0&0&0\\\\ \n",
    "0&0&0&1& 0&0&0&0 & 0&0&0&0 & 0&0&0&0\\\\\n",
    "0&0&0&0& 0&0&0&1 & 0&0&0&0 & 0&0&0&0\\\\\n",
    "0&0&0&0& 1&1&1&1& 0&0&0&0 & 0&0&0&0\\\\\n",
    "0&0&0&0& 0&0&0&0& 1&1&1&1& 0&0&0&0\\\\\n",
    "0&0&0&0& 0&0&0&0& 8&4&2&1& 0&0&0&0\\\\\n",
    "0&0&0&0& 0&0&0&0& 0&0&0&0 &8&4&2&1\\\\\n",
    "0&0&0&0& 0&0&0&0& 0&0&0&0 &27&9&3&1 \\\\\n",
    "0&0&1&0& 0&0&-1&0& 0&0&0&0& 0&0&0&0 \\\\\n",
    "0&0&0&0& 3&2&1&0& -3&-2&-1&0 &0&0&0&0 \\\\\n",
    "0&0&0&0& 0&0&0&0& 12&4&1&0 &-12&-4&-1&0 \\\\\n",
    "2&0&0&0& 0&-2&0&0& 0&0&0&0& 0&0&0&0& \\\\\n",
    "0&0&0&0& 6&2&0&0& -6&-2&0&0& 0&0&0&0& \\\\\n",
    "0&0&0&0& 0&0&0&0& 12&2&0&0& -12&-2&0&0& \\\\\n",
    "-6&2&0&0& 0&0&0&0& 0&0&0&0& 0&0&0&0& \\\\\n",
    "0&0&0&0& 0&0&0&0& 0&0&0&0& 18&2&0&0&\n",
    "\\end{array}\n",
    "\\right]\n",
    "\\left[\\begin{array}{c}\n",
    "a_1\\\\\n",
    "b_1\\\\\n",
    "c_1\\\\\n",
    "d_1\\\\\n",
    "a_2\\\\\n",
    "b_2\\\\\n",
    "c_2\\\\\n",
    "d_2\\\\\n",
    "a_3\\\\\n",
    "b_3\\\\\n",
    "c_3\\\\\n",
    "d_3\\\\\n",
    "a_4\\\\\n",
    "b_4\\\\\n",
    "c_4\\\\\n",
    "d_4\\\\\n",
    "\\end{array}\n",
    "\\right]\n",
    "=\n",
    "\\left[\\begin{array}{c}\n",
    "1\\\\\n",
    "3\\\\\n",
    "3\\\\\n",
    "1.25 \\\\\n",
    "1.25\\\\\n",
    "0.5 \\\\\n",
    "0.5\\\\\n",
    "-0.75 \\\\ \n",
    "0 \\\\\n",
    "0 \\\\\n",
    "0 \\\\\n",
    "0 \\\\\n",
    "0 \\\\\n",
    "0 \\\\\n",
    "0 \\\\\n",
    "0 \\\\\n",
    "\\end{array}\n",
    "\\right]\n",
    "$"
   ]
  },
  {
   "cell_type": "code",
   "execution_count": 2,
   "id": "465e6198",
   "metadata": {},
   "outputs": [],
   "source": [
    "A = np.array([[-1, 1, -1, 1, 0, 0, 0, 0, 0, 0, 0, 0, 0, 0, 0, 0], [0, 0, 0, 1, 0, 0, 0, 0, 0, 0, 0, 0, 0, 0, 0, 0],\n",
    "            [0, 0, 0, 0, 0, 0, 0, 1, 0, 0, 0, 0, 0, 0, 0, 0], [0, 0, 0, 0, 1, 1, 1, 1, 0, 0, 0, 0, 0, 0, 0, 0],\n",
    "            [0, 0, 0, 0, 0, 0, 0, 0, 1, 1, 1, 1, 0, 0, 0, 0], [0, 0, 0, 0, 0, 0, 0, 0, 8, 4, 2, 1, 0, 0, 0, 0],\n",
    "            [0, 0, 0, 0, 0, 0, 0, 0, 0, 0, 0, 0, 8, 4, 2, 1], [0, 0, 0, 0, 0, 0, 0, 0, 0, 0, 0, 0, 27, 9, 3, 1],\n",
    "            [0, 0, 1, 0, 0, 0, -1, 0, 0, 0, 0, 0, 0, 0, 0, 0], [0, 0, 0, 0, 3, 2, 1, 0, -3, -2, -1, 0, 0, 0, 0, 0],\n",
    "            [0, 0, 0, 0, 0, 0, 0, 0, 12, 4, 1, 0, -12, -4, -1, 0], [2, 0, 0, 0, 0, -2, 0, 0, 0, 0, 0, 0, 0, 0, 0, 0],\n",
    "            [0, 0, 0, 0, 6, 2, 0, 0, -6, -2, 0, 0, 0, 0, 0, 0], [0, 0, 0, 0, 0, 0, 0, 0, 12, 2, 0, 0, -12, -2, 0, 0],\n",
    "            [-6, 2, 0, 0, 0, 0, 0, 0, 0, 0, 0, 0, 0, 0, 0, 0 ], [0, 0, 0, 0, 0, 0, 0, 0, 0, 0, 0, 0, 18, 2, 0, 0]])"
   ]
  },
  {
   "cell_type": "code",
   "execution_count": 3,
   "id": "bf492b36",
   "metadata": {},
   "outputs": [],
   "source": [
    "b = np.array([1, 3, 3, 1.25, 1.25, 0.5, 0.5, -0.75, 0, 0, 0, 0, 0, 0, 0, 0]) #Este vector corresponde a los resultados \n",
    "                                                                             #de cada ecuación"
   ]
  },
  {
   "cell_type": "code",
   "execution_count": 4,
   "id": "b95ed7fa",
   "metadata": {},
   "outputs": [
    {
     "name": "stdout",
     "output_type": "stream",
     "text": [
      "[-2.63793103  4.85775862 -2.11422414  0.23491379  4.63793103 -6.05603448\n",
      "  3.34267241 -0.67456897  3.         -1.14224138 -1.57112069  0.96336207\n",
      "  3.         -1.14224138 -4.71336207 -1.57112069] Hay un total de 16 incógnitas\n"
     ]
    }
   ],
   "source": [
    "c = np.linalg.solve(A,b)\n",
    "c = c[::-1] #Como las incógnitas salen invertidas, las multiplico por -1 para reordenarlas \n",
    "print(c, 'Hay un total de', len(c), 'incógnitas') #Confirmo que sí se resolvieron las 16 incógnitas"
   ]
  },
  {
   "cell_type": "code",
   "execution_count": 5,
   "id": "348c76be",
   "metadata": {},
   "outputs": [
    {
     "name": "stdout",
     "output_type": "stream",
     "text": [
      "3.0 - 1.1422413793103452 x**1 - 4.713362068965517 x**2 -\n",
      "1.5711206896551724 x**3\n",
      "3.0 - 1.1422413793103452 x**1 - 1.5711206896551722 x**2 +\n",
      "0.9633620689655173 x**3\n",
      "4.63793103448276 - 6.056034482758623 x**1 + 3.342672413793105 x**2 -\n",
      "0.6745689655172417 x**3\n",
      "-2.637931034482763 + 4.85775862068966 x**1 - 2.1142241379310365 x**2 +\n",
      "0.23491379310344854 x**3\n"
     ]
    }
   ],
   "source": [
    "p_i1 = np.polynomial.Polynomial(c[12:16]) #Polinomio para i = 1 se agarran los últimos cuatros valores\n",
    "print(p_i1)\n",
    "p_i2 = np.polynomial.Polynomial(c[8:12]) #Polinomio para i = 2 se agarran los penúltimos cuatros valores\n",
    "print(p_i2)\n",
    "p_i3 = np.polynomial.Polynomial(c[4:8]) #Polinomio para i = 3 se agarran los antepenúltimos cuatros valores\n",
    "print(p_i3)\n",
    "p_i4 = np.polynomial.Polynomial(c[0:4]) #Polinomio para i = 4 se agarran los primeros cuatros valores\n",
    "print(p_i4)"
   ]
  },
  {
   "cell_type": "code",
   "execution_count": 11,
   "id": "43f34acc",
   "metadata": {},
   "outputs": [],
   "source": [
    "#Ahora vamos a graficar, para eso hay que poner el dominio de cada polinomio correspondiente\n",
    "x1 = np.linspace(-1,0,100)\n",
    "x2 = np.linspace(0,1,100)\n",
    "x3 = np.linspace(1,2,100)\n",
    "x4 = np.linspace(2,3,100)"
   ]
  },
  {
   "cell_type": "code",
   "execution_count": 12,
   "id": "a51bafc0",
   "metadata": {},
   "outputs": [],
   "source": [
    "#Puntos a interpolar\n",
    "x = np.array([-1, 0, 1, 2, 3])\n",
    "y = np.array([1, 3, 1.25, 0.5, -0.75])"
   ]
  },
  {
   "cell_type": "code",
   "execution_count": 13,
   "id": "4d0e9f5d",
   "metadata": {},
   "outputs": [
    {
     "data": {
      "text/plain": [
       "<matplotlib.legend.Legend at 0x14f277c1f10>"
      ]
     },
     "execution_count": 13,
     "metadata": {},
     "output_type": "execute_result"
    },
    {
     "data": {
      "image/png": "[encoded data removed]",
      "text/plain": [
       "<Figure size 432x288 with 1 Axes>"
      ]
     },
     "metadata": {
      "needs_background": "light"
     },
     "output_type": "display_data"
    }
   ],
   "source": [
    "plt.plot(x1,p_i1(x1), label = \"Polinomio interpolado i = 1\", color = 'khaki')\n",
    "plt.plot(x2,p_i2(x2), label = \"Polinomio interpolado i = 2\", color = 'tomato')\n",
    "plt.plot(x3,p_i3(x3), label = \"Polinomio interpolado i = 3\", color = 'palevioletred')\n",
    "plt.plot(x4,p_i4(x4), label = \"Polinomio interpolado i = 4\", color = 'plum')\n",
    "plt.plot(x,y,\"k.\", label = 'Puntos a interpolar')\n",
    "plt.legend()"
   ]
  },
  {
   "cell_type": "markdown",
   "id": "70494030",
   "metadata": {},
   "source": [
    "Además, podemos corroborarlo con la función *interpolate.interp1d* de SciPy"
   ]
  },
  {
   "cell_type": "code",
   "execution_count": 14,
   "id": "4cc7663f",
   "metadata": {},
   "outputs": [],
   "source": [
    "f_i = interp1d(x,y,kind = 3) #Polinomio de grado 3\n",
    "xx = np.linspace(-1,3,100) #El dominio de nuestra función es de -1 a 3"
   ]
  },
  {
   "cell_type": "code",
   "execution_count": 15,
   "id": "ec3857d9",
   "metadata": {},
   "outputs": [
    {
     "data": {
      "text/plain": [
       "<matplotlib.legend.Legend at 0x14f2785e550>"
      ]
     },
     "execution_count": 15,
     "metadata": {},
     "output_type": "execute_result"
    },
    {
     "data": {
      "image/png": "[encoded data removed]",
      "text/plain": [
       "<Figure size 432x288 with 1 Axes>"
      ]
     },
     "metadata": {
      "needs_background": "light"
     },
     "output_type": "display_data"
    }
   ],
   "source": [
    "plt.plot(xx,f_i(xx), label =\" Splin de 3er orden\", color = 'palevioletred')\n",
    "plt.plot(x,y,\"k.\",label = \"Puntos a interpolar\")\n",
    "plt.legend()"
   ]
  },
  {
   "cell_type": "markdown",
   "id": "10c48922",
   "metadata": {},
   "source": [
    "**Ejercicio 2**"
   ]
  },
  {
   "cell_type": "markdown",
   "id": "ed3baafb",
   "metadata": {},
   "source": [
    "Puntos: $(1,1),(2,4),(3,1),(4,5),(5,6),(6,4.5)$"
   ]
  },
  {
   "cell_type": "markdown",
   "id": "bf4f8fa4",
   "metadata": {},
   "source": [
    "Se tiene $n = 6$, es decir, $i = 1, 2, 3, 4, 5, 6$. De tal manera que las bases generadoras son:"
   ]
  },
  {
   "cell_type": "markdown",
   "id": "d0444ed1",
   "metadata": {},
   "source": [
    "$\n",
    "P_1(x)=\\dfrac{(x-x_2)(x-x_3)(x-x_4)(x-x_5)(x-x_6)}{(x_1-x_2)(x_1-x_3)(x_1-x_4)(x_1-x_5)(x_1-x_6)} = \\dfrac{(x-2)(x-3)(x-4)(x-5)(x-6)}{(1-2)(1-3)(1-4)(1-5)(1-6)} \n",
    "$\n",
    "\n",
    "$\n",
    " = -\\dfrac{x^5-20x^4+155x^3-580x^2+1044x-720}{120}\n",
    "$\n",
    "\n",
    "$\n",
    "P_2(x)=\\dfrac{(x-x_1)(x-x_3)(x-x_4)(x-x_5)(x-x_6)}{(x_2-x_1)(x_2-x_3)(x_2-x_4)(x_2-x_5)(x_2-x_6)} = \\dfrac{(x-1)(x-3)(x-4)(x-5)(x-6)}{(2-1)(2-3)(2-4)(2-5)(2-6)}\n",
    "$\n",
    "\n",
    "$\n",
    "= \\dfrac{x^5-19x^4+137x^3-461x^2+702x-360}{24}\n",
    "$\n",
    "\n",
    "$\n",
    "P_3(x)=\\dfrac{(x-x_1)(x-x_2)(x-x_4)(x-x_5)(x-x_6)}{(x_3-x_1)(x_3-x_2)(x_3-x_4)(x_3-x_5)(x_3-x_6)} = \\dfrac{(x-1)(x-2)(x-4)(x-5)(x-6)}{(3-1)(3-2)(3-4)(3-5)(3-6)} \n",
    "$\n",
    "\n",
    "$\n",
    "= -\\dfrac{x^5-18x^4+121x^3-372x^2+508x-240}{12}\n",
    "$\n",
    "\n",
    "$\n",
    "P_4(x)=\\dfrac{(x-x_1)(x-x_2)(x-x_3)(x-x_5)(x-x_6)}{(x_4-x_1)(x_4-x_2)(x_4-x_3)(x_4-x_5)(x_4-x_6)} = \\dfrac{(x-1)(x-2)(x-3)(x-5)(x-6)}{(4-1)(4-2)(4-3)(4-5)(4-6)} \n",
    "$\n",
    "\n",
    "$\n",
    "= \\dfrac{x^5-17x^4+107x^3-307x^2+396x-180}{12}\n",
    "$\n",
    "\n",
    "$\n",
    "P_5(x)=\\dfrac{(x-x_1)(x-x_2)(x-x_3)(x-x_4)(x-x_6)}{(x_5-x_1)(x_5-x_2)(x_5-x_3)(x_5-x_4)(x_4-x_6)} = \\dfrac{(x-1)(x-2)(x-3)(x-4)(x-6)}{(5-1)(5-2)(5-3)(5-4)(5-6)} \n",
    "$\n",
    "\n",
    "$\n",
    "= -\\dfrac{x^5-16x^4+95x^3-260x^2+324x-144}{24}\n",
    "$\n",
    "\n",
    "$\n",
    "P_6(x)=\\dfrac{(x-x_1)(x-x_2)(x-x_3)(x-x_4)(x-x_5)}{(x_6-x_1)(x_6-x_2)(x_6-x_3)(x_6-x_4)(x_6-x_5)} = \\dfrac{(x-1)(x-2)(x-3)(x-4)(x-5)}{(6-1)(6-2)(6-3)(6-4)(6-5)} \n",
    "$\n",
    "\n",
    "$\n",
    "= \\dfrac{x^5-15x^4+85x^3-225x^2+274x-120}{120}\n",
    "$"
   ]
  },
  {
   "cell_type": "markdown",
   "id": "dd88b8a7",
   "metadata": {},
   "source": [
    "El procedimiento del polinomio queda de la siguiente manera:"
   ]
  },
  {
   "cell_type": "markdown",
   "id": "2052b034",
   "metadata": {},
   "source": [
    "$L(x)=y_1P_1(x) + y_2P_2(x) + y_3P_3(x) + y_4P_4(x) + y_5P_5(x) + y_6P_6(x)$ y para cada $y_iP_i$ se tienen los siguientes resultados:\n",
    "\n",
    "$\n",
    "y_1P_1(x) = (1)(-\\dfrac{x^5-20x^4+155x^3-580^2+1044x-720}{120}) = -\\dfrac{x^5-20x^4+155x^3-580x^2+1044x-720}{120}\n",
    "$\n",
    "\n",
    "$\n",
    "y_2P_2(x) = (4)(\\dfrac{x^5-19x^4+137x^3-461x^2+702x-360}{24}) = \\dfrac{x^5-19x^4+137x^3-461x^2+702x-360}{6}\n",
    "$\n",
    "\n",
    "$\n",
    "y_3P_3(x) = (1)(-\\dfrac{x^5-18x^4+121x^3-372x^2+508x-240}{12}) = -\\dfrac{x^5-18x^4+121x^3-372x^2+508x-240}{12}\n",
    "$\n",
    "\n",
    "$\n",
    "y_4P_4(x) = (5)(\\dfrac{x^5-17x^4+107x^3-307x^2+396x-180}{12}) = \\dfrac{5x^5-85x^4+535x^3-1535x^2+1980x-900}{12}\n",
    "$\n",
    "\n",
    "$\n",
    "y_5P_5(x) = (6)(-\\dfrac{x^5-16x^4+95x^3-260x^2+324x-144}{24}) = -\\dfrac{x^5-16x^4+95x^3-260x^2+324x-144}{4}\n",
    "$\n",
    "\n",
    "$\n",
    "y_6P_6(x) = (4.5)(\\dfrac{x^5-15x^4+85x^3-225x^2+274x-120}{120}) = \\dfrac{3x^5-45x^4+255x^3-675x^2+822x-360}{80}\n",
    "$"
   ]
  },
  {
   "cell_type": "markdown",
   "id": "098b736c",
   "metadata": {},
   "source": [
    "Al sumar cada expresión se obtiene:\n",
    "\n",
    "$\n",
    "\\dfrac{1}{240}(67x^5-1235x^4+8515x^3-26965x^2+38458x-18600)\n",
    "$\n",
    "\n",
    "O también\n",
    "\n",
    "$\n",
    "\\dfrac{67x^5}{240} - \\dfrac{247x^4}{48} + \\dfrac{1703x^3}{48} - \\dfrac{5393x^2}{48} + \\dfrac{19229x}{120} - \\dfrac{155}{2}\n",
    "$"
   ]
  },
  {
   "cell_type": "code",
   "execution_count": 16,
   "id": "69e4ed84",
   "metadata": {},
   "outputs": [
    {
     "data": {
      "text/latex": [
       "$x \\mapsto \\text{-77.5} + \\text{160.24166666666667}\\,x - \\text{112.35416666666667}\\,x^{2} + \\text{35.479166666666664}\\,x^{3} - \\text{5.145833333333333}\\,x^{4} + \\text{0.2791666666666667}\\,x^{5}$"
      ],
      "text/plain": [
       "Polynomial([ -77.5       ,  160.24166667, -112.35416667,   35.47916667,\n",
       "         -5.14583333,    0.27916667], domain=[-1,  1], window=[-1,  1])"
      ]
     },
     "execution_count": 16,
     "metadata": {},
     "output_type": "execute_result"
    }
   ],
   "source": [
    "#Para construir nuestro polinomio pongo los coeficientes en una lista para después crearlo con Polynomial\n",
    "coef = [-155/2, 19229/120, -5393/48, 1703/48, -247/48, 67/240] #Se ponen los coeficientes \"invertidos\"\n",
    "poli = np.polynomial.Polynomial(coef)\n",
    "poli"
   ]
  },
  {
   "cell_type": "code",
   "execution_count": 17,
   "id": "effb9022",
   "metadata": {},
   "outputs": [],
   "source": [
    "xL = np.array([1, 2, 3, 4, 5, 6]) #X a interpolar\n",
    "yL = np.array([1, 4, 1, 5, 6, 4.5]) #Y a interpolar\n",
    "xxL = np.linspace(1, 6, 150) #Dominio de nuestra función "
   ]
  },
  {
   "cell_type": "code",
   "execution_count": 18,
   "id": "bea543de",
   "metadata": {},
   "outputs": [
    {
     "data": {
      "text/plain": [
       "<matplotlib.legend.Legend at 0x14f278e81c0>"
      ]
     },
     "execution_count": 18,
     "metadata": {},
     "output_type": "execute_result"
    },
    {
     "data": {
      "image/png": "[encoded data removed]",
      "text/plain": [
       "<Figure size 432x288 with 1 Axes>"
      ]
     },
     "metadata": {
      "needs_background": "light"
     },
     "output_type": "display_data"
    }
   ],
   "source": [
    "plt.plot(xxL, poli(xxL), label = 'Polinomio de Lagrange', color = 'olive')\n",
    "plt.plot(xL, yL, 'k.', label = 'Puntos a interpolar')\n",
    "plt.legend()"
   ]
  },
  {
   "cell_type": "markdown",
   "id": "76dd859f",
   "metadata": {},
   "source": [
    "Además, podemos corroborarlo con la función *lagrange* de SciPy"
   ]
  },
  {
   "cell_type": "code",
   "execution_count": 19,
   "id": "3108cd7c",
   "metadata": {},
   "outputs": [],
   "source": [
    "fL = lagrange(xL, yL)"
   ]
  },
  {
   "cell_type": "code",
   "execution_count": 20,
   "id": "f7fe7ca3",
   "metadata": {},
   "outputs": [
    {
     "data": {
      "text/plain": [
       "<matplotlib.legend.Legend at 0x14f2795f0d0>"
      ]
     },
     "execution_count": 20,
     "metadata": {},
     "output_type": "execute_result"
    },
    {
     "data": {
      "image/png": "[encoded data removed]",
      "text/plain": [
       "<Figure size 432x288 with 1 Axes>"
      ]
     },
     "metadata": {
      "needs_background": "light"
     },
     "output_type": "display_data"
    }
   ],
   "source": [
    "plt.plot(xxL, fL(xxL), label = 'Polinomio de Lagrange', color = 'peru')\n",
    "plt.plot(xL, yL, 'k.', label = 'Puntos a interpolar')\n",
    "plt.legend()"
   ]
  },
  {
   "cell_type": "code",
   "execution_count": null,
   "id": "9010933f",
   "metadata": {},
   "outputs": [],
   "source": []
  }
 ],
 "metadata": {
  "kernelspec": {
   "display_name": "Python 3 (ipykernel)",
   "language": "python",
   "name": "python3"
  },
  "language_info": {
   "codemirror_mode": {
    "name": "ipython",
    "version": 3
   },
   "file_extension": ".py",
   "mimetype": "text/x-python",
   "name": "python",
   "nbconvert_exporter": "python",
   "pygments_lexer": "ipython3",
   "version": "3.9.7"
  }
 },
 "nbformat": 4,
 "nbformat_minor": 5
}
