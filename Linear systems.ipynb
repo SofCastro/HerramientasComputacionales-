{
 "cells": [
  {
   "cell_type": "code",
   "execution_count": 58,
   "id": "52f16e98",
   "metadata": {},
   "outputs": [],
   "source": [
    "import numpy as np\n",
    "import matplotlib.pyplot as plt\n",
    "%matplotlib inline"
   ]
  },
  {
   "cell_type": "code",
   "execution_count": null,
   "id": "a3612170",
   "metadata": {},
   "outputs": [],
   "source": []
  },
  {
   "cell_type": "markdown",
   "id": "6c85fac1",
   "metadata": {},
   "source": [
    "Consideremos el sistema de ecuaciones lineales:\n",
    "\n",
    "$2x+3y = 4$\n",
    "\n",
    "$5x+4y = 3$\n",
    "\n",
    "El cual se puede representar en forma matricial como:\n",
    "\n",
    "$A\\vec{x} = b$ donde $\\vec{x}=(x,y)$"
   ]
  },
  {
   "cell_type": "code",
   "execution_count": 67,
   "id": "3515306e",
   "metadata": {},
   "outputs": [
    {
     "data": {
      "text/plain": [
       "array([-1.,  2.])"
      ]
     },
     "execution_count": 67,
     "metadata": {},
     "output_type": "execute_result"
    }
   ],
   "source": [
    "A = np.array([[2,3],[5,4]])\n",
    "B = np.array([4,3])\n",
    "C = np.linalg.solve(A,B)# usamos el modulo linalg.solve de la librería numpy\n",
    "C"
   ]
  },
  {
   "cell_type": "code",
   "execution_count": 68,
   "id": "4976e91f",
   "metadata": {},
   "outputs": [
    {
     "data": {
      "text/plain": [
       "4"
      ]
     },
     "execution_count": 68,
     "metadata": {},
     "output_type": "execute_result"
    }
   ],
   "source": [
    "2*(-1)+3*(2)"
   ]
  },
  {
   "cell_type": "markdown",
   "id": "b2db9956",
   "metadata": {},
   "source": [
    "Corroboramos el resultado gráficamente:"
   ]
  },
  {
   "cell_type": "code",
   "execution_count": 3,
   "id": "b82fd59d",
   "metadata": {},
   "outputs": [
    {
     "data": {
      "text/plain": [
       "[<matplotlib.lines.Line2D at 0x200437ab940>]"
      ]
     },
     "execution_count": 3,
     "metadata": {},
     "output_type": "execute_result"
    },
    {
     "data": {
      "image/png": "[encoded data removed]",
      "text/plain": [
       "<Figure size 432x288 with 1 Axes>"
      ]
     },
     "metadata": {
      "needs_background": "light"
     },
     "output_type": "display_data"
    }
   ],
   "source": [
    "x = np.linspace(-5,5,12)\n",
    "y1 = (4-2*x)/3\n",
    "y2 = (3-5*x)/4\n",
    "plt.plot(x,y1)\n",
    "plt.plot(x,y2)"
   ]
  },
  {
   "cell_type": "markdown",
   "id": "c64a3323",
   "metadata": {},
   "source": [
    "# Eigenvalores"
   ]
  },
  {
   "cell_type": "markdown",
   "id": "45d2f27a",
   "metadata": {},
   "source": [
    "Un caso especial de un sistema de ecuaciones de gran interes es la ecuación \n",
    "de eigenvalores\n",
    "\n",
    "$A\\vec{x}=\\lambda \\vec{x}$\n",
    "\n",
    "donde $A$ es una matriz cuarade de $N\\times N$, $\\vec{x}$ es el vector incógnita y $\\lambda$ es un escalar desconocido. comunmente a $\\vec{x}$ se le conoce como eigenvector y a $\\lambda$ como eigenvalor de la matriz $A$.\n",
    "\n",
    "Nótese que la ecuación $A\\vec{x}=\\lambda \\vec{x}$ es muy similar a $A\\vec{x}=b$, pero como $\\vec{x}$ y $\\lambda$ son variables desconocidas no podemos aplicar el método discutido anteriormente. \n",
    "\n",
    "Una aproximación muy común para resolver el problema de eigenvalores es resolver la ecuación $(A-I\\lambda) \\vec{x} = 0$. Para encontar una solución no trivial se debe cumplir que $\\vec{x}\\neq 0$ y que el determinante de la matriz $A-I\\lambda$ sea igual a cero,i.e. $det(A-I\\lambda) = 0$. \n",
    "\n",
    "De esta manera obtenemos un polinomio caracteristico de orden $N$ cuyas $N$ raíces corresponden a los N eigenvalores $(\\lambda)_{n=0}^{n=N}$. Una vez que se conocen los eigenvalores la ecuación $(A-I\\lambda_{n})x_{n}=0$ puede resolverse."
   ]
  },
  {
   "cell_type": "code",
   "execution_count": 69,
   "id": "01d0b5c9",
   "metadata": {},
   "outputs": [
    {
     "data": {
      "text/plain": [
       "2"
      ]
     },
     "execution_count": 69,
     "metadata": {},
     "output_type": "execute_result"
    }
   ],
   "source": [
    "A=np.array([[1,2],[3,4]])\n",
    "A.ndim"
   ]
  },
  {
   "cell_type": "markdown",
   "id": "a5209776",
   "metadata": {},
   "source": [
    "Entonces el determinante de la matriz $A$ es:"
   ]
  },
  {
   "cell_type": "code",
   "execution_count": 29,
   "id": "33276631",
   "metadata": {},
   "outputs": [],
   "source": [
    "def Det(A):\n",
    "    aux=A[0][0]*A[1][1]-A[1][0]*A[0][1]\n",
    "    return aux"
   ]
  },
  {
   "cell_type": "code",
   "execution_count": 70,
   "id": "c328d2ca",
   "metadata": {},
   "outputs": [
    {
     "data": {
      "text/plain": [
       "-2"
      ]
     },
     "execution_count": 70,
     "metadata": {},
     "output_type": "execute_result"
    }
   ],
   "source": [
    "Det(A)"
   ]
  },
  {
   "cell_type": "markdown",
   "id": "7b3458eb",
   "metadata": {},
   "source": [
    "Ahora, para calcular $det(A-I\\lambda)$ tneemos que importar:"
   ]
  },
  {
   "cell_type": "code",
   "execution_count": 32,
   "id": "d157dca8",
   "metadata": {},
   "outputs": [],
   "source": [
    "import sympy as sp"
   ]
  },
  {
   "cell_type": "code",
   "execution_count": 71,
   "id": "0d6f958d",
   "metadata": {},
   "outputs": [],
   "source": [
    "vec_x=sp.symbols(\"x1,x2\")"
   ]
  },
  {
   "cell_type": "code",
   "execution_count": 72,
   "id": "18d18dd9",
   "metadata": {},
   "outputs": [
    {
     "data": {
      "text/plain": [
       "(x1, x2)"
      ]
     },
     "execution_count": 72,
     "metadata": {},
     "output_type": "execute_result"
    }
   ],
   "source": [
    "vec_x"
   ]
  },
  {
   "cell_type": "code",
   "execution_count": 73,
   "id": "da77c9f0",
   "metadata": {},
   "outputs": [],
   "source": [
    "Lamb=sp.symbols(\"l\")"
   ]
  },
  {
   "cell_type": "code",
   "execution_count": 74,
   "id": "b6da0938",
   "metadata": {},
   "outputs": [
    {
     "data": {
      "text/latex": [
       "$\\displaystyle l$"
      ],
      "text/plain": [
       "l"
      ]
     },
     "execution_count": 74,
     "metadata": {},
     "output_type": "execute_result"
    }
   ],
   "source": [
    "Lamb"
   ]
  },
  {
   "cell_type": "code",
   "execution_count": 76,
   "id": "a96f872e",
   "metadata": {},
   "outputs": [],
   "source": [
    "def Det(A,L):\n",
    "    aux=(A[0][0]-L)*(A[1][1]-L)-A[1][0]*A[0][1]\n",
    "    return aux"
   ]
  },
  {
   "cell_type": "code",
   "execution_count": 77,
   "id": "4ba69f9c",
   "metadata": {},
   "outputs": [
    {
     "data": {
      "text/latex": [
       "$\\displaystyle \\left(1 - l\\right) \\left(4 - l\\right) - 6$"
      ],
      "text/plain": [
       "(1 - l)*(4 - l) - 6"
      ]
     },
     "execution_count": 77,
     "metadata": {},
     "output_type": "execute_result"
    }
   ],
   "source": [
    "Det(A,Lamb)"
   ]
  },
  {
   "cell_type": "markdown",
   "id": "1a0a94d8",
   "metadata": {},
   "source": [
    "Entonces, la ecuación a resolver es:\n",
    "\n",
    "$(1-l)*(4-l)-6=0$\n",
    "\n",
    "que es igual a\n",
    "\n",
    "$4-l-4l+l^2-6=0$\n",
    "\n",
    "$l^2-5l-2=0$"
   ]
  },
  {
   "cell_type": "markdown",
   "id": "15e518fa",
   "metadata": {},
   "source": [
    "Entonces los coeficientes del polinomio caracteristico son:\n",
    "\n",
    "coeff=(1,-5,-2)\n",
    "\n",
    "Utilzando la fórmula general para resolver una ecuación de segundo grado podemos definir la siguiente función:\n",
    "\n",
    "$coeff = (a,b,c)$"
   ]
  },
  {
   "cell_type": "code",
   "execution_count": 78,
   "id": "3dcd9e8e",
   "metadata": {},
   "outputs": [],
   "source": [
    "def sol_quad(c):\n",
    "    aux1 = (-c[1]+np.sqrt(c[1]**2-4*c[0]*c[2]))/(2*c[0])\n",
    "    aux2 = (-c[1]-np.sqrt(c[1]**2-4*c[0]*c[2]))/(2*c[0])\n",
    "    return aux1,aux2"
   ]
  },
  {
   "cell_type": "code",
   "execution_count": 79,
   "id": "44c76e50",
   "metadata": {},
   "outputs": [
    {
     "data": {
      "text/plain": [
       "(5.372281323269014, -0.3722813232690143)"
      ]
     },
     "execution_count": 79,
     "metadata": {},
     "output_type": "execute_result"
    }
   ],
   "source": [
    "coeff=(1,-5,-2)\n",
    "raices = sol_quad(coeff)\n",
    "raices"
   ]
  },
  {
   "cell_type": "markdown",
   "id": "25155357",
   "metadata": {},
   "source": [
    "Corroboramos el resultado:"
   ]
  },
  {
   "cell_type": "code",
   "execution_count": 16,
   "id": "d7c3ef19",
   "metadata": {},
   "outputs": [
    {
     "data": {
      "text/plain": [
       "(5.372281323269014, -0.3722813232690143)"
      ]
     },
     "execution_count": 16,
     "metadata": {},
     "output_type": "execute_result"
    }
   ],
   "source": [
    "(5+np.sqrt(33))/2,(5-np.sqrt(33))/2"
   ]
  },
  {
   "cell_type": "code",
   "execution_count": 41,
   "id": "77d17b2e",
   "metadata": {},
   "outputs": [
    {
     "data": {
      "text/plain": [
       "(5.372281323269014, -0.3722813232690143)"
      ]
     },
     "execution_count": 41,
     "metadata": {},
     "output_type": "execute_result"
    }
   ],
   "source": [
    "\"\"\"Entonces tenemos que\"\"\"\n",
    "l1=sol_quad(coeff)[0]\n",
    "l2=sol_quad(coeff)[1]\n",
    "L=(l1,l2)"
   ]
  },
  {
   "cell_type": "markdown",
   "id": "f576eba5",
   "metadata": {},
   "source": [
    "En la siguiente celda calculamos:\n",
    "\n",
    "$A-I\\lambda$"
   ]
  },
  {
   "cell_type": "code",
   "execution_count": 18,
   "id": "d5416fb9",
   "metadata": {},
   "outputs": [
    {
     "data": {
      "text/plain": [
       "array([[-4.37228132,  2.        ],\n",
       "       [ 3.        , -1.37228132]])"
      ]
     },
     "execution_count": 18,
     "metadata": {},
     "output_type": "execute_result"
    }
   ],
   "source": [
    "A1=A-np.identity(2)*L[0]#np.identity(p) crea una matriz identidad de pxp\n",
    "A1"
   ]
  },
  {
   "cell_type": "markdown",
   "id": "8f9bbcbd",
   "metadata": {},
   "source": [
    "Entonces de\n",
    "\n",
    "$(A-I\\lambda)\\vec{x}=0$\n",
    "\n",
    "obtenemos dos ecuaciones para $\\vec{x}=(x1,x2)$"
   ]
  },
  {
   "cell_type": "code",
   "execution_count": 19,
   "id": "8614be40",
   "metadata": {},
   "outputs": [
    {
     "data": {
      "text/plain": [
       "(-4.37228132326901*x1 + 2.0*x2, 3.0*x1 - 1.37228132326901*x2)"
      ]
     },
     "execution_count": 19,
     "metadata": {},
     "output_type": "execute_result"
    }
   ],
   "source": [
    "vec=sp.symbols(\"x1,x2\")\n",
    "ec1= A1[0][0]*vec[0]+A1[0][1]*vec[1]\n",
    "ec2= A1[1][0]*vec[0]+A1[1][1]*vec[1]\n",
    "ec1,ec2"
   ]
  },
  {
   "cell_type": "markdown",
   "id": "75bd467e",
   "metadata": {},
   "source": [
    "Despejando se tiene"
   ]
  },
  {
   "cell_type": "code",
   "execution_count": 43,
   "id": "4719f90e",
   "metadata": {},
   "outputs": [
    {
     "data": {
      "text/plain": [
       "(0.457427107756338*x2, 0.457427107756338*x2)"
      ]
     },
     "execution_count": 43,
     "metadata": {},
     "output_type": "execute_result"
    }
   ],
   "source": [
    "x1_1=-A1[0][1]*vec[1]/A1[0][0]\n",
    "x1_2=-A1[1][1]*vec[1]/A1[1][0]\n",
    "x1_1,x1_2"
   ]
  },
  {
   "cell_type": "markdown",
   "id": "193cee30",
   "metadata": {},
   "source": [
    "Es decir que para $\\lambda_1$ se tiene que $\\vec{x}=(0.457 x,0.457x)$ con $x$ algún número real.\n",
    "\n",
    "Análogamente para $\\lambda_2$"
   ]
  },
  {
   "cell_type": "code",
   "execution_count": null,
   "id": "6eb6d952",
   "metadata": {},
   "outputs": [],
   "source": []
  },
  {
   "cell_type": "markdown",
   "id": "9865b8e3",
   "metadata": {},
   "source": [
    "## Eigenvalores (NxN)"
   ]
  },
  {
   "cell_type": "markdown",
   "id": "f1aaad0f",
   "metadata": {},
   "source": [
    "Ahora, para sistemas matriciales de mayor dimensionalidad existen módulos en la librerías $Numpy$ y $Scipy$ como la función $linalg.eig$ que nos permite calcular los eigenvalores y eigenvectores. "
   ]
  },
  {
   "cell_type": "code",
   "execution_count": 84,
   "id": "e9357a0d",
   "metadata": {},
   "outputs": [
    {
     "data": {
      "text/plain": [
       "(array([13.35310908, -1.75902942,  3.40592034]),\n",
       " array([[ 0.42663918,  0.90353276, -0.04009445],\n",
       "        [ 0.43751227, -0.24498225, -0.8651975 ],\n",
       "        [ 0.79155671, -0.35158534,  0.49982569]]))"
      ]
     },
     "execution_count": 84,
     "metadata": {},
     "output_type": "execute_result"
    }
   ],
   "source": [
    "M1 = np.array([[1,3,5],[3,5,3],[5,3,9]])\n",
    "evals, evecs = np.linalg.eig(M1)\n",
    "evals,evecs"
   ]
  },
  {
   "cell_type": "code",
   "execution_count": 47,
   "id": "8cd3de41",
   "metadata": {},
   "outputs": [
    {
     "name": "stdout",
     "output_type": "stream",
     "text": [
      "Entonces al eigenvalor 13.353109080374303 le corresponde el eigenvector  [0.42663918 0.43751227 0.79155671]\n"
     ]
    }
   ],
   "source": [
    "print(\"Entonces al eigenvalor\",evals[0],\"le corresponde el eigenvector \",  evecs[:,0])# notacion [:,i] "
   ]
  },
  {
   "cell_type": "markdown",
   "id": "17279030",
   "metadata": {},
   "source": [
    "Noteseque la funcion $linalg.eig$ devuelve los eigenvalores en un array $w$, y a cada $w[i]$ le corresponde el eigenvector columna $v[:,i]$"
   ]
  },
  {
   "cell_type": "markdown",
   "id": "cc2476b9",
   "metadata": {},
   "source": [
    "Para corroborar los resultados calculamos $M_1\\vec{x}$ "
   ]
  },
  {
   "cell_type": "markdown",
   "id": "d384a70b",
   "metadata": {},
   "source": [
    "$M_1 \\vec{x} = \\lambda \\vec{x}$"
   ]
  },
  {
   "cell_type": "code",
   "execution_count": 85,
   "id": "1b456d1e",
   "metadata": {},
   "outputs": [
    {
     "data": {
      "text/plain": [
       "array([[ 0.42663918,  2.71059827, -0.20047223],\n",
       "       [ 1.3125368 , -1.22491126, -2.5955925 ],\n",
       "       [ 3.95778355, -1.05475602,  4.49843122]])"
      ]
     },
     "execution_count": 85,
     "metadata": {},
     "output_type": "execute_result"
    }
   ],
   "source": [
    "M1*evecs[0]"
   ]
  },
  {
   "cell_type": "code",
   "execution_count": null,
   "id": "41e707af",
   "metadata": {},
   "outputs": [],
   "source": []
  },
  {
   "cell_type": "code",
   "execution_count": null,
   "id": "ea9258c5",
   "metadata": {},
   "outputs": [],
   "source": []
  },
  {
   "cell_type": "code",
   "execution_count": 23,
   "id": "c737bc29",
   "metadata": {},
   "outputs": [
    {
     "data": {
      "text/plain": [
       "array([[ 0.42663918,  2.71059827, -0.20047223],\n",
       "       [ 1.27991755,  4.51766379, -0.12028334],\n",
       "       [ 2.13319591,  2.71059827, -0.36085002]])"
      ]
     },
     "execution_count": 23,
     "metadata": {},
     "output_type": "execute_result"
    }
   ],
   "source": [
    "M1*evecs[0] # no es la multiplicacion de matrices correcta"
   ]
  },
  {
   "cell_type": "markdown",
   "id": "1e6b6b54",
   "metadata": {},
   "source": [
    "y debería ser igual a $\\lambda \\vec{x}$"
   ]
  },
  {
   "cell_type": "code",
   "execution_count": 50,
   "id": "9d8bc1de",
   "metadata": {},
   "outputs": [
    {
     "data": {
      "text/plain": [
       "array([ 5.69695953, 12.06497147, -0.53538552])"
      ]
     },
     "execution_count": 50,
     "metadata": {},
     "output_type": "execute_result"
    }
   ],
   "source": [
    "evals[0]*evecs[0] # no es la multiplicacion de matrices correcta"
   ]
  },
  {
   "cell_type": "markdown",
   "id": "37490bd7",
   "metadata": {},
   "source": [
    "Si realizamos a mano cada uno de las operaciones de las 2 celdas anteriores observamos que no concuerdan los resultados. Esto se debe a quela multiplicaico de matrices en python no puede calcularse directamente como $M1*M2$, es necesario usar la función $np.dot()$"
   ]
  },
  {
   "cell_type": "markdown",
   "id": "60c7a5f3",
   "metadata": {},
   "source": [
    "Multiplicación correcta"
   ]
  },
  {
   "cell_type": "code",
   "execution_count": 88,
   "id": "73bf832d",
   "metadata": {},
   "outputs": [
    {
     "data": {
      "text/plain": [
       "array([[ 0.42663918,  0.90353276, -0.04009445],\n",
       "       [ 0.43751227, -0.24498225, -0.8651975 ],\n",
       "       [ 0.79155671, -0.35158534,  0.49982569]])"
      ]
     },
     "execution_count": 88,
     "metadata": {},
     "output_type": "execute_result"
    }
   ],
   "source": [
    "evecs"
   ]
  },
  {
   "cell_type": "code",
   "execution_count": 87,
   "id": "3cdb6107",
   "metadata": {},
   "outputs": [
    {
     "data": {
      "text/plain": [
       "array([0.42663918, 0.43751227, 0.79155671])"
      ]
     },
     "execution_count": 87,
     "metadata": {},
     "output_type": "execute_result"
    }
   ],
   "source": [
    "evecs[:,0]"
   ]
  },
  {
   "cell_type": "markdown",
   "id": "224365b4",
   "metadata": {},
   "source": [
    "$M_1 \\vec{x}$"
   ]
  },
  {
   "cell_type": "code",
   "execution_count": 53,
   "id": "b264dec0",
   "metadata": {},
   "outputs": [
    {
     "data": {
      "text/plain": [
       "array([ 5.69695953,  5.842149  , 10.5697431 ])"
      ]
     },
     "execution_count": 53,
     "metadata": {},
     "output_type": "execute_result"
    }
   ],
   "source": [
    "\"multiplicamos la matriz por el eigenvector\"\n",
    "np.dot(M1,evecs[:,0])"
   ]
  },
  {
   "cell_type": "markdown",
   "id": "33de0bed",
   "metadata": {},
   "source": [
    "O de forma equivalente"
   ]
  },
  {
   "cell_type": "code",
   "execution_count": 54,
   "id": "363f6815",
   "metadata": {},
   "outputs": [
    {
     "data": {
      "text/plain": [
       "array([ 5.69695953,  5.842149  , 10.5697431 ])"
      ]
     },
     "execution_count": 54,
     "metadata": {},
     "output_type": "execute_result"
    }
   ],
   "source": [
    "M1.dot(evecs[:,0].T)"
   ]
  },
  {
   "cell_type": "code",
   "execution_count": 55,
   "id": "c8821ded",
   "metadata": {},
   "outputs": [
    {
     "data": {
      "text/plain": [
       "array([ 5.69695953,  5.842149  , 10.5697431 ])"
      ]
     },
     "execution_count": 55,
     "metadata": {},
     "output_type": "execute_result"
    }
   ],
   "source": [
    "M1.dot(evecs[:,0]) #así se multiplica correctamente matrices"
   ]
  },
  {
   "cell_type": "code",
   "execution_count": null,
   "id": "f706af0b",
   "metadata": {},
   "outputs": [],
   "source": []
  },
  {
   "cell_type": "markdown",
   "id": "f64194f1",
   "metadata": {},
   "source": [
    "Ahora calculamos $\\lambda \\vec{x}$"
   ]
  },
  {
   "cell_type": "code",
   "execution_count": 89,
   "id": "652bb7d2",
   "metadata": {},
   "outputs": [
    {
     "data": {
      "text/plain": [
       "array([13.35310908, -1.75902942,  3.40592034])"
      ]
     },
     "execution_count": 89,
     "metadata": {},
     "output_type": "execute_result"
    }
   ],
   "source": [
    "evals"
   ]
  },
  {
   "cell_type": "code",
   "execution_count": 56,
   "id": "2c41b278",
   "metadata": {},
   "outputs": [
    {
     "data": {
      "text/plain": [
       "array([ 5.69695953,  5.842149  , 10.5697431 ])"
      ]
     },
     "execution_count": 56,
     "metadata": {},
     "output_type": "execute_result"
    }
   ],
   "source": [
    "\"multiplicamos el eigenvalor con eigenvector\"\n",
    "v1 = evals[0]*evecs[:,0]\n",
    "v1"
   ]
  },
  {
   "cell_type": "code",
   "execution_count": null,
   "id": "6430cb66",
   "metadata": {},
   "outputs": [],
   "source": []
  },
  {
   "cell_type": "code",
   "execution_count": null,
   "id": "cc4e01ad",
   "metadata": {},
   "outputs": [],
   "source": []
  }
 ],
 "metadata": {
  "kernelspec": {
   "display_name": "Python 3",
   "language": "python",
   "name": "python3"
  },
  "language_info": {
   "codemirror_mode": {
    "name": "ipython",
    "version": 3
   },
   "file_extension": ".py",
   "mimetype": "text/x-python",
   "name": "python",
   "nbconvert_exporter": "python",
   "pygments_lexer": "ipython3",
   "version": "3.8.8"
  }
 },
 "nbformat": 4,
 "nbformat_minor": 5
}
