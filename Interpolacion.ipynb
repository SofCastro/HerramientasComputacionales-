{
 "cells": [
  {
   "cell_type": "markdown",
   "id": "7448f104",
   "metadata": {},
   "source": [
    "# Interpolación"
   ]
  },
  {
   "cell_type": "markdown",
   "id": "fc0efe43",
   "metadata": {},
   "source": [
    "Es un método matématico para construir una función a partir de un conjunto discreto de puntos. La función interpoladora, debe coincidir **exactamente** con cada uno de los valores de los puntos dados y también puede ser evaluada para otro conjunto de valores intermedios entre el conjunto de puntos iniciales. "
   ]
  },
  {
   "cell_type": "markdown",
   "id": "a9e65513",
   "metadata": {},
   "source": [
    "Consideremos el caso de interpolación en una dimension, el cual puede formularse como:\n",
    "\n",
    "* Para un conjunto de $n$ valores $\\lbrace (x_i,y_i) \\rbrace_{i=1}~{n}$, debe encontrarse una función $f(x)$ tal que $f(x_i)=y_i$ para todo $i\\in [1,n]$. \n",
    "\n",
    "La función $f(x)$ se conoce como la función interpoladora.  tipicamente podemos escribir la función interpoladora como una combinacion lineal de funciones bases $\\phi_{j}(x)$, es decir:\n",
    "\n",
    "* Se tiene que $f(x)=\\sum_{j=1}^{n}c_j \\phi_{j}(x)$ donde $c_j$ son coeficentes desconocidos. Sustituyendo los puntos conocidos en esta combilacion linela resulta en un sistema de ecuaciones lineales $\\sum_{j=1}^{n}c_j \\phi_{j}(x)=y_{i}$. El cual puede escribirse de forma matricial\n",
    "\n",
    "$\n",
    "\\left[\\begin{array}{cccc}\n",
    "\\phi_1(x_1)&\\phi_2(x_1)&\\dots&\\phi_n(x_1)\\\\\n",
    "\\phi_1(x_2)&\\phi_2(x_2)&\\dots&\\phi_n(x_2)\\\\\n",
    "\\vdots&\\vdots&\\vdots&\\vdots&\\\\\n",
    "\\phi_1(x_3)&\\phi_2(x_3)&\\dots&\\phi_n(x_3)\n",
    "\\end{array}\n",
    "\\right]\n",
    "\\left[\\begin{array}{c}\n",
    "c_1\\\\\n",
    "c_2\\\\\n",
    "\\vdots\\\\\n",
    "c_n\n",
    "\\end{array}\n",
    "\\right]\n",
    "=\n",
    "\\left[\\begin{array}{c}\n",
    "y_1\\\\\n",
    "y_2\\\\\n",
    "\\vdots\\\\\n",
    "y_n\n",
    "\\end{array}\n",
    "\\right]\n",
    "$\n",
    "\n",
    "\n",
    "* La elección de las funciones base afecta las propiedades del sistema de ecuaciones y una elección adecuada de las funciones bases depende de las caracteristicas de los datos que estan siendo interpolados.\n",
    "\n",
    "* Algunas funciones bases son los polinomios de Legendre, Chebyshev o secciones de polinomios. En general, $f(x)$ no es única, pero para un conjunto de $n$ puntos existe un único polinomio interpolador de orden $n-1$, sin importar que funciones bases fueron consideradas. "
   ]
  },
  {
   "cell_type": "markdown",
   "id": "b1bf2c53",
   "metadata": {},
   "source": [
    "Antes de pasar a revisar algunos ejemplos de interpolación revisemos algunas herramientas que nos permiten construir polinomios."
   ]
  },
  {
   "cell_type": "code",
   "execution_count": 1,
   "id": "d12e1c73",
   "metadata": {},
   "outputs": [],
   "source": [
    "import numpy as np"
   ]
  },
  {
   "cell_type": "code",
   "execution_count": 8,
   "id": "5e95cad4",
   "metadata": {},
   "outputs": [],
   "source": [
    "np.polynomial?"
   ]
  },
  {
   "cell_type": "code",
   "execution_count": 5,
   "id": "b3ba638a",
   "metadata": {},
   "outputs": [],
   "source": [
    "p1 = np.polynomial.Polynomial([1,2,3])"
   ]
  },
  {
   "cell_type": "code",
   "execution_count": 6,
   "id": "0be319b0",
   "metadata": {},
   "outputs": [
    {
     "data": {
      "text/latex": [
       "$x \\mapsto \\text{1.0} + \\text{2.0}\\,x + \\text{3.0}\\,x^{2}$"
      ],
      "text/plain": [
       "Polynomial([1., 2., 3.], domain=[-1,  1], window=[-1,  1])"
      ]
     },
     "execution_count": 6,
     "metadata": {},
     "output_type": "execute_result"
    }
   ],
   "source": [
    "p1"
   ]
  },
  {
   "cell_type": "markdown",
   "id": "c88aa01a",
   "metadata": {},
   "source": [
    "Las raíces de un polinomio son todos los $x_i$ tal que $P(x_i)=0 = y_i$"
   ]
  },
  {
   "cell_type": "markdown",
   "id": "ff79ee68",
   "metadata": {},
   "source": [
    "**domain:** *array like, optional* \n",
    "\n",
    "Es el dominio del polinomio. El intervalo $[domain[0],domain[1]]$ es mapeado al intervalo $[window[0],window[1]]$, es decir se escala el intervalo domain al intervalo de *window*. Valor default $[-1,1]$\n",
    "\n",
    "**window:** *array like, optional* \n",
    "\n",
    "Véase *domain*. Valor default $[-1,1]$\n",
    "\n",
    "Es decir, *domain* esta asociado al dominio del conjunto de puntos a interpolar"
   ]
  },
  {
   "cell_type": "code",
   "execution_count": 28,
   "id": "9160662a",
   "metadata": {},
   "outputs": [],
   "source": [
    "p1 = np.polynomial.Polynomial([1,2,3], domain =[-2,2], window = [-2,2])"
   ]
  },
  {
   "cell_type": "code",
   "execution_count": 29,
   "id": "bd439d7d",
   "metadata": {},
   "outputs": [],
   "source": [
    "x,y=p1.linspace()"
   ]
  },
  {
   "cell_type": "code",
   "execution_count": 30,
   "id": "3cea6762",
   "metadata": {},
   "outputs": [
    {
     "data": {
      "text/plain": [
       "(array([-2.        , -1.95959596, -1.91919192, -1.87878788, -1.83838384,\n",
       "        -1.7979798 , -1.75757576, -1.71717172, -1.67676768, -1.63636364,\n",
       "        -1.5959596 , -1.55555556, -1.51515152, -1.47474747, -1.43434343,\n",
       "        -1.39393939, -1.35353535, -1.31313131, -1.27272727, -1.23232323,\n",
       "        -1.19191919, -1.15151515, -1.11111111, -1.07070707, -1.03030303,\n",
       "        -0.98989899, -0.94949495, -0.90909091, -0.86868687, -0.82828283,\n",
       "        -0.78787879, -0.74747475, -0.70707071, -0.66666667, -0.62626263,\n",
       "        -0.58585859, -0.54545455, -0.50505051, -0.46464646, -0.42424242,\n",
       "        -0.38383838, -0.34343434, -0.3030303 , -0.26262626, -0.22222222,\n",
       "        -0.18181818, -0.14141414, -0.1010101 , -0.06060606, -0.02020202,\n",
       "         0.02020202,  0.06060606,  0.1010101 ,  0.14141414,  0.18181818,\n",
       "         0.22222222,  0.26262626,  0.3030303 ,  0.34343434,  0.38383838,\n",
       "         0.42424242,  0.46464646,  0.50505051,  0.54545455,  0.58585859,\n",
       "         0.62626263,  0.66666667,  0.70707071,  0.74747475,  0.78787879,\n",
       "         0.82828283,  0.86868687,  0.90909091,  0.94949495,  0.98989899,\n",
       "         1.03030303,  1.07070707,  1.11111111,  1.15151515,  1.19191919,\n",
       "         1.23232323,  1.27272727,  1.31313131,  1.35353535,  1.39393939,\n",
       "         1.43434343,  1.47474747,  1.51515152,  1.55555556,  1.5959596 ,\n",
       "         1.63636364,  1.67676768,  1.71717172,  1.75757576,  1.7979798 ,\n",
       "         1.83838384,  1.87878788,  1.91919192,  1.95959596,  2.        ]),\n",
       " array([ 9.        ,  8.60085706,  8.21150903,  7.83195592,  7.46219773,\n",
       "         7.10223447,  6.75206612,  6.41169268,  6.08111417,  5.76033058,\n",
       "         5.4493419 ,  5.14814815,  4.85674931,  4.57514539,  4.30333639,\n",
       "         4.04132231,  3.78910315,  3.54667891,  3.31404959,  3.09121518,\n",
       "         2.8781757 ,  2.67493113,  2.48148148,  2.29782675,  2.12396694,\n",
       "         1.95990205,  1.80563208,  1.66115702,  1.52647689,  1.40159167,\n",
       "         1.28650138,  1.181206  ,  1.08570554,  1.        ,  0.92408938,\n",
       "         0.85797368,  0.80165289,  0.75512703,  0.71839608,  0.69146006,\n",
       "         0.67431895,  0.66697276,  0.66942149,  0.68166514,  0.7037037 ,\n",
       "         0.73553719,  0.7771656 ,  0.82858892,  0.88980716,  0.96082032,\n",
       "         1.04162841,  1.1322314 ,  1.23262932,  1.34282216,  1.46280992,\n",
       "         1.59259259,  1.73217019,  1.8815427 ,  2.04071013,  2.20967248,\n",
       "         2.38842975,  2.57698194,  2.77532905,  2.98347107,  3.20140802,\n",
       "         3.42913988,  3.66666667,  3.91398837,  4.17110499,  4.43801653,\n",
       "         4.71472299,  5.00122436,  5.29752066,  5.60361188,  5.91949801,\n",
       "         6.24517906,  6.58065504,  6.92592593,  7.28099174,  7.64585246,\n",
       "         8.02050811,  8.40495868,  8.79920416,  9.20324457,  9.61707989,\n",
       "        10.04071013, 10.47413529, 10.91735537, 11.37037037, 11.83318029,\n",
       "        12.30578512, 12.78818488, 13.28037955, 13.78236915, 14.29415366,\n",
       "        14.81573309, 15.34710744, 15.88827671, 16.43924089, 17.        ]))"
      ]
     },
     "execution_count": 30,
     "metadata": {},
     "output_type": "execute_result"
    }
   ],
   "source": [
    "x,y"
   ]
  },
  {
   "cell_type": "code",
   "execution_count": 31,
   "id": "b41c1b4f",
   "metadata": {},
   "outputs": [],
   "source": [
    "import matplotlib.pyplot as plt"
   ]
  },
  {
   "cell_type": "code",
   "execution_count": 32,
   "id": "6051b041",
   "metadata": {},
   "outputs": [
    {
     "data": {
      "text/plain": [
       "[<matplotlib.lines.Line2D at 0x1e2ffba6610>]"
      ]
     },
     "execution_count": 32,
     "metadata": {},
     "output_type": "execute_result"
    },
    {
     "data": {
      "image/png": "[encoded data removed]",
      "text/plain": [
       "<Figure size 432x288 with 1 Axes>"
      ]
     },
     "metadata": {
      "needs_background": "light"
     },
     "output_type": "display_data"
    }
   ],
   "source": [
    "plt.plot(x,y)"
   ]
  },
  {
   "cell_type": "code",
   "execution_count": null,
   "id": "ec1b6191",
   "metadata": {},
   "outputs": [],
   "source": []
  },
  {
   "cell_type": "markdown",
   "id": "c8d4a8e5",
   "metadata": {},
   "source": [
    "También podemos construir un polinomio a partir de las raices."
   ]
  },
  {
   "cell_type": "code",
   "execution_count": 37,
   "id": "c775d2cc",
   "metadata": {},
   "outputs": [],
   "source": [
    "p_r1 = np.polynomial.Polynomial.fromroots([-1,1], domain = [-2,2], window = [-2,2])"
   ]
  },
  {
   "cell_type": "code",
   "execution_count": 38,
   "id": "99a9c40a",
   "metadata": {},
   "outputs": [
    {
     "data": {
      "text/latex": [
       "$x \\mapsto \\text{-1.0}\\color{LightGray}{ + \\text{0.0}\\,x} + \\text{1.0}\\,x^{2}$"
      ],
      "text/plain": [
       "Polynomial([-1.,  0.,  1.], domain=[-2.,  2.], window=[-2.,  2.])"
      ]
     },
     "execution_count": 38,
     "metadata": {},
     "output_type": "execute_result"
    }
   ],
   "source": [
    "p_r1"
   ]
  },
  {
   "cell_type": "code",
   "execution_count": 39,
   "id": "bb2d6cf3",
   "metadata": {},
   "outputs": [],
   "source": [
    "x_r,y_r = p_r1.linspace()"
   ]
  },
  {
   "cell_type": "code",
   "execution_count": 40,
   "id": "bfd28c2e",
   "metadata": {},
   "outputs": [
    {
     "data": {
      "text/plain": [
       "[<matplotlib.lines.Line2D at 0x1e2ffc6c4f0>]"
      ]
     },
     "execution_count": 40,
     "metadata": {},
     "output_type": "execute_result"
    },
    {
     "data": {
      "image/png": "[encoded data removed]",
      "text/plain": [
       "<Figure size 432x288 with 1 Axes>"
      ]
     },
     "metadata": {
      "needs_background": "light"
     },
     "output_type": "display_data"
    }
   ],
   "source": [
    "plt.plot(x_r,y_r)"
   ]
  },
  {
   "cell_type": "code",
   "execution_count": null,
   "id": "daac254e",
   "metadata": {},
   "outputs": [],
   "source": []
  },
  {
   "cell_type": "markdown",
   "id": "44fcde7e",
   "metadata": {},
   "source": [
    "También podemos construir un polinomio del cual conocemos mas de 2 raíces"
   ]
  },
  {
   "cell_type": "code",
   "execution_count": 41,
   "id": "7af3f46a",
   "metadata": {},
   "outputs": [],
   "source": [
    "p_r2 =  np.polynomial.Polynomial.fromroots([-1,1,2,3,4], domain = [-1,4], window = [-1,4])"
   ]
  },
  {
   "cell_type": "code",
   "execution_count": 42,
   "id": "da7bf7e2",
   "metadata": {},
   "outputs": [
    {
     "data": {
      "text/latex": [
       "$x \\mapsto \\text{24.0} - \\text{26.0}\\,x - \\text{15.0}\\,x^{2} + \\text{25.0}\\,x^{3} - \\text{9.0}\\,x^{4} + \\text{1.0}\\,x^{5}$"
      ],
      "text/plain": [
       "Polynomial([ 24., -26., -15.,  25.,  -9.,   1.], domain=[-1.,  4.], window=[-1.,  4.])"
      ]
     },
     "execution_count": 42,
     "metadata": {},
     "output_type": "execute_result"
    }
   ],
   "source": [
    "p_r2"
   ]
  },
  {
   "cell_type": "code",
   "execution_count": 47,
   "id": "e64378b0",
   "metadata": {},
   "outputs": [],
   "source": [
    "x_r2,y_r2 = p_r2.linspace()\n",
    "x_d,y_d = np.array([-1,1,2,3,4]),np.array([0,0,0,0,0])"
   ]
  },
  {
   "cell_type": "code",
   "execution_count": 49,
   "id": "7c026fcc",
   "metadata": {},
   "outputs": [
    {
     "data": {
      "text/plain": [
       "[<matplotlib.lines.Line2D at 0x1e2ffde0700>]"
      ]
     },
     "execution_count": 49,
     "metadata": {},
     "output_type": "execute_result"
    },
    {
     "data": {
      "image/png": "[encoded data removed]",
      "text/plain": [
       "<Figure size 432x288 with 1 Axes>"
      ]
     },
     "metadata": {
      "needs_background": "light"
     },
     "output_type": "display_data"
    }
   ],
   "source": [
    "plt.plot(x_d,y_d,\"r.\")\n",
    "plt.plot(x_r2,y_r2)"
   ]
  },
  {
   "cell_type": "markdown",
   "id": "26a2bdbd",
   "metadata": {},
   "source": [
    "Si conocemos el polinomio podemos encontar sus raíces con el método *roots*"
   ]
  },
  {
   "cell_type": "code",
   "execution_count": 51,
   "id": "323aaee8",
   "metadata": {},
   "outputs": [
    {
     "data": {
      "text/latex": [
       "$x \\mapsto \\text{1.0} + \\text{2.0}\\,x + \\text{3.0}\\,x^{2}$"
      ],
      "text/plain": [
       "Polynomial([1., 2., 3.], domain=[-2.,  2.], window=[-2.,  2.])"
      ]
     },
     "execution_count": 51,
     "metadata": {},
     "output_type": "execute_result"
    }
   ],
   "source": [
    "p1"
   ]
  },
  {
   "cell_type": "code",
   "execution_count": 50,
   "id": "ad7812ae",
   "metadata": {},
   "outputs": [
    {
     "data": {
      "text/plain": [
       "array([-0.33333333-0.47140452j, -0.33333333+0.47140452j])"
      ]
     },
     "execution_count": 50,
     "metadata": {},
     "output_type": "execute_result"
    }
   ],
   "source": [
    "p1.roots()"
   ]
  },
  {
   "cell_type": "code",
   "execution_count": 52,
   "id": "94625a81",
   "metadata": {},
   "outputs": [
    {
     "data": {
      "text/plain": [
       "array([-1.,  1.,  2.,  3.,  4.])"
      ]
     },
     "execution_count": 52,
     "metadata": {},
     "output_type": "execute_result"
    }
   ],
   "source": [
    "p_r2.roots()"
   ]
  },
  {
   "cell_type": "markdown",
   "id": "47be3d45",
   "metadata": {},
   "source": [
    "Se puede acceder a las propiedades de un polinomio con lo siguientes métodos:"
   ]
  },
  {
   "cell_type": "code",
   "execution_count": 53,
   "id": "2d42571b",
   "metadata": {},
   "outputs": [
    {
     "data": {
      "text/plain": [
       "array([1., 2., 3.])"
      ]
     },
     "execution_count": 53,
     "metadata": {},
     "output_type": "execute_result"
    }
   ],
   "source": [
    "p1.coef"
   ]
  },
  {
   "cell_type": "code",
   "execution_count": 54,
   "id": "17a87f1e",
   "metadata": {},
   "outputs": [
    {
     "data": {
      "text/plain": [
       "array([-2.,  2.])"
      ]
     },
     "execution_count": 54,
     "metadata": {},
     "output_type": "execute_result"
    }
   ],
   "source": [
    "p1.domain"
   ]
  },
  {
   "cell_type": "code",
   "execution_count": 55,
   "id": "9610bae3",
   "metadata": {},
   "outputs": [
    {
     "data": {
      "text/plain": [
       "array([-2.,  2.])"
      ]
     },
     "execution_count": 55,
     "metadata": {},
     "output_type": "execute_result"
    }
   ],
   "source": [
    "p1.window"
   ]
  },
  {
   "cell_type": "code",
   "execution_count": null,
   "id": "fc9886e6",
   "metadata": {},
   "outputs": [],
   "source": []
  },
  {
   "cell_type": "markdown",
   "id": "e0c2136f",
   "metadata": {},
   "source": [
    "El polinomio creado con *Polynomial* puede ser evaluado en puntos deseados, por ejemplo $x=\\{ 1.5,2.5,3.5\\}$"
   ]
  },
  {
   "cell_type": "code",
   "execution_count": 56,
   "id": "8c2cc79a",
   "metadata": {},
   "outputs": [],
   "source": [
    "x_set = np.array([1.5,2.5,3.5])"
   ]
  },
  {
   "cell_type": "code",
   "execution_count": 57,
   "id": "64d0d47a",
   "metadata": {},
   "outputs": [
    {
     "data": {
      "text/plain": [
       "array([10.75, 24.75, 44.75])"
      ]
     },
     "execution_count": 57,
     "metadata": {},
     "output_type": "execute_result"
    }
   ],
   "source": [
    "p1(x_set)"
   ]
  },
  {
   "cell_type": "markdown",
   "id": "013924bf",
   "metadata": {},
   "source": [
    "Podemos realizar las operaciones básicas"
   ]
  },
  {
   "cell_type": "code",
   "execution_count": 58,
   "id": "18c14e3d",
   "metadata": {},
   "outputs": [
    {
     "data": {
      "text/latex": [
       "$x \\mapsto \\text{1.0}$"
      ],
      "text/plain": [
       "Polynomial([1.], domain=[-2.,  2.], window=[-2.,  2.])"
      ]
     },
     "execution_count": 58,
     "metadata": {},
     "output_type": "execute_result"
    }
   ],
   "source": [
    "p1//p1"
   ]
  },
  {
   "cell_type": "code",
   "execution_count": 59,
   "id": "24879a7a",
   "metadata": {},
   "outputs": [
    {
     "data": {
      "text/latex": [
       "$x \\mapsto \\text{24.0} - \\text{26.0}\\,x - \\text{15.0}\\,x^{2} + \\text{25.0}\\,x^{3} - \\text{9.0}\\,x^{4} + \\text{1.0}\\,x^{5}$"
      ],
      "text/plain": [
       "Polynomial([ 24., -26., -15.,  25.,  -9.,   1.], domain=[-1.,  4.], window=[-1.,  4.])"
      ]
     },
     "execution_count": 59,
     "metadata": {},
     "output_type": "execute_result"
    }
   ],
   "source": [
    "p_r2"
   ]
  },
  {
   "cell_type": "code",
   "execution_count": 64,
   "id": "b434849d",
   "metadata": {},
   "outputs": [
    {
     "data": {
      "text/latex": [
       "$x \\mapsto \\text{-2.0} + \\text{1.0}\\,x$"
      ],
      "text/plain": [
       "Polynomial([-2.,  1.], domain=[-1.,  4.], window=[-1.,  4.])"
      ]
     },
     "execution_count": 64,
     "metadata": {},
     "output_type": "execute_result"
    }
   ],
   "source": [
    "p_r3 = np.polynomial.Polynomial.fromroots([2],domain = [-1,4], window = [-1,4])\n",
    "p_r3"
   ]
  },
  {
   "cell_type": "code",
   "execution_count": 67,
   "id": "77086e6c",
   "metadata": {},
   "outputs": [
    {
     "data": {
      "text/latex": [
       "$x \\mapsto \\text{-12.0} + \\text{7.0}\\,x + \\text{11.0}\\,x^{2} - \\text{7.0}\\,x^{3} + \\text{1.0}\\,x^{4}$"
      ],
      "text/plain": [
       "Polynomial([-12.,   7.,  11.,  -7.,   1.], domain=[-1.,  4.], window=[-1.,  4.])"
      ]
     },
     "execution_count": 67,
     "metadata": {},
     "output_type": "execute_result"
    }
   ],
   "source": [
    "p_div = p_r2//p_r3\n",
    "p_div"
   ]
  },
  {
   "cell_type": "code",
   "execution_count": 70,
   "id": "0afd9d55",
   "metadata": {},
   "outputs": [
    {
     "data": {
      "text/plain": [
       "array([-1.,  1.,  2.,  3.,  4.])"
      ]
     },
     "execution_count": 70,
     "metadata": {},
     "output_type": "execute_result"
    }
   ],
   "source": [
    "p_r2.roots()"
   ]
  },
  {
   "cell_type": "code",
   "execution_count": 69,
   "id": "303b49a5",
   "metadata": {},
   "outputs": [
    {
     "data": {
      "text/plain": [
       "array([-1.,  1.,  3.,  4.])"
      ]
     },
     "execution_count": 69,
     "metadata": {},
     "output_type": "execute_result"
    }
   ],
   "source": [
    "p_div.roots()"
   ]
  },
  {
   "cell_type": "markdown",
   "id": "85c944b5",
   "metadata": {},
   "source": [
    "## Interpolación de polinomios"
   ]
  },
  {
   "cell_type": "markdown",
   "id": "c8edf6ce",
   "metadata": {},
   "source": [
    "Recordemos que $f(x)=\\sum_{j=1}^{n}c_j \\phi_{j}(x)$ donde $c_j$ son coeficentes desconocidos. Sustituyendo los puntos conocidos en esta combinación lineal resulta en un sistema de ecuaciones lineales $\\sum_{j=1}^{n}c_j \\phi_{j}(x)=y_{i}$. El cual puede escribirse de forma matricial como $\\Phi(x)c=y$, donde\n",
    "\n",
    "$\\Phi(x)c=y$\n",
    "\n",
    "$\n",
    "\\left[\\begin{array}{cccc}\n",
    "\\phi_1(x_1)&\\phi_2(x_1)&\\dots&\\phi_n(x_1)\\\\\n",
    "\\phi_1(x_2)&\\phi_2(x_2)&\\dots&\\phi_n(x_2)\\\\\n",
    "\\vdots&\\vdots&\\vdots&\\vdots&\\\\\n",
    "\\phi_1(x_3)&\\phi_2(x_3)&\\dots&\\phi_n(x_3)\n",
    "\\end{array}\n",
    "\\right]\n",
    "\\left[\\begin{array}{c}\n",
    "c_1\\\\\n",
    "c_2\\\\\n",
    "\\vdots\\\\\n",
    "c_n\n",
    "\\end{array}\n",
    "\\right]\n",
    "=\n",
    "\\left[\\begin{array}{c}\n",
    "y_1\\\\\n",
    "y_2\\\\\n",
    "\\vdots\\\\\n",
    "y_n\n",
    "\\end{array}\n",
    "\\right]\n",
    "$\n",
    "\n",
    "Resolviendo esta ecuación matricial podemos obtener la función que interpola un conjunto de puntos dado."
   ]
  },
  {
   "cell_type": "markdown",
   "id": "b3213ee7",
   "metadata": {},
   "source": [
    "## Ejemplo:"
   ]
  },
  {
   "cell_type": "markdown",
   "id": "b84a8110",
   "metadata": {},
   "source": [
    "Consideremos el conjunto de puntos $(1,1), (2,3), (3,5)$ y $(4,4)$. Encuentre una función que interpole los puntos anteriores."
   ]
  },
  {
   "cell_type": "code",
   "execution_count": 71,
   "id": "245ec740",
   "metadata": {},
   "outputs": [],
   "source": [
    "x_coord = np.array([1,2,3,4])\n",
    "y_coord = np.array([1,3,5,4])"
   ]
  },
  {
   "cell_type": "markdown",
   "id": "662d82c8",
   "metadata": {},
   "source": [
    "Recordemos que para interpolar un polinomio en un conjunto de $n$ datos es necesario un polinomio de grado $n-1$. Entonces, considerando las funciones base como $x^i$, queremos encontrar los coeficientes $c_i$ tal que $f(x) =  \\sum_{i=1}^{i=4}c_ix^{i-1} = c_1x^0+c_2x^1+c_3x^2+c_4x^3$"
   ]
  },
  {
   "cell_type": "code",
   "execution_count": 75,
   "id": "362b0141",
   "metadata": {},
   "outputs": [
    {
     "data": {
      "text/plain": [
       "array([[ 1.,  1.,  1.,  1.],\n",
       "       [ 1.,  2.,  4.,  8.],\n",
       "       [ 1.,  3.,  9., 27.],\n",
       "       [ 1.,  4., 16., 64.]])"
      ]
     },
     "execution_count": 75,
     "metadata": {},
     "output_type": "execute_result"
    }
   ],
   "source": [
    "deg = len(x_coord)-1\n",
    "A = np.polynomial.polynomial.polyvander(x_coord,deg)\n",
    "A"
   ]
  },
  {
   "cell_type": "markdown",
   "id": "4612e7c9",
   "metadata": {},
   "source": [
    "es decir, que la fucnción interpoladora es:"
   ]
  },
  {
   "cell_type": "code",
   "execution_count": 76,
   "id": "d7d52767",
   "metadata": {},
   "outputs": [
    {
     "data": {
      "text/plain": [
       "array([ 2. , -3.5,  3. , -0.5])"
      ]
     },
     "execution_count": 76,
     "metadata": {},
     "output_type": "execute_result"
    }
   ],
   "source": [
    "c = np.linalg.solve(A,y_coord)\n",
    "c"
   ]
  },
  {
   "cell_type": "code",
   "execution_count": 92,
   "id": "bebbf6ec",
   "metadata": {},
   "outputs": [],
   "source": [
    "f1 = np.polynomial.Polynomial(c, domain = [-1,5], window = [-1,5])"
   ]
  },
  {
   "cell_type": "code",
   "execution_count": 93,
   "id": "2253f3fd",
   "metadata": {},
   "outputs": [
    {
     "data": {
      "text/latex": [
       "$x \\mapsto \\text{2.0} - \\text{3.5}\\,x + \\text{3.0}\\,x^{2} - \\text{0.5}\\,x^{3}$"
      ],
      "text/plain": [
       "Polynomial([ 2. , -3.5,  3. , -0.5], domain=[-1.,  5.], window=[-1.,  5.])"
      ]
     },
     "execution_count": 93,
     "metadata": {},
     "output_type": "execute_result"
    }
   ],
   "source": [
    "f1"
   ]
  },
  {
   "cell_type": "code",
   "execution_count": 94,
   "id": "b043b47e",
   "metadata": {},
   "outputs": [],
   "source": [
    "x,y = f1.linspace()"
   ]
  },
  {
   "cell_type": "code",
   "execution_count": 95,
   "id": "ebd5e1a2",
   "metadata": {},
   "outputs": [
    {
     "data": {
      "text/plain": [
       "[<matplotlib.lines.Line2D at 0x1e2990833a0>]"
      ]
     },
     "execution_count": 95,
     "metadata": {},
     "output_type": "execute_result"
    },
    {
     "data": {
      "image/png": "[encoded data removed]",
      "text/plain": [
       "<Figure size 432x288 with 1 Axes>"
      ]
     },
     "metadata": {
      "needs_background": "light"
     },
     "output_type": "display_data"
    }
   ],
   "source": [
    "plt.plot(x_coord,y_coord,\"r.\")\n",
    "plt.plot(x,y)"
   ]
  },
  {
   "cell_type": "markdown",
   "id": "0acd830a",
   "metadata": {},
   "source": [
    "La cual puede ser usada para evaluar en algún  punto del dominio"
   ]
  },
  {
   "cell_type": "code",
   "execution_count": 87,
   "id": "102fc502",
   "metadata": {},
   "outputs": [
    {
     "data": {
      "text/plain": [
       "0.8515625"
      ]
     },
     "execution_count": 87,
     "metadata": {},
     "output_type": "execute_result"
    }
   ],
   "source": [
    "f1(0.75)"
   ]
  },
  {
   "cell_type": "code",
   "execution_count": null,
   "id": "91f7eed9",
   "metadata": {},
   "outputs": [],
   "source": []
  },
  {
   "cell_type": "code",
   "execution_count": null,
   "id": "8c9492e6",
   "metadata": {},
   "outputs": [],
   "source": []
  },
  {
   "cell_type": "code",
   "execution_count": null,
   "id": "71d1624e",
   "metadata": {},
   "outputs": [],
   "source": []
  },
  {
   "cell_type": "code",
   "execution_count": null,
   "id": "01ddb065",
   "metadata": {},
   "outputs": [],
   "source": []
  },
  {
   "cell_type": "code",
   "execution_count": null,
   "id": "6e1d0f44",
   "metadata": {},
   "outputs": [],
   "source": []
  },
  {
   "cell_type": "markdown",
   "id": "46bef8cc",
   "metadata": {},
   "source": [
    "# Tarea 5"
   ]
  },
  {
   "cell_type": "markdown",
   "id": "71ac9212",
   "metadata": {},
   "source": [
    "1.- Considerando la ecuación de onda en dos dimensiones\n",
    "\n",
    "$\n",
    "\\dfrac{\\partial^2 u}{\\partial t^2} =c^2\\left(\\dfrac{\\partial^2 u}{\\partial x^2} +\\dfrac{\\partial^2 u}{\\partial y^2}\\right)\n",
    "$\n",
    "\n",
    "cuya condición inicial es $u_{i,j}^{n=0}= exp(-0.5(x-Lx/2.0)^2 - 0.5(y-Ly/2.0)^2)$, donde el dominio $D$ de la PDE es el cuadrado de longitud $L=10$ y $u(\\partial D)=0$ para todo $t$.\n",
    "\n",
    "Encuentra $u$ para $n=0,1,2\\dots,10$ y grafica con el método *subplots* cada una de las soluciones. Hint: Usa los mismo parametros que vimos en clase.\n",
    "    \n",
    "2.-Investiga la definicion de los polinomios de Chebyshev y explica brevemente como se construyen.\n",
    "* Considerando el ejemplo visto en clase, interpola los puntos $(1,1), (2,.3), (3,5)$ y $(4,4)$ utilizando como función base los polinomios de Chebyshev. Hint: revisa el módulo numpy.polynomial.chebyshev.chebvander\n",
    "\n",
    "\n",
    "3.- Grafica los puntos a interpolar, la funcion interpoladora encontrada utilizando como funciones base potencias $x$ (relizado en clase) y la que encontraste utilizando polinomios de Chebyshev. ¿Que puede decir de lo que se observa en la gráfica?"
   ]
  },
  {
   "cell_type": "code",
   "execution_count": null,
   "id": "ab046028",
   "metadata": {},
   "outputs": [],
   "source": []
  }
 ],
 "metadata": {
  "kernelspec": {
   "display_name": "Python 3",
   "language": "python",
   "name": "python3"
  },
  "language_info": {
   "codemirror_mode": {
    "name": "ipython",
    "version": 3
   },
   "file_extension": ".py",
   "mimetype": "text/x-python",
   "name": "python",
   "nbconvert_exporter": "python",
   "pygments_lexer": "ipython3",
   "version": "3.8.8"
  }
 },
 "nbformat": 4,
 "nbformat_minor": 5
}
