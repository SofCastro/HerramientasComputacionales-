{
 "cells": [
  {
   "cell_type": "code",
   "execution_count": null,
   "id": "2509452a",
   "metadata": {},
   "outputs": [],
   "source": []
  },
  {
   "cell_type": "markdown",
   "id": "a8d02a3c",
   "metadata": {},
   "source": [
    "# Clasificación de PDE"
   ]
  },
  {
   "cell_type": "markdown",
   "id": "a9fbbb16",
   "metadata": {},
   "source": [
    "Consideremos ecuaciones diferenciales parciales de segundo orden con dos variables independientes, las cuales se pueden expresar como \n",
    "\n",
    "$\n",
    "au_{xx}+bu_{xy}+cu_{yy}+du_{x}+eu_{y}+fu=0\n",
    "$\n",
    "\n",
    "Las soluciones a las ecuaciones con la forma anteiror tiene diferentes propiedades dependientdo de los coeficientes de los terminos de mayor orden, es decir $a,b,c$. Podemos clasificar estas ecuaciones en tres categorias:\n",
    "\n",
    "* Hiperbólica si $b^2-4ac> 0$\n",
    "* Parabólica si $b^2-4ac= 0$\n",
    "* Elíptica si $b^2-4ac< 0$\n"
   ]
  },
  {
   "cell_type": "markdown",
   "id": "42bf5e40",
   "metadata": {},
   "source": [
    "## Teorema"
   ]
  },
  {
   "cell_type": "markdown",
   "id": "4bd31cca",
   "metadata": {},
   "source": [
    "Mediante una transformación lineal de las variables independientes, cualquier ecuación de la forma:\n",
    "$\n",
    "au_{xx}+bu_{xy}+cu_{yy}+du_{x}+eu_{y}+fu=0\n",
    "$\n",
    " puede reducirse a alguna de las siguiente formas:\n",
    " \n",
    "* Hiperbólica si $b^2-4ac> 0$\n",
    "\n",
    "$u_{xx}-u_{yy}+\\ldots = 0$\n",
    "* Parabólica si $b^2-4ac= 0$\n",
    "\n",
    "$u_{xx}+\\ldots = 0$\n",
    "* Elíptica si $b^2-4ac< 0$\n",
    "\n",
    "$u_{xx}+u_{yy}+\\ldots = 0$\n",
    "\n",
    "\n",
    "donde $\\ldots$ representa los términos de menor orden."
   ]
  },
  {
   "cell_type": "markdown",
   "id": "c3da3e01",
   "metadata": {},
   "source": [
    "## Teorema"
   ]
  },
  {
   "cell_type": "markdown",
   "id": "27176be0",
   "metadata": {},
   "source": [
    "Considere la siguiente PDE $u_{xx}+u_{yy}=0$"
   ]
  },
  {
   "cell_type": "markdown",
   "id": "5f62ad2f",
   "metadata": {},
   "source": [
    "¿De que tipo es la PDE anterior?"
   ]
  },
  {
   "cell_type": "markdown",
   "id": "a338d0b4",
   "metadata": {},
   "source": [
    "Elíptica"
   ]
  },
  {
   "cell_type": "code",
   "execution_count": null,
   "id": "2aba63e3",
   "metadata": {},
   "outputs": [],
   "source": []
  },
  {
   "cell_type": "markdown",
   "id": "a00b6fba",
   "metadata": {},
   "source": [
    "# Método Crank-Nicholson"
   ]
  },
  {
   "cell_type": "markdown",
   "id": "bff21757",
   "metadata": {},
   "source": [
    "Este método se basa en diferencias finitas para resolver una ecuación diferencial parcial. Fue desarrollado por John Crank y Phyllis Nicholson a mediados del siglo 20.\n",
    "\n",
    "Este método es una combinación del método de Euler forward y backward\n",
    "\n",
    "$\\dfrac{u_{i}^{n+1}-u_{i}^{n}}{\\Delta t}=F_{i}^{n}\\left(u,x,t,\\dfrac{\\partial u}{\\partial x},\\dfrac{\\partial^2 u}{\\partial x^2}\\right)\\rightarrow$ Forward\n",
    "\n",
    "$\\dfrac{u_{i}^{n+1}-u_{i}^{n}}{\\Delta t}=F_{i+1}^{n+1}\\left(u,x,t,\\dfrac{\\partial u}{\\partial x},\\dfrac{\\partial^2 u}{\\partial x^2}\\right)\\rightarrow$ Backward\n",
    "\n",
    "es decir\n",
    "\n",
    "$\\dfrac{u_{i}^{n+1}-u_{i}^{n}}{\\Delta t}=\\dfrac{1}{2}\\left(F_{i+1}^{n+1}\\left(u,x,t,\\dfrac{\\partial u}{\\partial x},\\dfrac{\\partial^2 u}{\\partial x^2}\\right)+F_{i}^{n}\\left(u,x,t,\\dfrac{\\partial u}{\\partial x},\\dfrac{\\partial^2 u}{\\partial x^2}\\right)\\right)$ "
   ]
  },
  {
   "cell_type": "markdown",
   "id": "69e786dd",
   "metadata": {},
   "source": [
    "# Ejemplo:"
   ]
  },
  {
   "cell_type": "markdown",
   "id": "71c708f3",
   "metadata": {},
   "source": [
    "Consideremos la ecuación de calor\n",
    "\n",
    "$\\dfrac{\\partial^2 u}{\\partial^2 x}-\\dfrac{\\partial u}{\\partial t}=0$ en el intervalo $[0,1]$ con las condiciones de frontera $u(x=0,t)=0$, $u(x=1,t)=0$, $u(x,t=0)=2x$ si $x\\leq 0.5$ y $u(x,t=0)=2(1-x)$ si $0.5<x$."
   ]
  },
  {
   "cell_type": "markdown",
   "id": "a10cd4c9",
   "metadata": {},
   "source": [
    "Entonces, sustituyendo la expresión de diferencias finitas para las derivadas de segundo orden se tiene\n",
    "\n",
    "$\n",
    "\\dfrac{u_{i}^{n+1}-u_{i}^{n}}{\\Delta t}=\\dfrac{1}{2\\Delta x^2}\\left((u_{i+1}^{n+1}-2u_{i}^{n+1}+u_{i-1}^{n+1})+(u_{i+1}^{n}-2u_{i}^{n}+u_{i-1}^{n})\\right)\n",
    "$\n",
    "\n",
    "definiendo $\\lambda = \\dfrac{\\Delta t}{2\\Delta x^2}$ tenemos\n",
    "\n",
    "$\n",
    "-\\lambda u_{i+1}^{n+1}+(1+2\\lambda)u_{i}^{n+1}-\\lambda u_{i-1}^{n+1}=\\lambda u_{i+1}^{n}+(1-2\\lambda)u_{i}^{n}+\\lambda u_{i-1}^{n}\n",
    "$\n",
    "\n",
    "notemos que el indice $n$ corresponde a la variable $t$ y el indice $i$ a la variable $x$. Y que la expresión anterior nos permite calcular $u$ para el tiempo $n+1$ a partir de conocer $u$ al tiempo $n$"
   ]
  },
  {
   "cell_type": "code",
   "execution_count": 1,
   "id": "7a62d219",
   "metadata": {},
   "outputs": [],
   "source": [
    "import numpy as np\n",
    "import matplotlib.pyplot as plt"
   ]
  },
  {
   "cell_type": "code",
   "execution_count": 3,
   "id": "8ce61bcf",
   "metadata": {},
   "outputs": [],
   "source": [
    "N=5\n",
    "x_coord =  np.linspace(0,1,N)\n",
    "t_coord =  np.linspace(0,1,N)"
   ]
  },
  {
   "cell_type": "code",
   "execution_count": 8,
   "id": "df550686",
   "metadata": {},
   "outputs": [],
   "source": [
    "X,Y = np.meshgrid(x_coord,t_coord)\n",
    "X_int,Y_int = np.meshgrid(x_coord[1:-1],t_coord[1:])"
   ]
  },
  {
   "cell_type": "code",
   "execution_count": 15,
   "id": "2af4166b",
   "metadata": {},
   "outputs": [
    {
     "data": {
      "text/plain": [
       "Text(0, 0.5, 't (n)')"
      ]
     },
     "execution_count": 15,
     "metadata": {},
     "output_type": "execute_result"
    },
    {
     "data": {
      "image/png": "[encoded data removed]",
      "text/plain": [
       "<Figure size 432x288 with 1 Axes>"
      ]
     },
     "metadata": {
      "needs_background": "light"
     },
     "output_type": "display_data"
    }
   ],
   "source": [
    "plt.scatter (X,Y)\n",
    "plt.scatter (X_int,Y_int)\n",
    "plt.xlabel(\"x (i)\", fontsize=18)\n",
    "plt.ylabel(\"t (n)\", fontsize=18)"
   ]
  },
  {
   "cell_type": "markdown",
   "id": "418e3b1b",
   "metadata": {},
   "source": [
    "$\n",
    "-\\lambda u_{i+1}^{n+1}+(1+2\\lambda)u_{i}^{n+1}-\\lambda u_{i-1}^{n+1}=\\lambda u_{i+1}^{n}+(1-2\\lambda)u_{i}^{n}+\\lambda u_{i-1}^{n}\n",
    "$"
   ]
  },
  {
   "cell_type": "markdown",
   "id": "c2884577",
   "metadata": {},
   "source": [
    "Para $n=0,i=1$ se tiene:\n",
    "\n",
    "$\n",
    "-\\lambda u_{2}^{1}+(1+2\\lambda)u_{1}^{1}-\\lambda u_{0}^{1}=\\lambda u_{2}^{0}+(1-2\\lambda)u_{1}^{0}+\\lambda u_{0}^{0}\n",
    "$\n",
    "\n",
    "Notemos que el lado derecho de la ecuación es conocido, ya que son las condiciones de frontera. \n",
    "\n",
    "Si $n=0, i=2$\n",
    "\n",
    "$\n",
    "-\\lambda u_{3}^{1}+(1+2\\lambda)u_{2}^{1}-\\lambda u_{1}^{1}=\\lambda u_{3}^{0}+(1-2\\lambda)u_{2}^{0}+\\lambda u_{1}^{0}\n",
    "$\n",
    "\n",
    "Si $n=0, i=3$\n",
    "\n",
    "$\n",
    "-\\lambda u_{4}^{1}+(1+2\\lambda)u_{3}^{1}-\\lambda u_{2}^{1}=\\lambda u_{4}^{0}+(1-2\\lambda)u_{3}^{0}+\\lambda u_{2}^{0}\n",
    "$\n",
    "\n",
    "Si $n=0, i=4$ tenemos la condicion de frontera $u_4^0=0$\n"
   ]
  },
  {
   "cell_type": "markdown",
   "id": "d0701b6e",
   "metadata": {},
   "source": [
    "Las ecuaciones anteriores se pueden escribir de manera matricial como:\n",
    "\n",
    "$\n",
    "\\left[\\begin{array}{ccccc}\n",
    "1&0&0&0&0\\\\\n",
    "-\\lambda & 1+2\\lambda& -\\lambda &0 & 0\\\\\n",
    "0&-\\lambda & 1+2\\lambda& -\\lambda &0\\\\\n",
    "0& 0&-\\lambda & 1+2\\lambda& -\\lambda\\\\\n",
    "0&0&0&0&1\n",
    "\\end{array}\\right]\n",
    "\\left[\\begin{array}{c}\n",
    "u_0^1\\\\\n",
    "u_1^1\\\\\n",
    "u_2^1\\\\\n",
    "u_3^1\\\\\n",
    "u_4^1\\\\\n",
    "\\end{array}\\right]\n",
    "=\n",
    "\\left[\\begin{array}{c}\n",
    "0\\\\\n",
    "\\lambda u_2^0 + (1-2\\lambda) u_1^0+\\lambda u_0^0\\\\\n",
    "\\lambda u_{3}^{0}+(1-2\\lambda)u_{2}^{0}+\\lambda u_{1}^{0}\\\\\n",
    "\\lambda u_{4}^{0}+(1-2\\lambda)u_{3}^{0}+\\lambda u_{2}^{0}\\\\\n",
    "0\\\\\n",
    "\\end{array}\\right]\\cdots (1)\n",
    "$"
   ]
  },
  {
   "cell_type": "markdown",
   "id": "2dbb4cae",
   "metadata": {},
   "source": [
    "Entonces resolviendo el sistema anterior de ecuaciones podemos encontrar los valores del vector  \n",
    "\n",
    "$u(x,t_{n=1})=\\left[\\begin{array}{c}\n",
    "u_0^1\\\\\n",
    "u_1^1\\\\\n",
    "u_2^1\\\\\n",
    "u_3^1\\\\\n",
    "u_4^1\\\\\n",
    "\\end{array}\\right]$\n",
    "\n",
    "es decir $u$ para el tiempo $n=1$\n",
    "\n",
    "La euación (1) se puede generalizar para los diferenctes valores de $n$:\n",
    "\n",
    "$\n",
    "\\left[\\begin{array}{ccccc}\n",
    "1&0&0&0&0\\\\\n",
    "-\\lambda & 1+2\\lambda& -\\lambda &0 & 0\\\\\n",
    "0&-\\lambda & 1+2\\lambda& -\\lambda &0\\\\\n",
    "0& 0&-\\lambda & 1+2\\lambda& -\\lambda\\\\\n",
    "0&0&0&0&1\n",
    "\\end{array}\\right]\n",
    "\\left[\\begin{array}{c}\n",
    "u_0^{n+1}\\\\\n",
    "u_1^{n+1}\\\\\n",
    "u_2^{n+1}\\\\\n",
    "u_3^{n+1}\\\\\n",
    "u_4^{n+1}\\\\\n",
    "\\end{array}\\right]\n",
    "=\n",
    "\\left[\\begin{array}{c}\n",
    "0\\\\\n",
    "\\lambda u_2^n + (1-2\\lambda) u_1^n+\\lambda u_0^n\\\\\n",
    "\\lambda u_{3}^{n}+(1-2\\lambda)u_{2}^{n}+\\lambda u_{1}^{n}\\\\\n",
    "\\lambda u_{4}^{n}+(1-2\\lambda)u_{3}^{n}+\\lambda u_{2}^{n}\\\\\n",
    "0\\\\\n",
    "\\end{array}\\right]\\cdots (1)\n",
    "$\n"
   ]
  },
  {
   "cell_type": "markdown",
   "id": "95500ef7",
   "metadata": {},
   "source": [
    "Es decir, que tenemos una ecuacion de la forma $Au=b$.\n",
    "\n",
    "Para implementar el método primero definimos"
   ]
  },
  {
   "cell_type": "code",
   "execution_count": 42,
   "id": "17ed07dc",
   "metadata": {},
   "outputs": [],
   "source": [
    "N = 5\n",
    "x = np.linspace(0,1,N)\n",
    "dt = 5e-2\n",
    "dx = x[1]-x[0]\n",
    "l = dt/(2*dx**2)"
   ]
  },
  {
   "cell_type": "markdown",
   "id": "5e81d1fe",
   "metadata": {},
   "source": [
    "Luego comenzamos a construir la matriz $A$"
   ]
  },
  {
   "cell_type": "code",
   "execution_count": 43,
   "id": "78f14a0b",
   "metadata": {},
   "outputs": [
    {
     "data": {
      "text/plain": [
       "array([[ 1.8, -0.4,  0. ,  0. ,  0. ],\n",
       "       [-0.4,  1.8, -0.4,  0. ,  0. ],\n",
       "       [ 0. , -0.4,  1.8, -0.4,  0. ],\n",
       "       [ 0. ,  0. , -0.4,  1.8, -0.4],\n",
       "       [ 0. ,  0. ,  0. , -0.4,  1.8]])"
      ]
     },
     "execution_count": 43,
     "metadata": {},
     "output_type": "execute_result"
    }
   ],
   "source": [
    "A_1 = (1+2*l)*np.eye(N)-l*np.eye(N,k=1)-l*np.eye(N,k=-1)\n",
    "A_1"
   ]
  },
  {
   "cell_type": "markdown",
   "id": "ebe9b548",
   "metadata": {},
   "source": [
    "Agregamos las codiciones de frontera"
   ]
  },
  {
   "cell_type": "code",
   "execution_count": 44,
   "id": "e75804d8",
   "metadata": {},
   "outputs": [],
   "source": [
    "A_1[0][0] = 1\n",
    "A_1[0][1] = 0\n",
    "A_1[-1][-1] = 1\n",
    "A_1[-1][-2] = 0\n",
    "A = A_1"
   ]
  },
  {
   "cell_type": "markdown",
   "id": "275cc057",
   "metadata": {},
   "source": [
    "Ahora definimos las condiciones inciales $u^0= u(x,t_{n=0})$\n",
    "\n",
    "$u(x,t=0)=2x$ si $x\\leq 0.5$ y $u(x,t=0)=2(1-x)$ si $0.5<x$."
   ]
  },
  {
   "cell_type": "code",
   "execution_count": 45,
   "id": "98d7b4b8",
   "metadata": {},
   "outputs": [
    {
     "data": {
      "text/plain": [
       "array([0. , 0.5, 1. , 0.5, 0. ])"
      ]
     },
     "execution_count": 45,
     "metadata": {},
     "output_type": "execute_result"
    }
   ],
   "source": [
    "u_t0 = np.zeros(N)\n",
    "x = np.linspace(0,1,N)\n",
    "j = 0\n",
    "for i in x:\n",
    "    if i <= 0.5:\n",
    "        u_t0[j] = 2*i\n",
    "    else:\n",
    "        u_t0[j] = 2*(1-i)\n",
    "    j += 1\n",
    "u_t0"
   ]
  },
  {
   "cell_type": "markdown",
   "id": "a16aadf5",
   "metadata": {},
   "source": [
    "Nuestra condición inicial es:"
   ]
  },
  {
   "cell_type": "code",
   "execution_count": 46,
   "id": "f819476c",
   "metadata": {},
   "outputs": [
    {
     "data": {
      "text/plain": [
       "[<matplotlib.lines.Line2D at 0x1e5ff6f1d00>]"
      ]
     },
     "execution_count": 46,
     "metadata": {},
     "output_type": "execute_result"
    },
    {
     "data": {
      "image/png": "[encoded data removed]",
      "text/plain": [
       "<Figure size 432x288 with 1 Axes>"
      ]
     },
     "metadata": {
      "needs_background": "light"
     },
     "output_type": "display_data"
    }
   ],
   "source": [
    "plt.plot(x,u_t0)"
   ]
  },
  {
   "cell_type": "markdown",
   "id": "f8792853",
   "metadata": {},
   "source": [
    "Para ver como evoluciona con el tiempo tenemos que calcular el vector $b$"
   ]
  },
  {
   "cell_type": "markdown",
   "id": "a3fcaca6",
   "metadata": {},
   "source": [
    "$\\left[\\begin{array}{c}\n",
    "0\\\\\n",
    "\\lambda u_2^0 + (1-2\\lambda) u_1^0+\\lambda u_0^0\\\\\n",
    "\\lambda u_{3}^{0}+(1-2\\lambda)u_{2}^{0}+\\lambda u_{1}^{0}\\\\\n",
    "\\lambda u_{4}^{0}+(1-2\\lambda)u_{3}^{0}+\\lambda u_{2}^{0}\\\\\n",
    "0\\\\\n",
    "\\end{array}\\right]$"
   ]
  },
  {
   "cell_type": "code",
   "execution_count": 50,
   "id": "8c7f2aa8",
   "metadata": {},
   "outputs": [
    {
     "data": {
      "text/plain": [
       "array([0. , 0.5, 0.6, 0.5, 0. ])"
      ]
     },
     "execution_count": 50,
     "metadata": {},
     "output_type": "execute_result"
    }
   ],
   "source": [
    "ui_t0 = np.zeros(N)\n",
    "ui_t0 [1]= l*u_t0[0]+(1-2*l)*u_t0[1]+l*u_t0[2]\n",
    "ui_t0 [2]= l*u_t0[1]+(1-2*l)*u_t0[2]+l*u_t0[3]\n",
    "ui_t0 [3]= l*u_t0[2]+(1-2*l)*u_t0[3]+l*u_t0[4]\n",
    "b = ui_t0\n",
    "b"
   ]
  },
  {
   "cell_type": "markdown",
   "id": "08346e01",
   "metadata": {},
   "source": [
    "Entonces para encontrar $u(x,t=1)$ tenemos que calcular $Au=b$"
   ]
  },
  {
   "cell_type": "code",
   "execution_count": 52,
   "id": "812565f8",
   "metadata": {},
   "outputs": [],
   "source": [
    "u_t1 = np.linalg.solve(A,b)"
   ]
  },
  {
   "cell_type": "code",
   "execution_count": 54,
   "id": "0e9b8ada",
   "metadata": {},
   "outputs": [
    {
     "data": {
      "text/plain": [
       "[<matplotlib.lines.Line2D at 0x1e5ff7ae100>]"
      ]
     },
     "execution_count": 54,
     "metadata": {},
     "output_type": "execute_result"
    },
    {
     "data": {
      "image/png": "[encoded data removed]",
      "text/plain": [
       "<Figure size 432x288 with 1 Axes>"
      ]
     },
     "metadata": {
      "needs_background": "light"
     },
     "output_type": "display_data"
    }
   ],
   "source": [
    "plt.plot(x,u_t0)\n",
    "plt.plot (x,u_t1)"
   ]
  },
  {
   "cell_type": "code",
   "execution_count": null,
   "id": "0f17946d",
   "metadata": {},
   "outputs": [],
   "source": []
  },
  {
   "cell_type": "markdown",
   "id": "aeeea0f6",
   "metadata": {},
   "source": [
    "Ahora para encontrar $u$ para $n=2$ definimos una función que nos permita calcular el vector $b$."
   ]
  },
  {
   "cell_type": "code",
   "execution_count": null,
   "id": "bdfb110a",
   "metadata": {},
   "outputs": [],
   "source": []
  },
  {
   "cell_type": "code",
   "execution_count": null,
   "id": "3f106a94",
   "metadata": {},
   "outputs": [],
   "source": []
  },
  {
   "cell_type": "code",
   "execution_count": null,
   "id": "697552e4",
   "metadata": {},
   "outputs": [],
   "source": []
  },
  {
   "cell_type": "code",
   "execution_count": null,
   "id": "dfc5fd17",
   "metadata": {},
   "outputs": [],
   "source": []
  },
  {
   "cell_type": "code",
   "execution_count": null,
   "id": "1ae9b56d",
   "metadata": {},
   "outputs": [],
   "source": []
  },
  {
   "cell_type": "code",
   "execution_count": null,
   "id": "6942ecfa",
   "metadata": {},
   "outputs": [],
   "source": []
  },
  {
   "cell_type": "code",
   "execution_count": null,
   "id": "22baf8ae",
   "metadata": {},
   "outputs": [],
   "source": []
  },
  {
   "cell_type": "code",
   "execution_count": null,
   "id": "9140a1ee",
   "metadata": {},
   "outputs": [],
   "source": []
  }
 ],
 "metadata": {
  "kernelspec": {
   "display_name": "Python 3",
   "language": "python",
   "name": "python3"
  },
  "language_info": {
   "codemirror_mode": {
    "name": "ipython",
    "version": 3
   },
   "file_extension": ".py",
   "mimetype": "text/x-python",
   "name": "python",
   "nbconvert_exporter": "python",
   "pygments_lexer": "ipython3",
   "version": "3.8.8"
  }
 },
 "nbformat": 4,
 "nbformat_minor": 5
}
