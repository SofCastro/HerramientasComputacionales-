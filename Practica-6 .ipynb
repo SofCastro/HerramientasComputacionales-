{
 "cells": [
  {
   "cell_type": "markdown",
   "metadata": {},
   "source": [
    "# Practica 6"
   ]
  },
  {
   "cell_type": "markdown",
   "metadata": {},
   "source": [
    "## Integrantes\n",
    "\n",
    "Sofía Castro Varona. Cuenta de github: SofCastro\n",
    "\n",
    "Ximena Gonzalez Rosas. Cuenta de github: XRGonzalez\n",
    "\n",
    "María Fernanda Monzón Salazar. Cuenta de github: fermonzón"
   ]
  },
  {
   "cell_type": "markdown",
   "metadata": {},
   "source": [
    "# 1. Genere coordenadas igualmente espaciadas. "
   ]
  },
  {
   "cell_type": "markdown",
   "metadata": {},
   "source": [
    "* Queremos generar coordenadas $x$ entre $1$ y $2$ con espaciado $0.01$. La coordenada i-ésima, $x_i$, es entonces $1 + ih$ donde $h = 0.01$ e $i$ se ejecuta sobre los enteros $0,1, \\dots, 100$. Calcule los valores $x_i$ y guárdelos en una lista. Sugerencia: use un ciclo `for` o `while` y agregue cada nuevo valor $x_i$ a una lista, que inicialmente está vacía. Nombre de la función se debe llama `coor1()`."
   ]
  },
  {
   "cell_type": "markdown",
   "metadata": {},
   "source": [
    "* El problema es el mismo que en el inciso anterior, pero ahora queremos que los valores $x_i$ se almacenen en una lista usando una construcción de comprensión de listas. El nombre de la función debe de ser `coor2()`."
   ]
  },
  {
   "cell_type": "code",
   "execution_count": 1,
   "metadata": {},
   "outputs": [],
   "source": [
    "def coor1(): #definimos nuestra función7\n",
    "    '''Esta función nos da cien coordenadas entre el 1 y el 2 aumentando .01 cada uno'''\n",
    "    xi = [] #defino mi xi que será la coordenada en una lista vacía\n",
    "    h = 0.01 #definimos h\n",
    "    i = 0 #establecemos un contador \n",
    "    while i <= 100: #se define la condición para el ciclo while\n",
    "        valor = 1 + i*h  #se hace la operación \n",
    "        xi.append(valor)  #el valor se le agrega a xi \n",
    "        i+= 1 #se le suma 1 al contador \n",
    "    return xi  #regresa el valor de xi"
   ]
  },
  {
   "cell_type": "code",
   "execution_count": 2,
   "metadata": {},
   "outputs": [
    {
     "data": {
      "text/plain": [
       "[1.0,\n",
       " 1.01,\n",
       " 1.02,\n",
       " 1.03,\n",
       " 1.04,\n",
       " 1.05,\n",
       " 1.06,\n",
       " 1.07,\n",
       " 1.08,\n",
       " 1.09,\n",
       " 1.1,\n",
       " 1.11,\n",
       " 1.12,\n",
       " 1.13,\n",
       " 1.1400000000000001,\n",
       " 1.15,\n",
       " 1.16,\n",
       " 1.17,\n",
       " 1.18,\n",
       " 1.19,\n",
       " 1.2,\n",
       " 1.21,\n",
       " 1.22,\n",
       " 1.23,\n",
       " 1.24,\n",
       " 1.25,\n",
       " 1.26,\n",
       " 1.27,\n",
       " 1.28,\n",
       " 1.29,\n",
       " 1.3,\n",
       " 1.31,\n",
       " 1.32,\n",
       " 1.33,\n",
       " 1.34,\n",
       " 1.35,\n",
       " 1.3599999999999999,\n",
       " 1.37,\n",
       " 1.38,\n",
       " 1.3900000000000001,\n",
       " 1.4,\n",
       " 1.4100000000000001,\n",
       " 1.42,\n",
       " 1.43,\n",
       " 1.44,\n",
       " 1.45,\n",
       " 1.46,\n",
       " 1.47,\n",
       " 1.48,\n",
       " 1.49,\n",
       " 1.5,\n",
       " 1.51,\n",
       " 1.52,\n",
       " 1.53,\n",
       " 1.54,\n",
       " 1.55,\n",
       " 1.56,\n",
       " 1.57,\n",
       " 1.58,\n",
       " 1.5899999999999999,\n",
       " 1.6,\n",
       " 1.6099999999999999,\n",
       " 1.62,\n",
       " 1.63,\n",
       " 1.6400000000000001,\n",
       " 1.65,\n",
       " 1.6600000000000001,\n",
       " 1.67,\n",
       " 1.6800000000000002,\n",
       " 1.69,\n",
       " 1.7000000000000002,\n",
       " 1.71,\n",
       " 1.72,\n",
       " 1.73,\n",
       " 1.74,\n",
       " 1.75,\n",
       " 1.76,\n",
       " 1.77,\n",
       " 1.78,\n",
       " 1.79,\n",
       " 1.8,\n",
       " 1.81,\n",
       " 1.82,\n",
       " 1.83,\n",
       " 1.8399999999999999,\n",
       " 1.85,\n",
       " 1.8599999999999999,\n",
       " 1.87,\n",
       " 1.88,\n",
       " 1.8900000000000001,\n",
       " 1.9,\n",
       " 1.9100000000000001,\n",
       " 1.92,\n",
       " 1.9300000000000002,\n",
       " 1.94,\n",
       " 1.9500000000000002,\n",
       " 1.96,\n",
       " 1.97,\n",
       " 1.98,\n",
       " 1.99,\n",
       " 2.0]"
      ]
     },
     "execution_count": 2,
     "metadata": {},
     "output_type": "execute_result"
    }
   ],
   "source": [
    "coor1() #Se corre la función "
   ]
  },
  {
   "cell_type": "code",
   "execution_count": 3,
   "metadata": {},
   "outputs": [],
   "source": [
    "def coor2(h):\n",
    "    '''Esta función nos da cien coordenadas entre 1 y 2 que aumenta .01 concatenándolas en una lista'''\n",
    "    xi = [] #defino mi xi que será la coordenada en una lista vacío\n",
    "    coordenadas = [1 + xi*.01 for xi in range (1,101)] \n",
    "    return coordenadas #regresa el cvalor coordenadas "
   ]
  },
  {
   "cell_type": "code",
   "execution_count": 4,
   "metadata": {},
   "outputs": [
    {
     "name": "stdout",
     "output_type": "stream",
     "text": [
      "[1.01, 1.02, 1.03, 1.04, 1.05, 1.06, 1.07, 1.08, 1.09, 1.1, 1.11, 1.12, 1.13, 1.1400000000000001, 1.15, 1.16, 1.17, 1.18, 1.19, 1.2, 1.21, 1.22, 1.23, 1.24, 1.25, 1.26, 1.27, 1.28, 1.29, 1.3, 1.31, 1.32, 1.33, 1.34, 1.35, 1.3599999999999999, 1.37, 1.38, 1.3900000000000001, 1.4, 1.4100000000000001, 1.42, 1.43, 1.44, 1.45, 1.46, 1.47, 1.48, 1.49, 1.5, 1.51, 1.52, 1.53, 1.54, 1.55, 1.56, 1.57, 1.58, 1.5899999999999999, 1.6, 1.6099999999999999, 1.62, 1.63, 1.6400000000000001, 1.65, 1.6600000000000001, 1.67, 1.6800000000000002, 1.69, 1.7000000000000002, 1.71, 1.72, 1.73, 1.74, 1.75, 1.76, 1.77, 1.78, 1.79, 1.8, 1.81, 1.82, 1.83, 1.8399999999999999, 1.85, 1.8599999999999999, 1.87, 1.88, 1.8900000000000001, 1.9, 1.9100000000000001, 1.92, 1.9300000000000002, 1.94, 1.9500000000000002, 1.96, 1.97, 1.98, 1.99, 2.0]\n"
     ]
    }
   ],
   "source": [
    "print(coor2(.01))"
   ]
  },
  {
   "cell_type": "markdown",
   "metadata": {},
   "source": [
    "# 2. Error Absoluto y relativo "
   ]
  },
  {
   "cell_type": "markdown",
   "metadata": {},
   "source": [
    "* Escriba una función que se llame `abs_error(f, faprox ,x)` que reciba una función `f` de Python que representa una función matemática $f(x)$ y la aproximación númerica de la función en el punto $x$. La función debe de regresa el [error absoluto ](https://mathworld.wolfram.com/AbsoluteError.html) de la aproximación de la función $f(x)$.\n",
    "\n",
    "* Escriba una función que se llame `rel_error(f, faprox ,x)` que reciba una función `f` de Python que representa una función matemática $f(x)$ y la aproximación númerica de la función en el punto $x$. La función debe de regresa el [error relativo](https://mathworld.wolfram.com/RelativeError.html) de la aproximación de la función $f(x)$.\n",
    "\n",
    "\n",
    "Ejemplo de esto se muestra a continuación"
   ]
  },
  {
   "cell_type": "code",
   "execution_count": 1,
   "metadata": {},
   "outputs": [],
   "source": [
    "import numpy as np\n",
    "import matplotlib.pyplot as plt"
   ]
  },
  {
   "cell_type": "code",
   "execution_count": null,
   "metadata": {},
   "outputs": [],
   "source": [
    "def abs_error(f, faprox ,x):\n",
    "    '''Esta función determina el valor absoluto \"real\" entre los valores medidos'''\n",
    "    n = abs(f(x) - faprox(x)) #declaramos el valor de n\n",
    "    return n\n"
   ]
  },
  {
   "cell_type": "code",
   "execution_count": null,
   "metadata": {},
   "outputs": [],
   "source": [
    "def rel_error(f, faprox, x):\n",
    "    '''Esta función determina el valor estimado entre los valores medidos'''\n",
    "    n2 = (abs(f(x) - faprox(x))) / f(x) #declara el valor de n2\n",
    "    return n2"
   ]
  },
  {
   "cell_type": "code",
   "execution_count": 4,
   "metadata": {},
   "outputs": [],
   "source": [
    "def my_factorial(n):\n",
    "    '''Esta función determina el factorial de un número cualquiera'''\n",
    "    i = 1 #inicializamos el contador en 1\n",
    "    aux = 1 \n",
    "    while 1 < n:\n",
    "        i +=1 \n",
    "        aux = aux*i\n",
    "        \n",
    "        \n",
    "    return aux"
   ]
  },
  {
   "cell_type": "code",
   "execution_count": 5,
   "metadata": {},
   "outputs": [],
   "source": [
    "def my_sin (x, n = 2):\n",
    "    '''Esta función determin el comportamiento de seno '''\n",
    "    k = 0 \n",
    "    aux = 0 \n",
    "    while k < n: \n",
    "        aux = aux +(((-1)**k)*(x**(2*k + 1)))/my_factorial(2*k + 1)\n",
    "        k += 1\n",
    "    return aux"
   ]
  },
  {
   "cell_type": "code",
   "execution_count": null,
   "metadata": {},
   "outputs": [],
   "source": [
    "abs_error(np.sin, my_sin, np.pi/4 )"
   ]
  },
  {
   "cell_type": "code",
   "execution_count": null,
   "metadata": {},
   "outputs": [],
   "source": [
    "rel_error(np.sin, my_sin, np.pi/4 )"
   ]
  },
  {
   "cell_type": "markdown",
   "metadata": {},
   "source": [
    "# 3. Una función para la derivada numérica"
   ]
  },
  {
   "cell_type": "markdown",
   "metadata": {},
   "source": [
    "La fórmula $$f'(x) = \\dfrac{f(x + h) - f(x - h)}{2h}$$\n",
    "\n",
    "se puede usar para encontrar una derivada aproximada de una función matemática $f(x)$ si $h$ es pequeña. Escriba una función `diff(f, x, h = 1E-6)` que devuelva la aproximación de la derivada de una función matemática representada por una función de Python `f(x)`.\n",
    "Use la ecuación anterior para calcular una aproximación de la derivada de la función  $f(x) = e^x$ en $x = 0$, $f(x) = e^{− 2x^2}$ en $x = 0$, $\\cos{x}$ en $x = 2\\pi$ y $f(x) = \\ln{x}$ en $x = 1$. Use $h = 0.01$. En cada caso, escriba el error, es decir, la diferencia entre la derivada exacta y el resultado de la fórmula $f'(x) = \\dfrac{f(x + h) - f(x - h)}{2h}$."
   ]
  },
  {
   "cell_type": "code",
   "execution_count": null,
   "metadata": {},
   "outputs": [],
   "source": [
    "import numpy as np\n",
    "import matplotlib.pyplot as plt"
   ]
  },
  {
   "cell_type": "code",
   "execution_count": null,
   "metadata": {},
   "outputs": [],
   "source": [
    "def diff(f, x, h = 1E-6): \n",
    "        '''Esta función devuelve la aproximación de la derivada de una función'''\n",
    "    y = (f(x + h) - f(x - h)) / (2 * h) #implementamos la fórmula \n",
    "    \n",
    "    return y  #regresa el valor calculado de la función"
   ]
  },
  {
   "cell_type": "code",
   "execution_count": null,
   "metadata": {},
   "outputs": [],
   "source": [
    "diff(np.exp , 0, h = 0.01)#corremos la función "
   ]
  },
  {
   "cell_type": "markdown",
   "metadata": {},
   "source": [
    "El error absoluto es:"
   ]
  },
  {
   "cell_type": "markdown",
   "metadata": {},
   "source": [
    "La derivada de e(0) = 1"
   ]
  },
  {
   "cell_type": "code",
   "execution_count": null,
   "metadata": {},
   "outputs": [],
   "source": [
    "k= diff(np.exp  , 0, h = 0.01)   #defu¿inimos los valores de nuestra función en k\n",
    "j = 1 - k #inicializamos el varlor de j\n",
    "\n",
    "print (j)"
   ]
  },
  {
   "cell_type": "code",
   "execution_count": null,
   "metadata": {},
   "outputs": [],
   "source": [
    "f =  lambda x : np.exp(-2*0**2)  #aqui se utiliza lamda ya que a diferencia de la función normal puede tomar cualquier valor\n",
    "diff(f, 0, h = 0.01) #se invoca a la función "
   ]
  },
  {
   "cell_type": "code",
   "execution_count": null,
   "metadata": {},
   "outputs": [],
   "source": [
    "f = lambda x : np.cos(x)  #aqui se utiliza lamda ya que a diferencia de la función normal puede tomar cualquier valor\n",
    "diff(f, 2*np.pi, h = 0.01)"
   ]
  },
  {
   "cell_type": "code",
   "execution_count": null,
   "metadata": {},
   "outputs": [],
   "source": [
    "diff(np.log, 1, h = 0.01)"
   ]
  },
  {
   "cell_type": "markdown",
   "metadata": {},
   "source": [
    "El error absoluto:"
   ]
  },
  {
   "cell_type": "markdown",
   "metadata": {},
   "source": [
    "La derivada de log(1) = 1"
   ]
  },
  {
   "cell_type": "code",
   "execution_count": null,
   "metadata": {},
   "outputs": [],
   "source": [
    "k = diff(np.log  , 1, h = 0.01)\n",
    "j = 1 - k\n",
    "print (j)"
   ]
  },
  {
   "cell_type": "markdown",
   "metadata": {},
   "source": [
    "# 4. Una función para la integral numérica"
   ]
  },
  {
   "cell_type": "markdown",
   "metadata": {},
   "source": [
    "Una aproximación a la integral de una función $f(x)$ en un intervalo $[a, b]$ se puede encontrar aproximando primero $f(x)$ por la recta que pasa por los puntos finales $(a, f (a))$ y $(b , f (b))$, y luego encontrar el área debajo de la línea recta (que es el área de un trapezoide). La fórmula resultante se convierte en:\n",
    "\n",
    "$$\\displaystyle \\int_{a}^{b} f(x) \\, dx \\approx \\dfrac{b-a}{2}\\left( f(a) + f(b) \\right)$$\n",
    "\n",
    "Escribe una función `integrate(f, a, b)` que devuelva esta aproximación a la integral. El argument `f` es una función de Python `f`  de la función matemática $f(x)$. Calcule las siguientes integrales 􏰒$\\int_{0}^{ln(3)} e^x \\, dx$, $\\int_{0}^{\\pi} \\cos{x} \\, dx$ , $\\int_{0}^{\\pi} \\sin{x} \\, dx$ y $\\int_{0}^{\\frac{\\pi}{2}} \\sin{x} \\, dx$. En el caso de 0000, calcule el el error, es decir, la diferencia entre la integral exacta y la aproximación. Realice una gráfica  para cada integral a fin de comprender cómo se comporta el método en los diferentes casos."
   ]
  },
  {
   "cell_type": "code",
   "execution_count": null,
   "metadata": {},
   "outputs": [],
   "source": [
    "def integrate(f, a, b):  #Definimos la función de integral\n",
    "    '''Esta función nos calcula la aproximación de la integral definida '''\n",
    "    integral = ((b - a)/2)*(f(a)+f(b))  #definimos la fórmula para determinar la integral\n",
    "    \n",
    "    return integral  #regreasa el valor calculado\n"
   ]
  },
  {
   "cell_type": "markdown",
   "metadata": {},
   "source": [
    "# *"
   ]
  },
  {
   "cell_type": "code",
   "execution_count": null,
   "metadata": {},
   "outputs": [],
   "source": [
    "func1 = lambda x: np.exp(x)\n",
    "integrate(func1, a = 0, b = np.log(3))"
   ]
  },
  {
   "cell_type": "code",
   "execution_count": null,
   "metadata": {},
   "outputs": [],
   "source": [
    "def intexp(a, b):\n",
    "    integral = np.exp(b) - np.exp(a)\n",
    "    return integral"
   ]
  },
  {
   "cell_type": "code",
   "execution_count": null,
   "metadata": {
    "scrolled": true
   },
   "outputs": [],
   "source": [
    "error_abs = (integrate(func1, a = 0, b = np.log(3))) - (intexp(0, np.log(3)))\n",
    "print(error_abs)"
   ]
  },
  {
   "cell_type": "markdown",
   "metadata": {},
   "source": [
    "# *"
   ]
  },
  {
   "cell_type": "code",
   "execution_count": null,
   "metadata": {},
   "outputs": [],
   "source": [
    "func2 = lambda x: np.cos(x)\n",
    "integrate(func2, a = 0, b = np.pi)"
   ]
  },
  {
   "cell_type": "markdown",
   "metadata": {},
   "source": [
    "# *"
   ]
  },
  {
   "cell_type": "code",
   "execution_count": null,
   "metadata": {},
   "outputs": [],
   "source": [
    "func3 = lambda x: np.sin(x)\n",
    "integrate(func3, a = 0, b = np.pi)"
   ]
  },
  {
   "cell_type": "code",
   "execution_count": null,
   "metadata": {},
   "outputs": [],
   "source": [
    "def intexp(a, b):\n",
    "    integral = np.sin(b) - np.sin(a)\n",
    "    return integral"
   ]
  },
  {
   "cell_type": "code",
   "execution_count": null,
   "metadata": {},
   "outputs": [],
   "source": [
    "error_a = (integrate(func3, a = 0, b =(np.pi)) - (intexp(0, (np.pi))))\n",
    "print(error_a)"
   ]
  },
  {
   "cell_type": "markdown",
   "metadata": {},
   "source": [
    "# *"
   ]
  },
  {
   "cell_type": "code",
   "execution_count": null,
   "metadata": {},
   "outputs": [],
   "source": [
    "func4 = lambda x: np.sin(x)\n",
    "integrate(func4, a = 0, b = (np.pi) / 2)"
   ]
  },
  {
   "cell_type": "code",
   "execution_count": null,
   "metadata": {},
   "outputs": [],
   "source": [
    "def intexp(a, b):\n",
    "    integral = np.sin(b) - np.sin(a)\n",
    "    return integral"
   ]
  },
  {
   "cell_type": "code",
   "execution_count": null,
   "metadata": {},
   "outputs": [],
   "source": [
    "error = (integrate(func4, a = 0, b =((np.pi) / 2)) - (intexp(0, ((np.pi) /2))))\n",
    "print(error)"
   ]
  },
  {
   "cell_type": "code",
   "execution_count": null,
   "metadata": {},
   "outputs": [],
   "source": [
    "def trapecio(f, a, b):   \n",
    "    \n",
    "    '''en esta función determinamos el area bajo la curva utilizando la regla del trapecio aproximando\n",
    "    el valor de la integral dado por  la función lineal, que pasa a través de los puntos '''\n",
    "    x = np.linspace(a,b)\n",
    "\n",
    "    #modificaciones de las graficas\n",
    "    print(f(a), a) \n",
    "    plt.plot(x, f(x), color = 'c') \n",
    "    plt.plot((a, a), (0,f(a)), color = 'g')\n",
    "    plt.plot((b,b),(0 ,f(b)), color = 'm')\n",
    "    \n",
    "    \n",
    "    plt.grid()\n",
    "    plt.show()"
   ]
  },
  {
   "cell_type": "code",
   "execution_count": null,
   "metadata": {},
   "outputs": [],
   "source": [
    "trapecio(np.cos, -np.pi, np.pi/4)"
   ]
  },
  {
   "cell_type": "code",
   "execution_count": null,
   "metadata": {},
   "outputs": [],
   "source": [
    "trapecio(np.cos, -np.pi/4, np.pi/4)"
   ]
  },
  {
   "cell_type": "code",
   "execution_count": null,
   "metadata": {},
   "outputs": [],
   "source": [
    "trapecio(np.cos, 0, np.pi/4)"
   ]
  },
  {
   "cell_type": "markdown",
   "metadata": {},
   "source": [
    "# 5. Número primo usando recursión\n",
    "\n",
    "Implemte mediante recursión una función cuyo nombre sea `is_prime()` que regrese `True` si el número es primo o `False` si el número no es primo."
   ]
  },
  {
   "cell_type": "code",
   "execution_count": null,
   "metadata": {},
   "outputs": [],
   "source": [
    "def is_prime(n, i = 2): # se define la función \n",
    "        '''En esta funcíón se evalúa un número,, para determinar si es primo o no, por medio de la recursión, es decir se manda a llamar a \n",
    "        la función original haciendo que vuelva a entrar en el ciclo infinitamente hasta cumplir una condición'''\n",
    "    if n == i: # la primera condición del ciclo es que si el numero es divisible entre i (en la primera vuelata 2)\n",
    "        return True  #El número es primo\n",
    "    elif n % i == 0:   # Si no cumple la anterior condición y el residuo de dividir entre el contador da 0, entonces no sera primo \n",
    "        return False \n",
    "    else : #tercera condición \n",
    "        return is_prime(n, i + 1) #Mandamos a llamar a la función y se le suma 1 al contador hasta que cumpla una de las 2 condiciones anteriore. "
   ]
  },
  {
   "cell_type": "code",
   "execution_count": null,
   "metadata": {},
   "outputs": [],
   "source": [
    "is_prime(7)  #corremos la función "
   ]
  },
  {
   "cell_type": "code",
   "execution_count": null,
   "metadata": {},
   "outputs": [],
   "source": []
  }
 ],
 "metadata": {
  "kernelspec": {
   "display_name": "Python 3",
   "language": "python",
   "name": "python3"
  },
  "language_info": {
   "codemirror_mode": {
    "name": "ipython",
    "version": 3
   },
   "file_extension": ".py",
   "mimetype": "text/x-python",
   "name": "python",
   "nbconvert_exporter": "python",
   "pygments_lexer": "ipython3",
   "version": "3.7.6"
  }
 },
 "nbformat": 4,
 "nbformat_minor": 4
}
