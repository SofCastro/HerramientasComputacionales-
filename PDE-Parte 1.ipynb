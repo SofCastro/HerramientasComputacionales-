{
 "cells": [
  {
   "cell_type": "markdown",
   "metadata": {},
   "source": [
    "# Ecuaciones diferenciales Parciales"
   ]
  },
  {
   "cell_type": "markdown",
   "metadata": {},
   "source": [
    "Las ecuaciones diferenciales parciales (PDEs) son ecuaciones diferenciales de varias variables donde existen  derivadas respecto a más de una variable independiente. Es decir, derivadas en la ecuación que son parciales. Como tal son una generalización de las ecuaciones diferenciales oridnarias (ODEs). \n",
    "\n",
    "Auque conceptualmente las diferencias entre ODE y PDE no es tan grande, las técnicas computacionales requeridas para cada una son diferentes, y típicamente, resolver una PDE es mucho mas demandante computacionalmente hablando.\n",
    "\n",
    "La mayoría de las técnicas para resolver una PDE se basan en **discretizar**  el problema para cada una de las variables independientes de la PDE y posteriorme te expresarlo en forma algebraica. "
   ]
  },
  {
   "cell_type": "markdown",
   "metadata": {},
   "source": [
    "La variable desconocida en un PDE es una función mutivariable, la cula denotaremso como $u$. En un problema N-dimensional, la función $u$ dependen de $n$ independientes variables: $u(x_1,x_2,\\dots , x_n)$. Una PDE puede escribirse como:\n",
    "\n",
    "$F\\left(x_1,x_2,\\dots ,x_n,u,\\Big\\lbrace\\dfrac{\\partial u}{\\partial x_{i_{1}}}\\Big\\rbrace_{1\\leq i_{1}\\leq n},\\Big\\lbrace\\dfrac{\\partial^2 u}{\\partial x_{i_{1}}x_{i_{2}}}\\Big\\rbrace_{1\\leq i_{1},i_{2}\\leq n},\\dots\\right)=0, x \\in \\Omega$\n",
    "\n",
    "donde $\\Big\\lbrace\\dfrac{\\partial u}{\\partial x_{i_{1}}}\\Big\\rbrace_{1\\leq i_{1}\\leq n}$ denota todas las derivadas de primer orden respecto a las variables independientes $x_1,\\dots,x_n$, $\\Big\\lbrace\\dfrac{\\partial^2 u}{\\partial x_{i_{1}}x_{i_{2}}}\\Big\\rbrace_{1\\leq i_{1},i_{2}\\leq n}$ denota todas las derivadas de segundo orden y así sucesivamente. En este caso $F$ es una función conocida que describe la forma de la PDE y $\\Omega$ es el dominio de la PDE. En la práctica muchas PDE contienen derivadas de hasta segundo orden, y comúnmente son problemas de 2 o 3 dimensiones y posiblemente el tiempo. \n",
    "\n",
    "Para poder econtrar una solución a una PDE es necesario definir las condiciones de frontera, las cuales son valores conocidos de la función o una combinación de sus derivadas evaluadas en la frontera del dominio $\\Omega$, así como los valores inciales si el problema depende del tiempo. Dos tipos de condiciones de frontera importantes son:\n",
    "\n",
    "1. **Dirichlet:** las cuales especifican el valor de la función en la frontera $u(\\textbf{x})=h(\\textbf{x})$ para toda $\\textbf{x}\\in \\partial\\Omega_{DL}$\n",
    "2. **Neumann:** las cuales especifian el valor de la derivada normal en la frontera $\\dfrac{\\partial u(\\textbf{x})}{\\partial\\textbf{n}}=g(\\textbf{x})$ para toda $\\textbf{x}\\in \\partial\\Omega_{N}$, donde $\\textbf{n}$ es el vector normal exterior de la frontera. \n",
    "\n",
    "donde $h(\\textbf{x})$ y $g(\\textbf{x})$ son fuciones arbitrarias.\n"
   ]
  },
  {
   "cell_type": "markdown",
   "metadata": {},
   "source": [
    "# Metódo de diferencias finitas"
   ]
  },
  {
   "cell_type": "markdown",
   "metadata": {},
   "source": [
    "La idea básica del método de diferencias finitas es aproximar las derivadas de una PDE con las fórmulas de diferencias finitas en un espacio discretizado. Por ejemplo, la fórmula de difrencias finitas *forward* para un derivada ordinaria en un conjunto de puntos discretos ${x_n}$ es:\n",
    "\n",
    "$\n",
    "\\dfrac{d u(x_n)}{d x}\\approx \\dfrac{u(x_{n+1})-u(x_n)}{x_{n+1}-x_n}\n",
    "$\n",
    "\n",
    "De manera similar, podemos construir una derivada de segundo orden se tiene:\n",
    "\n",
    "$\n",
    "\\dfrac{d^2 u(x_n)}{d x^2}\\approx \\dfrac{u(x_{n+1})-2u(x_n)+u(x_{n-1})}{(x_{n+1}-x_n)^2}\n",
    "$\n",
    "\n",
    "Asumiendo que la discretización de la variable $x$ es suficiente, estas fórmulas de diferencias finitas pueden aproximar de manera adecuada las derivadas. Las formulas de diferencias finitas tmabién son válidas para las derivadas parciales. Para familiarizarnos con la metódología consideremos una ODE."
   ]
  },
  {
   "cell_type": "markdown",
   "metadata": {},
   "source": [
    "# Ejemplo:"
   ]
  },
  {
   "cell_type": "markdown",
   "metadata": {},
   "source": [
    "Resulve la siguiente ecuación diferencial ordinaria $u_{xx}=-5$ en el intervalo $x\\in [0,1]$ y con las condiciones de frontera $u(x=0)=1$ y $u(x=1)=2$:\n"
   ]
  },
  {
   "cell_type": "markdown",
   "metadata": {},
   "source": [
    "# *Solución:*"
   ]
  },
  {
   "cell_type": "markdown",
   "metadata": {},
   "source": [
    "El objetivo es encontrar la función $u(x_n)= u_n$\n",
    "\n",
    "Entonces primero discretrizamos el dominio de la ODE.\n",
    "\n",
    "Luego, escribimos una expresion para la ODE en términos de diferencias finitas para cada punto interior $n$:\n",
    "\n",
    "$u_{xx}= \\dfrac{u(x_{n+1})-2u(x_n)+u(x_{n-1})}{(x_{n+1}-x_n)^2}=-5\n",
    "$\n",
    "\n",
    " y las condiciones de frontera $u_0=1$ y $u_{N+1}=2$. Nótese que el intervalo $[0,1]$ ha sido discretizado en $N+2$ puntos igualmente espaciados, es decir $\\Delta x=x_{n+1}-x_n =\\dfrac{1}{N+1}$, con $n=0,1,2,\\dots,N+1$.\n",
    " \n",
    " Ya que conocemos los valores de la función $u$ en los extremos solo tenemos $N$ incógnitas $u_n$, las cuales corresponden a los valores de la función en los puntos interiores del intervalo $[0,1]$. \n",
    "\n",
    " \n",
    "El conjunto de ecuaciones para los puntos interiores puede escribirse en forma matricial como $Au=b$, donde $u=[u_1,u_2,\\dots,u_N]^T$, $b=\\left[-5-\\frac{u_0}{\\Delta x^2},-5,\\dots,-5,-5-\\frac{u_0}{\\Delta x^2}\\right]$\n",
    "\n",
    "$A=\\dfrac{1}{\\Delta x^2}\\left[\n",
    "\\begin{array}{ccccc}\n",
    "-2&1&0&0&\\dots\\\\\n",
    "1&-2&1&0&\\dots\\\\\n",
    "0&1&-2&1&\\dots\\\\\n",
    "0&0&1&-2&\\dots\\\\\n",
    "\\vdots&\\vdots&\\vdots&\\vdots\n",
    "\\end{array}\\right]$\n",
    "\n",
    "Donde la matriz $A$ describe el acoplamiento de las ecuaciones para $u_n$  con los valores en puntos vecinos, según la fórmula de diferencias finitas. Nótese que los valores de las condiciones de frontera se icluyeron en $b$ para poder expresar $A$ de manera que se cumpliera la ecuación $Au=b$.\n",
    "\n",
    "Ahora, ya podemos resolver el sistema de ecuaciones lineales de la funcion $u(x)$ en puntos discretos ${x_n}$.\n",
    "\n"
   ]
  },
  {
   "cell_type": "markdown",
   "metadata": {},
   "source": [
    "n=1\n",
    "\n",
    "$\\dfrac{u(x_{n+1})-2u(x_n)+u(x_{n-1})}{(x_{n+1}-x_n)^2}=-5$"
   ]
  },
  {
   "cell_type": "markdown",
   "metadata": {},
   "source": [
    "$\\dfrac{u(x_{2})-2u(x_1)+u(x_{0})}{\\Delta x^2}=-5$"
   ]
  },
  {
   "cell_type": "markdown",
   "metadata": {},
   "source": [
    "$\\dfrac{u(x_{2})-2u(x_1)}{\\Delta x^2}=-5-\\dfrac{u(x_0)}{\\Delta x^2}$"
   ]
  },
  {
   "cell_type": "markdown",
   "metadata": {},
   "source": [
    "$\\dfrac{u_{2}-2u_1}{\\Delta x^2}=-5-\\dfrac{u_0}{\\Delta x^2}$"
   ]
  },
  {
   "cell_type": "markdown",
   "metadata": {},
   "source": [
    "## Implementación"
   ]
  },
  {
   "cell_type": "markdown",
   "metadata": {},
   "source": [
    "Definimos algunas variables"
   ]
  },
  {
   "cell_type": "code",
   "execution_count": 1,
   "metadata": {},
   "outputs": [],
   "source": [
    "N = 5\n",
    "u0,u1 = 1,2\n",
    "dx = 1/(N+1)"
   ]
  },
  {
   "cell_type": "markdown",
   "metadata": {},
   "source": [
    "Ahora construimos la matriz $A$ usando la función *np.eye*"
   ]
  },
  {
   "cell_type": "code",
   "execution_count": 2,
   "metadata": {},
   "outputs": [],
   "source": [
    "import numpy as np"
   ]
  },
  {
   "cell_type": "code",
   "execution_count": 6,
   "metadata": {},
   "outputs": [],
   "source": [
    "np.eye?"
   ]
  },
  {
   "cell_type": "code",
   "execution_count": 4,
   "metadata": {},
   "outputs": [],
   "source": [
    "M1 = np.eye(N)"
   ]
  },
  {
   "cell_type": "code",
   "execution_count": 5,
   "metadata": {},
   "outputs": [
    {
     "data": {
      "text/plain": [
       "array([[1., 0., 0., 0., 0.],\n",
       "       [0., 1., 0., 0., 0.],\n",
       "       [0., 0., 1., 0., 0.],\n",
       "       [0., 0., 0., 1., 0.],\n",
       "       [0., 0., 0., 0., 1.]])"
      ]
     },
     "execution_count": 5,
     "metadata": {},
     "output_type": "execute_result"
    }
   ],
   "source": [
    "M1"
   ]
  },
  {
   "cell_type": "code",
   "execution_count": 11,
   "metadata": {},
   "outputs": [],
   "source": [
    "M2 = np.eye(N,k=1)"
   ]
  },
  {
   "cell_type": "code",
   "execution_count": 12,
   "metadata": {},
   "outputs": [
    {
     "data": {
      "text/plain": [
       "array([[0., 1., 0., 0., 0.],\n",
       "       [0., 0., 1., 0., 0.],\n",
       "       [0., 0., 0., 1., 0.],\n",
       "       [0., 0., 0., 0., 1.],\n",
       "       [0., 0., 0., 0., 0.]])"
      ]
     },
     "execution_count": 12,
     "metadata": {},
     "output_type": "execute_result"
    }
   ],
   "source": [
    "M2"
   ]
  },
  {
   "cell_type": "code",
   "execution_count": 13,
   "metadata": {},
   "outputs": [],
   "source": [
    "M3 = np.eye(N,k=-1)"
   ]
  },
  {
   "cell_type": "code",
   "execution_count": 55,
   "metadata": {},
   "outputs": [],
   "source": [
    "A = (-2*M1+M2+M3)/dx**2"
   ]
  },
  {
   "cell_type": "code",
   "execution_count": 56,
   "metadata": {},
   "outputs": [
    {
     "data": {
      "text/plain": [
       "array([[-72.,  36.,   0.,   0.,   0.],\n",
       "       [ 36., -72.,  36.,   0.,   0.],\n",
       "       [  0.,  36., -72.,  36.,   0.],\n",
       "       [  0.,   0.,  36., -72.,  36.],\n",
       "       [  0.,   0.,   0.,  36., -72.]])"
      ]
     },
     "execution_count": 56,
     "metadata": {},
     "output_type": "execute_result"
    }
   ],
   "source": [
    "A"
   ]
  },
  {
   "cell_type": "markdown",
   "metadata": {},
   "source": [
    "Ahora definimos un array para el vector $b$"
   ]
  },
  {
   "cell_type": "code",
   "execution_count": 57,
   "metadata": {},
   "outputs": [],
   "source": [
    "b = -5*np.ones(N)"
   ]
  },
  {
   "cell_type": "code",
   "execution_count": 58,
   "metadata": {},
   "outputs": [
    {
     "data": {
      "text/plain": [
       "array([-5., -5., -5., -5., -5.])"
      ]
     },
     "execution_count": 58,
     "metadata": {},
     "output_type": "execute_result"
    }
   ],
   "source": [
    "b "
   ]
  },
  {
   "cell_type": "code",
   "execution_count": 59,
   "metadata": {},
   "outputs": [],
   "source": [
    "b[0]=b[0]-u0/dx**2\n",
    "b[-1] = b[-1]-u1/dx**2"
   ]
  },
  {
   "cell_type": "code",
   "execution_count": 60,
   "metadata": {},
   "outputs": [
    {
     "data": {
      "text/plain": [
       "array([-41.,  -5.,  -5.,  -5., -77.])"
      ]
     },
     "execution_count": 60,
     "metadata": {},
     "output_type": "execute_result"
    }
   ],
   "source": [
    "b"
   ]
  },
  {
   "cell_type": "code",
   "execution_count": 61,
   "metadata": {},
   "outputs": [],
   "source": [
    "u = np.linalg.solve(A,b)"
   ]
  },
  {
   "cell_type": "code",
   "execution_count": 62,
   "metadata": {},
   "outputs": [
    {
     "data": {
      "text/plain": [
       "array([1.51388889, 1.88888889, 2.125     , 2.22222222, 2.18055556])"
      ]
     },
     "execution_count": 62,
     "metadata": {},
     "output_type": "execute_result"
    }
   ],
   "source": [
    "u"
   ]
  },
  {
   "cell_type": "markdown",
   "metadata": {},
   "source": [
    "Ahora visualizamos la solución de esta ODE."
   ]
  },
  {
   "cell_type": "code",
   "execution_count": 63,
   "metadata": {},
   "outputs": [],
   "source": [
    "import matplotlib.pyplot as plt\n",
    "%matplotlib inline"
   ]
  },
  {
   "cell_type": "code",
   "execution_count": 64,
   "metadata": {},
   "outputs": [],
   "source": [
    "x = np.linspace(0,1,N+2)\n",
    "U = np.hstack([[u0],u,[u1]])"
   ]
  },
  {
   "cell_type": "code",
   "execution_count": 74,
   "metadata": {},
   "outputs": [],
   "source": [
    "U_exact=-(5/2)*x**2+7/2*x+1"
   ]
  },
  {
   "cell_type": "code",
   "execution_count": 78,
   "metadata": {},
   "outputs": [
    {
     "data": {
      "text/plain": [
       "<matplotlib.legend.Legend at 0x993ad88>"
      ]
     },
     "execution_count": 78,
     "metadata": {},
     "output_type": "execute_result"
    },
    {
     "data": {
      "image/png": "[encoded data removed]",
      "text/plain": [
       "<Figure size 576x288 with 1 Axes>"
      ]
     },
     "metadata": {},
     "output_type": "display_data"
    }
   ],
   "source": [
    "fig, ax =plt.subplots(figsize=(8,4))\n",
    "plt.style.use(\"ggplot\", )\n",
    "ax.plot(x[1:-1],u,\"ks\")\n",
    "ax.plot(x,U, label =\"Sol numérica\")\n",
    "ax.plot(x,U_exact-0.05, label =\"Sol exacta\")\n",
    "plt.legend(fontsize=18)"
   ]
  },
  {
   "cell_type": "code",
   "execution_count": null,
   "metadata": {},
   "outputs": [],
   "source": []
  },
  {
   "cell_type": "markdown",
   "metadata": {},
   "source": [
    "La solucion analítica es:\n",
    "\n",
    "$u(x)= -\\frac{5}{2}x^2+\\frac{7}{2}x+1$"
   ]
  }
 ],
 "metadata": {
  "kernelspec": {
   "display_name": "Python 3",
   "language": "python",
   "name": "python3"
  },
  "language_info": {
   "codemirror_mode": {
    "name": "ipython",
    "version": 3
   },
   "file_extension": ".py",
   "mimetype": "text/x-python",
   "name": "python",
   "nbconvert_exporter": "python",
   "pygments_lexer": "ipython3",
   "version": "3.7.6"
  }
 },
 "nbformat": 4,
 "nbformat_minor": 4
}
