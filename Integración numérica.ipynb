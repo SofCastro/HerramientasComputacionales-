{
 "cells": [
  {
   "cell_type": "markdown",
   "id": "4b8d16ff",
   "metadata": {},
   "source": [
    "# Integración numérica"
   ]
  },
  {
   "cell_type": "markdown",
   "id": "d17a2265",
   "metadata": {},
   "source": [
    "El método mas simple para aproximar una integral es sumar el área de los rectángulos que estan definidos en cada subintervalo.\n",
    "\n",
    "En ancho de cada rectángulo es $h=x_{j+1}-x_{j}$, y la altura está definida por el valor que tome $f(x)$ en algún punto del subintervalo. La elección obvia seria tomar la altura la función evaluada en un punto extremo del subintervalo, es decir: $f(x_j)$ o $f(x_{j+1})$ \n",
    "\n",
    "<img src = \"left_integral.jpg\"  width=\"500\" height=\"300\"/>"
   ]
  },
  {
   "cell_type": "markdown",
   "id": "2eadbfdc",
   "metadata": {},
   "source": [
    "De esta manera podermos expresar la integral como la suma de Riemman:\n",
    "\n",
    "$\\int_a^b f(x) dx \\approx \\sum_{i=0}^{n-1} h f(x_j)$\n",
    "\n",
    "o como:\n",
    "\n",
    "$\\int_a^b f(x) dx \\approx \\sum_{i=1}^{n} h f(x_{j+1})$\n",
    "\n",
    "dependiendo si se eleige el extremo izquierdo o derecho de cada subintervalo de la partición.\n",
    "\n",
    "De igual manera que para derivación numérica queremos evaluar cual es la precisión conforme $h$ disminuye. para ello podemos tomar la expansion de Taylor alrededor de $x_j = a$, es decir:\n",
    "\n",
    "$\n",
    "f(x)=f(x_j)+f^{\\prime}(x_j)(x-x_j)+f^{\\prime\\prime}(x_j)\\dfrac{(x-x_j)^2}{2!}+\\cdots\n",
    "$\n",
    "\n",
    "integrando ambos lados en un subintervalo de la partición $[x_j,x_{j+1}]\\in[a,b]$:\n",
    "\n",
    "$\\int_{x_j}^{x_{j+1}}f(x)dx=\\int_{x_j}^{x_{j+1}}(f(x_j)+f^{\\prime}(x_j)(x-x_j)+\\cdots) dx $\n",
    "\n",
    "distribuyendo la integral y considerando que $f(x_j), f^{\\prime}(x_j),...$ son constantes, se tiene\n",
    "\n",
    "$\\int_{x_j}^{x_{j+1}}f(x)dx=hf(x_j)+f^{\\prime}(x_j)\\frac{h^2}{2}+f^{\\prime\\prime}(x_j)\\frac{h^3}{3}+\\cdots $"
   ]
  },
  {
   "cell_type": "markdown",
   "id": "87e472b9",
   "metadata": {},
   "source": [
    "Si tomamos la aproximación hasta el segundo término se tiene\n",
    "\n",
    "$\\int_{x_j}^{x_{j+1}}f(x)dx=hf(x_j)+f^{\\prime}(x_j)\\frac{h^2}{2}+O(h^3) $"
   ]
  },
  {
   "cell_type": "markdown",
   "id": "d0c52248",
   "metadata": {},
   "source": [
    "Si tomamos la aproxiamción hasta el primer término se tiene\n",
    "\n",
    "$\\int_{x_j}^{x_{j+1}}f(x)dx=hf(x_j)+O(h^2) $\n",
    "\n",
    "el cual es un sumando de la suma de Riemman. Es importante considerar cual es el error de nuestra aproximación. Entoces, sumando el error $O(h^2)$ sobre la suma de Riemman completa obtenemos \n",
    "\n",
    "$nO(h^2)=\\frac{b-a}{h}O(h^2)=O(h)$\n",
    "\n",
    "$h=\\dfrac{b-a}{n}$"
   ]
  },
  {
   "cell_type": "markdown",
   "id": "be8f0b4c",
   "metadata": {},
   "source": [
    "## Aproximación del punto  medio"
   ]
  },
  {
   "cell_type": "markdown",
   "id": "178f945c",
   "metadata": {},
   "source": [
    "Ahora, la suma de Riemman se construye considerando $h$ y en valor $x_j$ sobre el cual se evalua la función. Por lo que tenemos diferentes aproximaciones, una de ella es la **regla del punto medio**.\n",
    "\n",
    "La cual toma la altura del rectángulo en cada subintervalo sobre el punto medio entre $x_j$ y $x_{j+1}$, el cual denotaremos como $y_j=\\frac{x_{j+1}+x_j}{2}$. Es decir:\n",
    "\n",
    "$\\int_a^b f(x) dx \\approx \\sum_{i=0}^{n-1} h f(y_j)$\n",
    "\n",
    "Realizando la expansion de Taylor para $f(x)$ alrededor de $y_j$ e integrando en un subintervalo tenemos:\n",
    "\n",
    "$\\int_{x_j}^{x_{j+1}}f(x)dx=\\int_{x_j}^{x_{j+1}}(f(y_j)+f^{\\prime}(y_j)(x-y_j)+\\frac{f^{\\prime\\prime}(y_j)(x-y_j)^2}{2!}+\\cdots ) dx $\n",
    "\n",
    "distribuyendo la integral notamos que todos los sumandos con un término $(x-y_j)^p$ con $p$ impar son cero. Además que para $p$ par $\\int_{x_j}^{x_{j+1}}(x-y_j)^p dx= \\int_{-h/2}^{h/2} x^p dx$, lo cual resulta en un múltiplo de $h^{p+1}$. Por lo tanto:\n",
    "\n",
    "$\\int_{x_j}^{x_{j+1}}f(x) dx=hf(y_i)+O(h^3)$\n",
    "\n",
    "analizando el error de manera similar a la aproximacion anterior se puede concluir que esta aproximacion sobre todo en intervalo $[a,b]$ es de segundo orden, $O(h^2)$"
   ]
  },
  {
   "cell_type": "markdown",
   "id": "41595b1a",
   "metadata": {},
   "source": [
    "## Ejercicio 1"
   ]
  },
  {
   "cell_type": "markdown",
   "id": "201f11d2",
   "metadata": {},
   "source": [
    "Considere la suma de Riemman izquierda y derecha, así como la regla del punto medio para aproximar $\\int_0^{\\pi} sin(x) dx$ con una partición de 10 subintervalos."
   ]
  },
  {
   "cell_type": "markdown",
   "id": "8193f7e6",
   "metadata": {},
   "source": [
    "Para resolver este ejercicio utilizaremos la función **sum** de la librería **numpy**."
   ]
  },
  {
   "cell_type": "code",
   "execution_count": 1,
   "id": "58f38476",
   "metadata": {},
   "outputs": [],
   "source": [
    "import numpy as np"
   ]
  },
  {
   "cell_type": "code",
   "execution_count": 2,
   "id": "0de6e7a9",
   "metadata": {},
   "outputs": [],
   "source": [
    "?np.sum"
   ]
  },
  {
   "cell_type": "markdown",
   "id": "10c90e95",
   "metadata": {},
   "source": [
    "**Parameters:**\n",
    "\n",
    "arr : input array.\n",
    "\n",
    "axis : axis along which we want to calculate the sum value. Otherwise, it will consider arr to be flattened(works on all the axis). axis = 0 means along the column and axis = 1 means working along the row."
   ]
  },
  {
   "cell_type": "code",
   "execution_count": 3,
   "id": "92e45c2e",
   "metadata": {},
   "outputs": [
    {
     "data": {
      "text/plain": [
       "15"
      ]
     },
     "execution_count": 3,
     "metadata": {},
     "output_type": "execute_result"
    }
   ],
   "source": [
    "array = [1,2,3,4,5]\n",
    "np.sum(array)"
   ]
  },
  {
   "cell_type": "code",
   "execution_count": 4,
   "id": "e46535d0",
   "metadata": {},
   "outputs": [
    {
     "data": {
      "text/plain": [
       "46"
      ]
     },
     "execution_count": 4,
     "metadata": {},
     "output_type": "execute_result"
    }
   ],
   "source": [
    "array = [[1,2,3,4],[5,6,7,8],[1,2,3,4]]\n",
    "np.sum(array)"
   ]
  },
  {
   "cell_type": "code",
   "execution_count": 5,
   "id": "d8d2d2e0",
   "metadata": {},
   "outputs": [
    {
     "data": {
      "text/plain": [
       "array([ 7, 10, 13, 16])"
      ]
     },
     "execution_count": 5,
     "metadata": {},
     "output_type": "execute_result"
    }
   ],
   "source": [
    "array = [[1,2,3,4],\n",
    "         [5,6,7,8],\n",
    "         [1,2,3,4]]\n",
    "np.sum(array, axis = 0)"
   ]
  },
  {
   "cell_type": "markdown",
   "id": "6a695f23",
   "metadata": {},
   "source": [
    "Ahora si,regresando al ejercicio..."
   ]
  },
  {
   "cell_type": "markdown",
   "id": "1e48cc21",
   "metadata": {},
   "source": [
    "Considere la suma de Riemman izquierda y derecha, así como la regla del punto medio para aproximar $\\int_0^{\\pi} sin(x) dx$ con una partición de 10 subintervalos."
   ]
  },
  {
   "cell_type": "code",
   "execution_count": 27,
   "id": "abaaf386",
   "metadata": {},
   "outputs": [
    {
     "data": {
      "text/plain": [
       "array([0.00000000e+00, 3.09016994e-01, 5.87785252e-01, 8.09016994e-01,\n",
       "       9.51056516e-01, 1.00000000e+00, 9.51056516e-01, 8.09016994e-01,\n",
       "       5.87785252e-01, 3.09016994e-01, 1.22464680e-16])"
      ]
     },
     "execution_count": 27,
     "metadata": {},
     "output_type": "execute_result"
    }
   ],
   "source": [
    "a = 0\n",
    "b = np.pi\n",
    "n = 11\n",
    "h = (b-a)/(n-1)\n",
    "x = np.linspace(a,b,n)\n",
    "f = np.sin(x)\n",
    "f"
   ]
  },
  {
   "cell_type": "code",
   "execution_count": 7,
   "id": "ba3dbcef",
   "metadata": {},
   "outputs": [
    {
     "data": {
      "text/plain": [
       "(1.9835235375094546, 1.9835235375094546, 2.008248407907974)"
      ]
     },
     "execution_count": 7,
     "metadata": {},
     "output_type": "execute_result"
    }
   ],
   "source": [
    "Riemman_L = h*np.sum(f[:n-1])\n",
    "Riemman_R = h*np.sum(f[1:])\n",
    "Mid = h*np.sum(np.sin((x[1:]+x[:n-1])/2))\n",
    "Riemman_L,Riemman_R,Mid"
   ]
  },
  {
   "cell_type": "markdown",
   "id": "4a344738",
   "metadata": {},
   "source": [
    "Sabemos que calculando analíticamente la $\\int_0^{\\pi} sin(x) dx = 2$. Entonces el error de las diferentes aproximaciones es:"
   ]
  },
  {
   "cell_type": "code",
   "execution_count": 8,
   "id": "9babeaf2",
   "metadata": {},
   "outputs": [
    {
     "data": {
      "text/plain": [
       "(0.01647646249054535, 0.01647646249054535, -0.008248407907974098)"
      ]
     },
     "execution_count": 8,
     "metadata": {},
     "output_type": "execute_result"
    }
   ],
   "source": [
    "error_L = 2-Riemman_L\n",
    "error_R = 2-Riemman_R\n",
    "error_M = 2-Mid\n",
    "error_L,error_R,error_M"
   ]
  },
  {
   "cell_type": "code",
   "execution_count": 9,
   "id": "2e652c42",
   "metadata": {},
   "outputs": [],
   "source": [
    "import matplotlib.pyplot as plt\n",
    "%matplotlib inline"
   ]
  },
  {
   "cell_type": "code",
   "execution_count": 10,
   "id": "383b1ca1",
   "metadata": {},
   "outputs": [],
   "source": [
    "f2 = 0*x"
   ]
  },
  {
   "cell_type": "code",
   "execution_count": 11,
   "id": "2eead155",
   "metadata": {},
   "outputs": [
    {
     "data": {
      "text/plain": [
       "<matplotlib.legend.Legend at 0x1b073e8ac10>"
      ]
     },
     "execution_count": 11,
     "metadata": {},
     "output_type": "execute_result"
    },
    {
     "data": {
      "image/png": "[encoded data removed]",
      "text/plain": [
       "<Figure size 720x360 with 1 Axes>"
      ]
     },
     "metadata": {
      "needs_background": "light"
     },
     "output_type": "display_data"
    }
   ],
   "source": [
    "plt.figure(figsize = (10,5))\n",
    "plt.plot(x,f,\"bo\", label = \"$f(x)= sin(x)$\")\n",
    "plt.plot(x,f2-.2,\"ro\", label = \"Partición\")\n",
    "plt.legend(fontsize=15)"
   ]
  },
  {
   "cell_type": "code",
   "execution_count": 25,
   "id": "12d2285a",
   "metadata": {},
   "outputs": [
    {
     "data": {
      "text/plain": [
       "<matplotlib.legend.Legend at 0x1b07877f9a0>"
      ]
     },
     "execution_count": 25,
     "metadata": {},
     "output_type": "execute_result"
    },
    {
     "data": {
      "image/png": "[encoded data removed]",
      "text/plain": [
       "<Figure size 720x360 with 1 Axes>"
      ]
     },
     "metadata": {
      "needs_background": "light"
     },
     "output_type": "display_data"
    }
   ],
   "source": [
    "plt.figure(figsize = (10,5))\n",
    "plt.plot(1,error_L,\"ro\", label = \"Left\")\n",
    "plt.plot(2,error_R,\"o\",label = \"Right\")\n",
    "plt.plot(3,abs(error_M),\"go\", label = \"Mid\")\n",
    "plt.legend(fontsize=15)"
   ]
  },
  {
   "cell_type": "markdown",
   "id": "14c46b71",
   "metadata": {},
   "source": [
    "## Aproximación del trapezoide"
   ]
  },
  {
   "cell_type": "markdown",
   "id": "c6bc12cf",
   "metadata": {},
   "source": [
    "Esta aproximación ajusta un trapezoide en cada subintervalo y suma las áreas de cada trapezoide para aproximar la integral. En cada subintervalo se calcula el área del trapezoide fromado por los puntos $(x_j,0),(x_{j+1},0), (x_j,f(x_j))$ y $(x_{j+1},f(x_{j+1}))$. Es decir:\n",
    "\n",
    "$\\int_a^bf(x)dx \\approx \\sum_{=0}^{n-1}h\\dfrac{f(x_j)+f(x_{j+1})}{2}$\n",
    "    "
   ]
  },
  {
   "cell_type": "markdown",
   "id": "f4971c9a",
   "metadata": {},
   "source": [
    "<img src = \"trapezoide.png\"  width=\"400\" height=\"300\"/>"
   ]
  },
  {
   "cell_type": "markdown",
   "id": "79d63798",
   "metadata": {},
   "source": [
    "Podemos adecuar la expresión anterior para que sea mas eficiente el computo de la siguiente manera:\n",
    "\n",
    "$\\int_a^bf(x)dx \\approx \\dfrac{h}{2}\\left(f(x_0)+2\\sum_{i=1}^{n-1}f(x_j)+f(x_n)\\right) $\n",
    "\n",
    "y la aproximación es de segundo orden $O(h^2)$"
   ]
  },
  {
   "cell_type": "markdown",
   "id": "c141f0c0",
   "metadata": {},
   "source": [
    "## Cont Ejercicio 1"
   ]
  },
  {
   "cell_type": "markdown",
   "id": "3e0b2b6a",
   "metadata": {},
   "source": [
    "Considere la aproximación del trapecio para aproximar la $\\int_0^{\\pi} sin(x) dx$ con una partición de 10 subintervalos."
   ]
  },
  {
   "cell_type": "code",
   "execution_count": 30,
   "id": "ffe03f23",
   "metadata": {},
   "outputs": [],
   "source": [
    "trap = (h/2)*(f[0]+2*np.sum(f[1:n-1])+f[n-1])\n",
    "error_trap = 2-trap"
   ]
  },
  {
   "cell_type": "code",
   "execution_count": 31,
   "id": "12e8bd2c",
   "metadata": {},
   "outputs": [
    {
     "data": {
      "text/plain": [
       "<matplotlib.legend.Legend at 0x1b0788e7760>"
      ]
     },
     "execution_count": 31,
     "metadata": {},
     "output_type": "execute_result"
    },
    {
     "data": {
      "image/png": "[encoded data removed]",
      "text/plain": [
       "<Figure size 720x360 with 1 Axes>"
      ]
     },
     "metadata": {
      "needs_background": "light"
     },
     "output_type": "display_data"
    }
   ],
   "source": [
    "plt.figure(figsize = (10,5))\n",
    "plt.plot(1,error_L,\"ro\", label = \"Left\")\n",
    "plt.plot(2,error_R,\"o\",label = \"Right\")\n",
    "plt.plot(3,abs(error_M),\"go\", label = \"Mid\")\n",
    "plt.plot(4,error_trap,\"yo\", label=\"Trap\")\n",
    "plt.legend(fontsize=15)"
   ]
  },
  {
   "cell_type": "markdown",
   "id": "727e9e38",
   "metadata": {},
   "source": [
    "## Aproximación de Simpson"
   ]
  },
  {
   "cell_type": "markdown",
   "id": "893f6ca0",
   "metadata": {},
   "source": [
    "Consideremos dos subintervalos consecutivos $[x_{i-1},x_{i}]$ y $[x_{i},x_{i+1}]$. El área bajo $f(x)$ en estos dos subintervalos se aproxima ajustando un polinomio cuadrático que pase porlos puntos $(x_{i-1},f(x_{i-1})),(x_{i},f(x_{i}))$ y $(x_{i+1},f(x_{i+1}))$, el cual es un polinomio único y se integra.\n",
    "\n",
    "<img src = \"simpson.png\"  width=\"600\" height=\"300\"/>\n",
    "\n",
    "Para generar el polinomio cudrático que ajusta a los puntos $(x_{i-1},f(x_{i-1})),(x_{i},f(x_{i}))$ y $(x_{i+1},f(x_{i+1}))$ se consideran los polinomios de Lagrange $L(x)$, cuya ecuación generadora es:\n",
    "\n",
    "$L(x)=\\sum_{i=1}^{n}y_{i}P_i(x)$\n",
    "\n",
    "donde $n$ es el número de puntos, $y_i$ la coordenada $y$ del i-ésimo punto y $P_i$ se conoce como la base generadora dada por:\n",
    "\n",
    "$\n",
    "P_i(x)=\\prod_{j=1,j\\neq i}^{n}\\dfrac{x-x_j}{x_i-x_j}\n",
    "$\n",
    "\n",
    "entonces para este caso tenemos que:\n",
    "\n",
    "$\n",
    "\\begin{array}{ccl}\n",
    "L_{k}(x)&=&f(x_{i-1})\\dfrac{(x-x_i)(x-x_{i+1})}{(x_{i-1}-x_i)(x_{i-1}-x_{i+1})}+f(x_i)\\dfrac{(x-x_{i-1})(x-x_{i+1})}{(x_{i}-x_{i-1})(x_{i}-x_{i+1})}\\\\&&+f(x_{i+1})\\dfrac{(x-x_{i-1})(x-x_{i})}{(x_{i+1}-x_{i-1})(x_{i+1}-x_{i})}\n",
    "\\end{array}$\n",
    "\n",
    "susituyendo $h$ queda\n",
    "\n",
    "$\n",
    "\\begin{array}{ccl}\n",
    "L_{k}&=& f(x_{i-1})\\dfrac{(x-x_i)(x-x_{i+1})}{2h^2}+f(x_i)\\dfrac{(x-x_{i-1})(x-x_{i+1})}{h^2}\\\\&&+f(x_{i+1})\\dfrac{(x-x_{i-1})(x-x_{i})}{2h^2}\n",
    "\\end{array}$"
   ]
  },
  {
   "cell_type": "markdown",
   "id": "32ed7a40",
   "metadata": {},
   "source": [
    "Entonces la integral sobre el polinomio $L_k$\n",
    "\n",
    "$\n",
    "\\int_{x_{i-1}}^{x_{i+1}}L_k (x) dx= \\dfrac{h}{3}(f(x_{i-1})+4f(x_i)+f(x_{i+1}))\n",
    "$\n",
    "\n",
    "y la integral total sobre todo el intervalo $[a,b]$ es la suma de las integrales sobre todos los pares de intervalos. La cual resulta ser:\n",
    "\n",
    "$\n",
    "\\int_a^bf(x)dx\\approx \\dfrac{h}{3}\\left[f(x_0)+4\\sum_{i=1,i\\, impar}^{n-1} f(x_i)+2\\sum_{i=2,i\\, par}^{n-2} f(x_i)+f(x_n)\\right]\n",
    "$\n",
    "\n",
    "La precisión de la aproximación de Simpson sobre todo el intervalo $[a,b]$ es $O(h^4)$"
   ]
  },
  {
   "cell_type": "markdown",
   "id": "7ddebf76",
   "metadata": {},
   "source": [
    "**Ejemplo:**\n",
    "\n",
    "Encuentra los polinomios de Lagrange para los puntos $(0,1)$, $(1,3)$ y $(2,2)$"
   ]
  },
  {
   "cell_type": "markdown",
   "id": "02f340f3",
   "metadata": {},
   "source": [
    "$\n",
    "P_i(x)=\\prod_{j=1,j\\neq i}^{n}\\dfrac{x-x_j}{x_i-x_j}\n",
    "$\n",
    "\n",
    "$n =3$\n",
    "\n",
    "$j=1,2,3$\n",
    "\n",
    "$i=1,2,3$\n",
    "\n",
    "Para nuestro primer polinomio si $i=1$ entonces $j = 2,3$"
   ]
  },
  {
   "cell_type": "markdown",
   "id": "5f668376",
   "metadata": {},
   "source": [
    "Considerando la base generadora tenemos que:\n",
    "\n",
    "$\n",
    "\\begin{array}{cccccc}\n",
    "P_1(x)&=&\\dfrac{(x-x_2)(x-x_3)}{(x_1-x_2)(x_1-x_3)}&=&\\dfrac{(x-1)(x-2)}{(0-1)(0-2)} &=& \\dfrac{1}{2}(x^2-3x+2)\\\\\n",
    "P_2(x)&=&\\dfrac{(x-x_1)(x-x_3)}{(x_2-x_1)(x_2-x_3)}&=&\\dfrac{(x-0)(x-2)}{(1-0)(1-2)} &=& -(x^2+2x)\\\\\n",
    "P_3(x)&=&\\dfrac{(x-x_1)(x-x_2)}{(x_3-x_1)(x_3-x_2)}&=&\\dfrac{(x-0)(x-1)}{(2-0)(2-1)} &=& \\dfrac{1}{2}(x^2-x)\n",
    "\\end{array}\n",
    "$\n",
    "\n",
    "entonces\n",
    "\n",
    "$\n",
    "\\begin{array}{ccl}\n",
    "L(x)&=&(y_1)P_1+(y_2)P_2+(y_3)P_3\\\\\n",
    "&=&(1)P_1+(3)P_2+(2)P_3\\\\\n",
    "&=&-\\dfrac{3}{2}x^2+\\dfrac{7}{2}x+1\n",
    "\\end{array}\n",
    "$"
   ]
  },
  {
   "cell_type": "code",
   "execution_count": 34,
   "id": "8b03312b",
   "metadata": {},
   "outputs": [],
   "source": [
    "x = np.linspace(-2,4,30)\n",
    "Pol = (-3/2)*x**2+(7/2)*x+1"
   ]
  },
  {
   "cell_type": "code",
   "execution_count": 36,
   "id": "a5d1e0a4",
   "metadata": {},
   "outputs": [
    {
     "data": {
      "text/plain": [
       "[<matplotlib.lines.Line2D at 0x1b078a4c220>]"
      ]
     },
     "execution_count": 36,
     "metadata": {},
     "output_type": "execute_result"
    },
    {
     "data": {
      "image/png": "[encoded data removed]",
      "text/plain": [
       "<Figure size 432x288 with 1 Axes>"
      ]
     },
     "metadata": {
      "needs_background": "light"
     },
     "output_type": "display_data"
    }
   ],
   "source": [
    "plt.plot(0,1,\"ro\")\n",
    "plt.plot(1,3,\"bo\")\n",
    "plt.plot(2,2,\"go\")\n",
    "plt.plot(x,Pol)"
   ]
  },
  {
   "cell_type": "markdown",
   "id": "bbe59ff0",
   "metadata": {},
   "source": [
    "Usando el método de simpson aproxime $\\int_0^{\\pi} sin(x) dx$"
   ]
  },
  {
   "cell_type": "code",
   "execution_count": 37,
   "id": "9a8d7a02",
   "metadata": {},
   "outputs": [],
   "source": [
    "a = 0\n",
    "b = np.pi\n",
    "n = 11\n",
    "h = (b-a)/(n-1)\n",
    "x = np.linspace(a,b,n)\n",
    "f = np.sin(x)"
   ]
  },
  {
   "cell_type": "markdown",
   "id": "a6c8c8ce",
   "metadata": {},
   "source": [
    "$\n",
    "\\int_a^bf(x)dx\\approx \\dfrac{h}{3}\\left[f(x_0)+4\\sum_{i=1,i\\, impar}^{n-1} f(x_i)+2\\sum_{i=2,i\\, par}^{n-2} f(x_i)+f(x_n)\\right]\n",
    "$"
   ]
  },
  {
   "cell_type": "code",
   "execution_count": 41,
   "id": "8416a20a",
   "metadata": {},
   "outputs": [],
   "source": [
    "Simp = (h/3)*(f[0]+4*np.sum(f[1:n-1:2])+2*np.sum(f[:n-2:2])+f[n-1])\n",
    "Simp\n",
    "error_Simp =2 -Simp"
   ]
  },
  {
   "cell_type": "code",
   "execution_count": 42,
   "id": "adb7d8a2",
   "metadata": {},
   "outputs": [
    {
     "data": {
      "text/plain": [
       "<matplotlib.legend.Legend at 0x1b078a87250>"
      ]
     },
     "execution_count": 42,
     "metadata": {},
     "output_type": "execute_result"
    },
    {
     "data": {
      "image/png": "[encoded data removed]",
      "text/plain": [
       "<Figure size 720x360 with 1 Axes>"
      ]
     },
     "metadata": {
      "needs_background": "light"
     },
     "output_type": "display_data"
    }
   ],
   "source": [
    "plt.figure(figsize = (10,5))\n",
    "plt.plot(1,error_L,\"ro\", label = \"Left\")\n",
    "plt.plot(2,error_R,\"o\",label = \"Right\")\n",
    "plt.plot(3,abs(error_M),\"go\", label = \"Mid\")\n",
    "plt.plot(4,error_trap,\"yo\", label=\"Trap\")\n",
    "plt.plot(5,error_Simp,\"b^\", label=\"Simp\")\n",
    "plt.legend(fontsize=15)"
   ]
  },
  {
   "cell_type": "code",
   "execution_count": null,
   "id": "e31154e7",
   "metadata": {},
   "outputs": [],
   "source": []
  }
 ],
 "metadata": {
  "kernelspec": {
   "display_name": "Python 3",
   "language": "python",
   "name": "python3"
  },
  "language_info": {
   "codemirror_mode": {
    "name": "ipython",
    "version": 3
   },
   "file_extension": ".py",
   "mimetype": "text/x-python",
   "name": "python",
   "nbconvert_exporter": "python",
   "pygments_lexer": "ipython3",
   "version": "3.8.8"
  }
 },
 "nbformat": 4,
 "nbformat_minor": 5
}
