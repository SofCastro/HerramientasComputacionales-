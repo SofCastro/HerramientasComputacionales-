{
 "cells": [
  {
   "cell_type": "markdown",
   "metadata": {},
   "source": [
    "# Práctica-2\n",
    "\n",
    "Por: Sofía Castro Varona\n",
    "\n",
    "Cuenta de GitHub: SofCastro"
   ]
  },
  {
   "cell_type": "markdown",
   "metadata": {},
   "source": [
    "## 1. Cadenas"
   ]
  },
  {
   "cell_type": "markdown",
   "metadata": {},
   "source": [
    "### a) Crea una cadena con palabras separadas con \",\" y reemplaza las comas con espacios "
   ]
  },
  {
   "cell_type": "code",
   "execution_count": 8,
   "metadata": {},
   "outputs": [
    {
     "name": "stdout",
     "output_type": "stream",
     "text": [
      "Palabras separadas por comas: \n",
      "Sofía, Castro, y, Jenni, Rivera\n"
     ]
    }
   ],
   "source": [
    "una_cadena = 'Sofía, Castro, y, Jenni, Rivera'\n",
    "print('Palabras separadas por comas: ')\n",
    "print( una_cadena )"
   ]
  },
  {
   "cell_type": "code",
   "execution_count": 9,
   "metadata": {},
   "outputs": [
    {
     "name": "stdout",
     "output_type": "stream",
     "text": [
      "Palabras separadas por espacios:\n",
      "Sofía  Castro  y  Jenni  Rivera\n"
     ]
    }
   ],
   "source": [
    "una_cadena = 'Sofía, Castro, y, Jenni, Rivera'\n",
    "print('Palabras separadas por espacios:')\n",
    "print(una_cadena.replace(\",\", \" \"))"
   ]
  },
  {
   "cell_type": "markdown",
   "metadata": {},
   "source": [
    "### b) Pon dos cadenas para concatenarlas, con un espacio entre ellas y almacénalas en una variable llamada new_string"
   ]
  },
  {
   "cell_type": "code",
   "execution_count": 17,
   "metadata": {},
   "outputs": [
    {
     "name": "stdout",
     "output_type": "stream",
     "text": [
      "Escribe algo: Me gustan los\n",
      "Escribe otra cosa: ajolotes\n",
      "Me gustan los ajolotes\n",
      "22\n",
      "ME GUSTAN LOS AJOLOTES\n"
     ]
    },
    {
     "data": {
      "text/plain": [
       "-1"
      ]
     },
     "execution_count": 17,
     "metadata": {},
     "output_type": "execute_result"
    }
   ],
   "source": [
    "string_1 = input('Escribe algo: ')\n",
    "string_2 = input('Escribe otra cosa: ')\n",
    "new_string = string_1 + ' ' + string_2 \n",
    "print(new_string)\n",
    "print(len(new_string))\n",
    "print(new_string.upper())\n",
    "new_string.find('Albus')"
   ]
  },
  {
   "cell_type": "markdown",
   "metadata": {},
   "source": [
    "## 2. Conversiones de km a millas y viceversa "
   ]
  },
  {
   "cell_type": "markdown",
   "metadata": {},
   "source": [
    "### a) Escribe una distancia en km "
   ]
  },
  {
   "cell_type": "code",
   "execution_count": 18,
   "metadata": {},
   "outputs": [
    {
     "name": "stdout",
     "output_type": "stream",
     "text": [
      "Pon una distancia en km: 1000\n"
     ]
    }
   ],
   "source": [
    "distancia_km = input('Pon una distancia en km: ')"
   ]
  },
  {
   "cell_type": "markdown",
   "metadata": {},
   "source": [
    "### b) Convierte ese valor en un entero usando int()"
   ]
  },
  {
   "cell_type": "code",
   "execution_count": 22,
   "metadata": {},
   "outputs": [
    {
     "name": "stdout",
     "output_type": "stream",
     "text": [
      "<class 'int'>\n"
     ]
    }
   ],
   "source": [
    "kilometro = int (distancia_km)\n",
    "print(type(kilometro))"
   ]
  },
  {
   "cell_type": "markdown",
   "metadata": {},
   "source": [
    "### c) Convierte ese valor en millas "
   ]
  },
  {
   "cell_type": "code",
   "execution_count": 28,
   "metadata": {},
   "outputs": [
    {
     "name": "stdout",
     "output_type": "stream",
     "text": [
      "La distancia a millas es: \n",
      "621.4\n"
     ]
    }
   ],
   "source": [
    "print('La distancia a millas es: ')\n",
    "millas = (kilometro * .6214) \n",
    "print(millas)"
   ]
  },
  {
   "cell_type": "markdown",
   "metadata": {},
   "source": [
    "### d) Indica los km en millas "
   ]
  },
  {
   "cell_type": "code",
   "execution_count": 34,
   "metadata": {},
   "outputs": [
    {
     "name": "stdout",
     "output_type": "stream",
     "text": [
      " En 1000 hay 621.4 millas\n"
     ]
    }
   ],
   "source": [
    "total = f' En {distancia_km} hay {millas} millas'\n",
    "print(total)         "
   ]
  },
  {
   "cell_type": "code",
   "execution_count": null,
   "metadata": {},
   "outputs": [],
   "source": []
  }
 ],
 "metadata": {
  "kernelspec": {
   "display_name": "Python 3",
   "language": "python",
   "name": "python3"
  },
  "language_info": {
   "codemirror_mode": {
    "name": "ipython",
    "version": 3
   },
   "file_extension": ".py",
   "mimetype": "text/x-python",
   "name": "python",
   "nbconvert_exporter": "python",
   "pygments_lexer": "ipython3",
   "version": "3.8.3"
  }
 },
 "nbformat": 4,
 "nbformat_minor": 4
}
