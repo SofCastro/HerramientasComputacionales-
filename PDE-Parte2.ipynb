{
 "cells": [
  {
   "cell_type": "markdown",
   "metadata": {},
   "source": [
    "# Ecuaciones diferenciales Parciales"
   ]
  },
  {
   "cell_type": "markdown",
   "metadata": {},
   "source": [
    "Las ecuaciones diferenciales parciales (PDEs) son ecuaciones diferenciales de varias variables donde existen  derivadas respecto a más de una variable independiente. Es decir, derivadas en la ecuación que son parciales. Como tal son una generalización de las ecuaciones diferenciales oridnarias (ODEs). \n",
    "\n",
    "Auque conceptualmente las diferencias entre ODE y PDE no es tan grande, las técnicas computacionales requeridas para cada una son diferentes, y típicamente, resolver una PDE es mucho mas demandante computacionalmente hablando.\n",
    "\n",
    "La mayoría de las técnicas para resolver una PDE se basan en **discretizar**  el problema para cada una de las variables independientes de la PDE y posteriorme te expresarlo en forma algebraica. "
   ]
  },
  {
   "cell_type": "markdown",
   "metadata": {},
   "source": [
    "La variable desconocida en un PDE es una función mutivariable, la cula denotaremso como $u$. En un problema N-dimensional, la función $u$ dependen de $n$ independientes variables: $u(x_1,x_2,\\dots , x_n)$. Una PDE puede escribirse como:\n",
    "\n",
    "$F\\left(x_1,x_2,\\dots ,x_n,u,\\Big\\lbrace\\dfrac{\\partial u}{\\partial x_{i_{1}}}\\Big\\rbrace_{1\\leq i_{1}\\leq n},\\Big\\lbrace\\dfrac{\\partial^2 u}{\\partial x_{i_{1}}x_{i_{2}}}\\Big\\rbrace_{1\\leq i_{1},i_{2}\\leq n},\\dots\\right)=0, x \\in \\Omega$\n",
    "\n",
    "donde $\\Big\\lbrace\\dfrac{\\partial u}{\\partial x_{i_{1}}}\\Big\\rbrace_{1\\leq i_{1}\\leq n}$ denota todas las derivadas de primer orden respecto a las variables independientes $x_1,\\dots,x_n$, $\\Big\\lbrace\\dfrac{\\partial^2 u}{\\partial x_{i_{1}}x_{i_{2}}}\\Big\\rbrace_{1\\leq i_{1},i_{2}\\leq n}$ denota todas las derivadas de segundo orden y así sucesivamente. En este caso $F$ es una función conocida que describe la forma de la PDE y $\\Omega$ es el dominio de la PDE. En la práctica muchas PDE contienen derivadas de hasta segundo orden, y comúnmente son problemas de 2 o 3 dimensiones y posiblemente el tiempo. \n",
    "\n",
    "Para poder econtrar una solución a una PDE es necesario definir las condiciones de frontera, las cuales son valores conocidos de la función o una combinación de sus derivadas evaluadas en la frontera del dominio $\\Omega$, así como los valores inciales si el problema depende del tiempo. Dos tipos de condiciones de frontera importantes son:\n",
    "\n",
    "1. **Dirichlet:** las cuales especifican el valor de la función en la frontera $u(\\textbf{x})=h(\\textbf{x})$ para toda $\\textbf{x}\\in \\partial\\Omega_{DL}$\n",
    "2. **Neumann:** las cuales especifian el valor de la derivada normal en la frontera $\\dfrac{\\partial u(\\textbf{x})}{\\partial\\textbf{n}}=g(\\textbf{x})$ para toda $\\textbf{x}\\in \\partial\\Omega_{N}$, donde $\\textbf{n}$ es el vector normal exterior de la frontera. \n",
    "\n",
    "donde $h(\\textbf{x})$ y $g(\\textbf{x})$ son fuciones arbitrarias.\n"
   ]
  },
  {
   "cell_type": "markdown",
   "metadata": {},
   "source": [
    "# Metódo de diferencias finitas"
   ]
  },
  {
   "cell_type": "markdown",
   "metadata": {},
   "source": [
    "La idea básica del método de diferencias finitas es aproximar las derivadas de una PDE con las fórmulas de diferencias finitas en un espacio discretizado. Por ejemplo, la fórmula de difrencias finitas *forward* para un derivada ordinaria en un conjunto de puntos discretos ${x_n}$ es:\n",
    "\n",
    "$\n",
    "\\dfrac{d u(x_n)}{d x}\\approx \\dfrac{u(x_{n+1})-u(x_n)}{x_{n+1}-x_n}\n",
    "$\n",
    "\n",
    "De manera similar, podemos construir una derivada de segundo orden se tiene:\n",
    "\n",
    "$\n",
    "\\dfrac{d^2 u(x_n)}{d x^2}\\approx \\dfrac{u(x_{n+1})-2u(x_n)+u(x_{n-1})}{(x_{n+1}-x_n)^2}\n",
    "$\n",
    "\n",
    "Asumiendo que la discretización de la variable $x$ es suficiente, estas fórmulas de diferencias finitas pueden aproximar de manera adecuada las derivadas. Las formulas de diferencias finitas tmabién son válidas para las derivadas parciales. Para familiarizarnos con la metódología consideremos una ODE."
   ]
  },
  {
   "cell_type": "markdown",
   "metadata": {},
   "source": [
    "# Ejemplo:"
   ]
  },
  {
   "cell_type": "markdown",
   "metadata": {},
   "source": [
    "Resulve la siguiente ecuación diferencial ordinaria $u_{xx}=-5$ en el intervalo $x\\in [0,1]$ y con las condiciones de frontera $u(x=0)=1$ y $u(x=1)=2$:\n"
   ]
  },
  {
   "cell_type": "markdown",
   "metadata": {},
   "source": [
    "# *Solución:*"
   ]
  },
  {
   "cell_type": "markdown",
   "metadata": {},
   "source": [
    "El objetivo es encontrar la función $u(x_n)= u_n$\n",
    "\n",
    "Entonces primero discretrizamos el dominio de la ODE.\n",
    "\n",
    "Luego, escribimos una expresion para la ODE en términos de diferencias finitas para cada punto interior $n$:\n",
    "\n",
    "$u_{xx}= \\dfrac{u(x_{n+1})-2u(x_n)+u(x_{n-1})}{(x_{n+1}-x_n)^2}=-5\n",
    "$\n",
    "\n",
    " y las condiciones de frontera $u_0=1$ y $u_{N+1}=2$. Nótese que el intervalo $[0,1]$ ha sido discretizado en $N+2$ puntos igualmente espaciados, es decir $\\Delta x=x_{n+1}-x_n =\\dfrac{1}{N+1}$, con $n=0,1,2,\\dots,N+1$.\n",
    " \n",
    " Ya que conocemos los valores de la función $u$ en los extremos solo tenemos $N$ incógnitas $u_n$, las cuales corresponden a los valores de la función en los puntos interiores del intervalo $[0,1]$. \n",
    "\n",
    " \n",
    "El conjunto de ecuaciones para los puntos interiores puede escribirse en forma matricial como $Au=b$, donde $u=[u_1,u_2,\\dots,u_N]^T$, $b=\\left[-5-\\frac{u_0}{\\Delta x^2},-5,\\dots,-5,-5-\\frac{u_0}{\\Delta x^2}\\right]$\n",
    "\n",
    "$A=\\dfrac{1}{\\Delta x^2}\\left[\n",
    "\\begin{array}{ccccc}\n",
    "-2&1&0&0&\\dots\\\\\n",
    "1&-2&1&0&\\dots\\\\\n",
    "0&1&-2&1&\\dots\\\\\n",
    "0&0&1&-2&\\dots\\\\\n",
    "\\vdots&\\vdots&\\vdots&\\vdots\n",
    "\\end{array}\\right]$\n",
    "\n",
    "Donde la matriz $A$ describe el acoplamiento de las ecuaciones para $u_n$  con los valores en puntos vecinos, según la fórmula de diferencias finitas. Nótese que los valores de las condiciones de frontera se icluyeron en $b$ para poder expresar $A$ de manera que se cumpliera la ecuación $Au=b$.\n",
    "\n",
    "Ahora, ya podemos resolver el sistema de ecuaciones lineales de la funcion $u(x)$ en puntos discretos ${x_n}$.\n",
    "\n"
   ]
  },
  {
   "cell_type": "markdown",
   "metadata": {},
   "source": [
    "n=1\n",
    "\n",
    "$\\dfrac{u(x_{n+1})-2u(x_n)+u(x_{n-1})}{(x_{n+1}-x_n)^2}=-5$"
   ]
  },
  {
   "cell_type": "markdown",
   "metadata": {},
   "source": [
    "$\\dfrac{u(x_{2})-2u(x_1)+u(x_{0})}{\\Delta x^2}=-5$"
   ]
  },
  {
   "cell_type": "markdown",
   "metadata": {},
   "source": [
    "$\\dfrac{u(x_{2})-2u(x_1)}{\\Delta x^2}=-5-\\dfrac{u(x_0)}{\\Delta x^2}$"
   ]
  },
  {
   "cell_type": "markdown",
   "metadata": {},
   "source": [
    "$\\dfrac{u_{2}-2u_1}{\\Delta x^2}=-5-\\dfrac{u_0}{\\Delta x^2}$"
   ]
  },
  {
   "cell_type": "markdown",
   "metadata": {},
   "source": [
    "## Implementación"
   ]
  },
  {
   "cell_type": "markdown",
   "metadata": {},
   "source": [
    "Definimos algunas variables"
   ]
  },
  {
   "cell_type": "code",
   "execution_count": 1,
   "metadata": {},
   "outputs": [],
   "source": [
    "N = 5\n",
    "u0,u1 = 1,2\n",
    "dx=1/(N+1)"
   ]
  },
  {
   "cell_type": "markdown",
   "metadata": {},
   "source": [
    "Ahora construimos la matriz $A$ usando la función *np.eye*"
   ]
  },
  {
   "cell_type": "code",
   "execution_count": 2,
   "metadata": {},
   "outputs": [],
   "source": [
    "import numpy as np"
   ]
  },
  {
   "cell_type": "code",
   "execution_count": 3,
   "metadata": {},
   "outputs": [],
   "source": [
    "np.eye?"
   ]
  },
  {
   "cell_type": "code",
   "execution_count": 4,
   "metadata": {},
   "outputs": [
    {
     "data": {
      "text/plain": [
       "array([[1., 0., 0., 0., 0.],\n",
       "       [0., 1., 0., 0., 0.],\n",
       "       [0., 0., 1., 0., 0.],\n",
       "       [0., 0., 0., 1., 0.],\n",
       "       [0., 0., 0., 0., 1.]])"
      ]
     },
     "execution_count": 4,
     "metadata": {},
     "output_type": "execute_result"
    }
   ],
   "source": [
    "M1= np.eye(N)\n",
    "M1"
   ]
  },
  {
   "cell_type": "code",
   "execution_count": 5,
   "metadata": {},
   "outputs": [
    {
     "data": {
      "text/plain": [
       "(array([[0., 1., 0., 0., 0.],\n",
       "        [0., 0., 1., 0., 0.],\n",
       "        [0., 0., 0., 1., 0.],\n",
       "        [0., 0., 0., 0., 1.],\n",
       "        [0., 0., 0., 0., 0.]]),\n",
       " array([[0., 0., 0., 0., 0.],\n",
       "        [1., 0., 0., 0., 0.],\n",
       "        [0., 1., 0., 0., 0.],\n",
       "        [0., 0., 1., 0., 0.],\n",
       "        [0., 0., 0., 1., 0.]]))"
      ]
     },
     "execution_count": 5,
     "metadata": {},
     "output_type": "execute_result"
    }
   ],
   "source": [
    "M2, M3 = np.eye(N,k=1), np.eye(N,k=-1)\n",
    "M2,M3"
   ]
  },
  {
   "cell_type": "code",
   "execution_count": 6,
   "metadata": {},
   "outputs": [
    {
     "data": {
      "text/plain": [
       "array([[1., 1., 0., 0., 0.],\n",
       "       [1., 1., 1., 0., 0.],\n",
       "       [0., 1., 1., 1., 0.],\n",
       "       [0., 0., 1., 1., 1.],\n",
       "       [0., 0., 0., 1., 1.]])"
      ]
     },
     "execution_count": 6,
     "metadata": {},
     "output_type": "execute_result"
    }
   ],
   "source": [
    "M = M1+M2+M3\n",
    "M"
   ]
  },
  {
   "cell_type": "code",
   "execution_count": 7,
   "metadata": {},
   "outputs": [
    {
     "data": {
      "text/plain": [
       "array([[-72.,  36.,   0.,   0.,   0.],\n",
       "       [ 36., -72.,  36.,   0.,   0.],\n",
       "       [  0.,  36., -72.,  36.,   0.],\n",
       "       [  0.,   0.,  36., -72.,  36.],\n",
       "       [  0.,   0.,   0.,  36., -72.]])"
      ]
     },
     "execution_count": 7,
     "metadata": {},
     "output_type": "execute_result"
    }
   ],
   "source": [
    "A=(np.eye(N,k=-1)-2*np.eye(N)+np.eye(N,k=1))/dx**2\n",
    "A"
   ]
  },
  {
   "cell_type": "markdown",
   "metadata": {},
   "source": [
    "Ahora definimos un array para el vector $b$"
   ]
  },
  {
   "cell_type": "code",
   "execution_count": 8,
   "metadata": {},
   "outputs": [
    {
     "data": {
      "text/plain": [
       "array([-5., -5., -5., -5., -5.])"
      ]
     },
     "execution_count": 8,
     "metadata": {},
     "output_type": "execute_result"
    }
   ],
   "source": [
    "b=-5*np.ones(N)\n",
    "b"
   ]
  },
  {
   "cell_type": "code",
   "execution_count": 9,
   "metadata": {},
   "outputs": [
    {
     "data": {
      "text/plain": [
       "array([-41.,  -5.,  -5.,  -5., -77.])"
      ]
     },
     "execution_count": 9,
     "metadata": {},
     "output_type": "execute_result"
    }
   ],
   "source": [
    "b[0] =b[0]-u0/dx**2\n",
    "b[-1] = b[-1]-u1/dx**2\n",
    "b"
   ]
  },
  {
   "cell_type": "code",
   "execution_count": 10,
   "metadata": {},
   "outputs": [
    {
     "data": {
      "text/plain": [
       "array([1.51388889, 1.88888889, 2.125     , 2.22222222, 2.18055556])"
      ]
     },
     "execution_count": 10,
     "metadata": {},
     "output_type": "execute_result"
    }
   ],
   "source": [
    "u = np.linalg.solve(A,b)\n",
    "u"
   ]
  },
  {
   "cell_type": "markdown",
   "metadata": {},
   "source": [
    "Ahora visualizamos la solución de esta ODE."
   ]
  },
  {
   "cell_type": "code",
   "execution_count": 4,
   "metadata": {},
   "outputs": [],
   "source": [
    "import matplotlib.pyplot as plt\n",
    "%matplotlib inline"
   ]
  },
  {
   "cell_type": "code",
   "execution_count": 12,
   "metadata": {},
   "outputs": [],
   "source": [
    "x = np.linspace(0,1,N+2)\n",
    "U = np.hstack([[u0],u,[u1]])\n",
    "U_dxx =-5*np.ones(len(x))"
   ]
  },
  {
   "cell_type": "code",
   "execution_count": null,
   "metadata": {},
   "outputs": [],
   "source": []
  },
  {
   "cell_type": "code",
   "execution_count": 13,
   "metadata": {
    "scrolled": true
   },
   "outputs": [
    {
     "data": {
      "image/png": "[encoded data removed]",
      "text/plain": [
       "<Figure size 576x288 with 1 Axes>"
      ]
     },
     "metadata": {
      "needs_background": "light"
     },
     "output_type": "display_data"
    }
   ],
   "source": [
    "fig,ax=plt.subplots(figsize=(8,4))\n",
    "plt.style.use('ggplot')\n",
    "ax.plot(x,U,\"b-\", label = \"$u(x)$\")\n",
    "ax.plot(x[1:-1],u,\"ks\")\n",
    "ax.plot(x,U_dxx,\"r-^\", label =\"$u_{xx}(x)$\")\n",
    "ax.set_xlim(0, 1)\n",
    "ax.set_ylim(-6, 3)\n",
    "ax.set_xlabel(r\"$x$\", fontsize=18)\n",
    "ax.set_ylabel(r\"$u(x)$\", fontsize=18)\n",
    "plt.legend(fontsize=18)\n",
    "plt.show()"
   ]
  },
  {
   "cell_type": "markdown",
   "metadata": {},
   "source": [
    "La solucion analítica es:\n",
    "\n",
    "$u(x)= -\\frac{5}{2}x^2+\\frac{7}{2}x+1$"
   ]
  },
  {
   "cell_type": "code",
   "execution_count": 14,
   "metadata": {},
   "outputs": [],
   "source": [
    "U_exact = -5/2*x**2+7/2*x+1\n",
    "U_dx = -5*x+7/2"
   ]
  },
  {
   "cell_type": "code",
   "execution_count": 15,
   "metadata": {},
   "outputs": [
    {
     "data": {
      "image/png": "[encoded data removed]",
      "text/plain": [
       "<Figure size 576x288 with 1 Axes>"
      ]
     },
     "metadata": {},
     "output_type": "display_data"
    }
   ],
   "source": [
    "fig,ax=plt.subplots(figsize=(8,4))\n",
    "plt.style.use('ggplot')\n",
    "ax.plot(x,U,\"b-\", label = \"Sol numérica\")\n",
    "ax.plot(x,U_exact-.05,\"r.-\", label = \"Sol exacta\")\n",
    "ax.plot(x[1:-1],u,\"ks\")\n",
    "ax.set_xlim(0, 1)\n",
    "ax.set_xlabel(\"$x$\", fontsize=18)\n",
    "ax.set_ylabel(\"$u(x)$\", fontsize=18)\n",
    "ax.legend(loc = \"upper left\")\n",
    "plt.show()"
   ]
  },
  {
   "cell_type": "markdown",
   "metadata": {},
   "source": [
    "El método de diferencias finitas puede extenderse a dimensiones mayores usando la fórmula de diferencias finitas para cada una de las coordenadas discretizadas. Para un problema en 2 dimensiones tenemos un array $u$ de 2 dimensions para los valores que toma la función en cada punto interior del dominio, los cuales son desconocidos.\n",
    "\n",
    "Entonces al usar las fórmulas de diferencias finitas obtenemos un sistema acoplado de ecuaciones para los elementos en $u$. Y para escribir estas ecuaciones en la forma estandar matriz-vector, necesitamos reordenar el arreglo $u$ como vector y construir la correspondiente matriz A.\n"
   ]
  },
  {
   "cell_type": "markdown",
   "metadata": {},
   "source": [
    "# Ejemplo:"
   ]
  },
  {
   "cell_type": "markdown",
   "metadata": {},
   "source": [
    "Considere la generalización del problema anterior: $u_{xx}+u_{yy}=0$, con condiciones de frontera $ u(x=0)=3$, $u(x=1)=-1$, $u(y=0)=-5$ y $u(y=1)=5$."
   ]
  },
  {
   "cell_type": "markdown",
   "metadata": {},
   "source": [
    "Primero notemos que podemos escribir una la ecuacion anterior con las fórmulas de diferencias finitas como:\n",
    "\n",
    "$\n",
    "\\dfrac{u_{m-1,n}-2u_{m,n}+u_{m+1,n}}{\\Delta x^2}+\\dfrac{u_{m,n-1}-2u_{m,n}+u_{m,n+1}}{\\Delta y^2}=0\n",
    "$"
   ]
  },
  {
   "cell_type": "markdown",
   "metadata": {},
   "source": [
    "Si dividimos $x$ y $y$ en $N+2$ puntos, entonces $\\Delta x=\\Delta y=\\frac{1}{N+1}$ y $u$ es una matriz de $NxN$. Para escribir la ecuación en la forma estándar $Au=b$, tenemos que reacomodar la matrix $u$ apilando sus columnas o filas en un vector de tamaño $N^2\\times 1$\n",
    "\n",
    "mxn=rows x columns\n",
    "\n",
    "$u=\\left[\\begin{array}{cccccc}\n",
    "u_{1,1}& u_{1,2}&u_{1,3}&\\dots & u_{1,n-1}&u_{1,n}\\\\\n",
    "u_{2,1}& u_{2,2}&u_{2,3}&\\dots & u_{2,n-1}&u_{2,n}\\\\\n",
    "u_{3,1}& u_{3,2}&u_{3,3}&\\dots & u_{3,n-1}&u_{3,n}\\\\\n",
    "\\vdots&\\vdots&\\vdots&\\vdots&\\vdots&\\vdots\\\\\n",
    "u_{m-1,1}& u_{m-1,2}&u_{m-1,3}&\\dots & u_{m-1,n-1}&u_{m-1,n}\\\\\n",
    "u_{m,1}& u_{m,2}&u_{m,3}&\\dots & u_{m,n-1}&u_{m,n}\n",
    "\\end{array}\\right]$\n",
    "\n",
    "En forma vectorial $u_{vec}$ es un vector de $N^2\\times 1$\n",
    "\n",
    "$u_{vec}=[(u_{1,1},u_{1,2},u_{1,3},\\dots, u_{1,n-1},u_{1,n}),(u_{2,1},u_{2,2},u_{2,3},\\dots, u_{2,n-1},u_{2,n}),\\dots,(u_{m,1},u_{m,2},u_{m,3},\\dots, u_{m,n-1},u_{m,n})]$\n",
    "\n",
    "\n",
    "Entonces la matriz $A$ debe ser de $N^2\\times N^2$.\n",
    "\n",
    "Para construir la matriz $A$ primero definimos la matriz para el caso de una dimension $A_{1d}$, la cual corresponde a las ecuaciones de diferencia finitas para un eje coordenado (supongamos $x$ para el índice $m$ en $u_{m,n})$.\n",
    "\n",
    "Para considerar el segundo eje coordenado cosideramos el producto entre la matriz identidad de $N\\times N$ con la matriz $A_{1d}$, el resultado describe todas las derivadas para un valor de $m$ y para todos los valores de $n$.\n",
    "\n",
    "Por último, para tomar en cuenta los términos que acoplan la ecuación $u_{n,m}$ con $u_{m,n-1}$ y $u_{m,n+1}$, es decir, las derivadas para el indice $n$ necesitamos agregar diagonales que estan distanciadas de la diagonal principal por $N$ lugares.\n"
   ]
  },
  {
   "cell_type": "code",
   "execution_count": 1,
   "metadata": {},
   "outputs": [],
   "source": [
    "import numpy as np"
   ]
  },
  {
   "cell_type": "code",
   "execution_count": 7,
   "metadata": {},
   "outputs": [],
   "source": [
    "import matplotlib.pyplot as plt\n",
    "%matplotlib inline"
   ]
  },
  {
   "cell_type": "code",
   "execution_count": 2,
   "metadata": {},
   "outputs": [],
   "source": [
    "N_total = 5"
   ]
  },
  {
   "cell_type": "code",
   "execution_count": 9,
   "metadata": {},
   "outputs": [],
   "source": [
    "x_coord = [0,1,2,3,4]\n",
    "y_coord = [0,1,2,3,4]"
   ]
  },
  {
   "cell_type": "code",
   "execution_count": 10,
   "metadata": {},
   "outputs": [],
   "source": [
    "X,Y = np.meshgrid(x_coord,y_coord)"
   ]
  },
  {
   "cell_type": "code",
   "execution_count": 12,
   "metadata": {},
   "outputs": [],
   "source": [
    "X_int,Y_int = np.meshgrid(x_coord[1:-1],y_coord[1:-1])"
   ]
  },
  {
   "cell_type": "code",
   "execution_count": 13,
   "metadata": {},
   "outputs": [
    {
     "data": {
      "text/plain": [
       "<matplotlib.collections.PathCollection at 0x8417408>"
      ]
     },
     "execution_count": 13,
     "metadata": {},
     "output_type": "execute_result"
    },
    {
     "data": {
      "image/png": "[encoded data removed]",
      "text/plain": [
       "<Figure size 432x288 with 1 Axes>"
      ]
     },
     "metadata": {
      "needs_background": "light"
     },
     "output_type": "display_data"
    }
   ],
   "source": [
    "plt.scatter(X,Y)\n",
    "plt.scatter(X_int,Y_int)"
   ]
  },
  {
   "cell_type": "markdown",
   "metadata": {},
   "source": [
    "Consideremos el caso particular de $N=3$"
   ]
  },
  {
   "cell_type": "code",
   "execution_count": 17,
   "metadata": {},
   "outputs": [],
   "source": [
    "N = 3"
   ]
  },
  {
   "cell_type": "markdown",
   "metadata": {},
   "source": [
    "Entonces la matriz $A_{1d}$ es"
   ]
  },
  {
   "cell_type": "code",
   "execution_count": 20,
   "metadata": {},
   "outputs": [],
   "source": [
    "A_1d = np.eye(N, k=-1) + np.eye(N, k = 1)-4*np.eye(N)"
   ]
  },
  {
   "cell_type": "code",
   "execution_count": 21,
   "metadata": {},
   "outputs": [
    {
     "data": {
      "text/plain": [
       "array([[-4.,  1.,  0.],\n",
       "       [ 1., -4.,  1.],\n",
       "       [ 0.,  1., -4.]])"
      ]
     },
     "execution_count": 21,
     "metadata": {},
     "output_type": "execute_result"
    }
   ],
   "source": [
    "A_1d"
   ]
  },
  {
   "cell_type": "code",
   "execution_count": null,
   "metadata": {},
   "outputs": [],
   "source": []
  },
  {
   "cell_type": "markdown",
   "metadata": {},
   "source": [
    "\n",
    "Para construir la matriz del segundo paso es necesario el producto de Kronecker.\n",
    "\n",
    "<img src = \"Kron.png\"  width=\"300\" height=\"300\"/>"
   ]
  },
  {
   "cell_type": "markdown",
   "metadata": {},
   "source": [
    "es decir:"
   ]
  },
  {
   "cell_type": "markdown",
   "metadata": {},
   "source": [
    "<img src = \"Kron2.png\"  width=\"500\" height=\"300\"/>"
   ]
  },
  {
   "cell_type": "markdown",
   "metadata": {},
   "source": [
    "Ejemplo:"
   ]
  },
  {
   "cell_type": "code",
   "execution_count": 22,
   "metadata": {},
   "outputs": [],
   "source": [
    "M1 = np.array([[1,2],[3,1]])"
   ]
  },
  {
   "cell_type": "code",
   "execution_count": 23,
   "metadata": {},
   "outputs": [
    {
     "data": {
      "text/plain": [
       "array([[1, 2],\n",
       "       [3, 1]])"
      ]
     },
     "execution_count": 23,
     "metadata": {},
     "output_type": "execute_result"
    }
   ],
   "source": [
    "M1"
   ]
  },
  {
   "cell_type": "code",
   "execution_count": 24,
   "metadata": {},
   "outputs": [],
   "source": [
    "M2 = np.array([[0,3],[3,1]])"
   ]
  },
  {
   "cell_type": "code",
   "execution_count": 25,
   "metadata": {},
   "outputs": [
    {
     "data": {
      "text/plain": [
       "array([[0, 3],\n",
       "       [3, 1]])"
      ]
     },
     "execution_count": 25,
     "metadata": {},
     "output_type": "execute_result"
    }
   ],
   "source": [
    "M2"
   ]
  },
  {
   "cell_type": "code",
   "execution_count": 26,
   "metadata": {},
   "outputs": [],
   "source": [
    "K1 = np.kron(M1,M2)"
   ]
  },
  {
   "cell_type": "code",
   "execution_count": 27,
   "metadata": {},
   "outputs": [
    {
     "data": {
      "text/plain": [
       "array([[0, 3, 0, 6],\n",
       "       [3, 1, 6, 2],\n",
       "       [0, 9, 0, 3],\n",
       "       [9, 3, 3, 1]])"
      ]
     },
     "execution_count": 27,
     "metadata": {},
     "output_type": "execute_result"
    }
   ],
   "source": [
    "K1"
   ]
  },
  {
   "cell_type": "markdown",
   "metadata": {},
   "source": [
    "Continuando con le ejercicio principal tenemos que:"
   ]
  },
  {
   "cell_type": "code",
   "execution_count": 28,
   "metadata": {},
   "outputs": [],
   "source": [
    "A = np.kron(np.eye(N),A_1d)"
   ]
  },
  {
   "cell_type": "markdown",
   "metadata": {},
   "source": [
    "$Au=b$"
   ]
  },
  {
   "cell_type": "code",
   "execution_count": 29,
   "metadata": {},
   "outputs": [
    {
     "data": {
      "text/plain": [
       "array([[-4.,  1.,  0., -0.,  0.,  0., -0.,  0.,  0.],\n",
       "       [ 1., -4.,  1.,  0., -0.,  0.,  0., -0.,  0.],\n",
       "       [ 0.,  1., -4.,  0.,  0., -0.,  0.,  0., -0.],\n",
       "       [-0.,  0.,  0., -4.,  1.,  0., -0.,  0.,  0.],\n",
       "       [ 0., -0.,  0.,  1., -4.,  1.,  0., -0.,  0.],\n",
       "       [ 0.,  0., -0.,  0.,  1., -4.,  0.,  0., -0.],\n",
       "       [-0.,  0.,  0., -0.,  0.,  0., -4.,  1.,  0.],\n",
       "       [ 0., -0.,  0.,  0., -0.,  0.,  1., -4.,  1.],\n",
       "       [ 0.,  0., -0.,  0.,  0., -0.,  0.,  1., -4.]])"
      ]
     },
     "execution_count": 29,
     "metadata": {},
     "output_type": "execute_result"
    }
   ],
   "source": [
    "A"
   ]
  },
  {
   "cell_type": "markdown",
   "metadata": {},
   "source": [
    "Por último, para tomar en cuenta los términos que acoplan la ecuación $u_{n,m}$ con $u_{m,n-1}$ y $u_{m,n+1}$, es decir, las derivadas para el indice $n$ necesitamos agregar diagonales que estan distanciadas de la diagonal principal por $N$ lugares."
   ]
  },
  {
   "cell_type": "code",
   "execution_count": 30,
   "metadata": {},
   "outputs": [],
   "source": [
    "A = A + np.eye(N**2,k=-N) + np.eye(N**2,k=N)"
   ]
  },
  {
   "cell_type": "code",
   "execution_count": 31,
   "metadata": {},
   "outputs": [
    {
     "data": {
      "text/plain": [
       "array([[-4.,  1.,  0.,  1.,  0.,  0.,  0.,  0.,  0.],\n",
       "       [ 1., -4.,  1.,  0.,  1.,  0.,  0.,  0.,  0.],\n",
       "       [ 0.,  1., -4.,  0.,  0.,  1.,  0.,  0.,  0.],\n",
       "       [ 1.,  0.,  0., -4.,  1.,  0.,  1.,  0.,  0.],\n",
       "       [ 0.,  1.,  0.,  1., -4.,  1.,  0.,  1.,  0.],\n",
       "       [ 0.,  0.,  1.,  0.,  1., -4.,  0.,  0.,  1.],\n",
       "       [ 0.,  0.,  0.,  1.,  0.,  0., -4.,  1.,  0.],\n",
       "       [ 0.,  0.,  0.,  0.,  1.,  0.,  1., -4.,  1.],\n",
       "       [ 0.,  0.,  0.,  0.,  0.,  1.,  0.,  1., -4.]])"
      ]
     },
     "execution_count": 31,
     "metadata": {},
     "output_type": "execute_result"
    }
   ],
   "source": [
    "A"
   ]
  },
  {
   "cell_type": "markdown",
   "metadata": {},
   "source": [
    "De esta manera hemos terminado de ejemplificar como se construye la matriz $A$. Ahora, para construir la correspondiente matriz $A$ cuyos elementos sean los coeficientes de las ecuaciones de diferencias finitas solo hace falta dividir por $\\Delta x^2$"
   ]
  },
  {
   "cell_type": "code",
   "execution_count": 132,
   "metadata": {},
   "outputs": [],
   "source": [
    "N = 50\n",
    "dx = 1/(N+1)"
   ]
  },
  {
   "cell_type": "code",
   "execution_count": 133,
   "metadata": {},
   "outputs": [],
   "source": [
    "A_1d = np.eye(N,k=-1)+np.eye(N,k=1)-4*np.eye(N)"
   ]
  },
  {
   "cell_type": "code",
   "execution_count": 134,
   "metadata": {},
   "outputs": [
    {
     "data": {
      "text/plain": [
       "array([[-4.,  1.,  0., ...,  0.,  0.,  0.],\n",
       "       [ 1., -4.,  1., ...,  0.,  0.,  0.],\n",
       "       [ 0.,  1., -4., ...,  0.,  0.,  0.],\n",
       "       ...,\n",
       "       [ 0.,  0.,  0., ..., -4.,  1.,  0.],\n",
       "       [ 0.,  0.,  0., ...,  1., -4.,  1.],\n",
       "       [ 0.,  0.,  0., ...,  0.,  1., -4.]])"
      ]
     },
     "execution_count": 134,
     "metadata": {},
     "output_type": "execute_result"
    }
   ],
   "source": [
    "A_1d"
   ]
  },
  {
   "cell_type": "code",
   "execution_count": 161,
   "metadata": {},
   "outputs": [],
   "source": [
    "A = (np.kron(np.eye(N),A_1d) + (np.eye(N**2,k=-N) + np.eye(N**2, k=N)))/dx**2"
   ]
  },
  {
   "cell_type": "code",
   "execution_count": 162,
   "metadata": {},
   "outputs": [
    {
     "data": {
      "text/plain": [
       "array([[-10404.,   2601.,      0., ...,      0.,      0.,      0.],\n",
       "       [  2601., -10404.,   2601., ...,      0.,      0.,      0.],\n",
       "       [     0.,   2601., -10404., ...,      0.,      0.,      0.],\n",
       "       ...,\n",
       "       [     0.,      0.,      0., ..., -10404.,   2601.,      0.],\n",
       "       [     0.,      0.,      0., ...,   2601., -10404.,   2601.],\n",
       "       [     0.,      0.,      0., ...,      0.,   2601., -10404.]])"
      ]
     },
     "execution_count": 162,
     "metadata": {},
     "output_type": "execute_result"
    }
   ],
   "source": [
    "A"
   ]
  },
  {
   "cell_type": "markdown",
   "metadata": {},
   "source": [
    "Ta que construimos la matriz $A$ falta definir $b$ y por último resolver el sistema $Au=b$. Para definir $b$ recordemos las condiciones iniciales"
   ]
  },
  {
   "cell_type": "code",
   "execution_count": 163,
   "metadata": {},
   "outputs": [],
   "source": [
    "u0_l, u0_r = 3, -1\n",
    "u0_b, u0_t = -5, 5"
   ]
  },
  {
   "cell_type": "code",
   "execution_count": 164,
   "metadata": {},
   "outputs": [],
   "source": [
    "b = np.zeros((N,N))\n",
    "b[0,:] += u0_b\n",
    "b[-1,:] += u0_t\n",
    "b[:,0] += u0_l\n",
    "b[:,-1] += u0_r"
   ]
  },
  {
   "cell_type": "code",
   "execution_count": 165,
   "metadata": {},
   "outputs": [
    {
     "data": {
      "text/plain": [
       "array([[-2., -5., -5., ..., -5., -5., -6.],\n",
       "       [ 3.,  0.,  0., ...,  0.,  0., -1.],\n",
       "       [ 3.,  0.,  0., ...,  0.,  0., -1.],\n",
       "       ...,\n",
       "       [ 3.,  0.,  0., ...,  0.,  0., -1.],\n",
       "       [ 3.,  0.,  0., ...,  0.,  0., -1.],\n",
       "       [ 8.,  5.,  5., ...,  5.,  5.,  4.]])"
      ]
     },
     "execution_count": 165,
     "metadata": {},
     "output_type": "execute_result"
    }
   ],
   "source": [
    "b"
   ]
  },
  {
   "cell_type": "markdown",
   "metadata": {},
   "source": [
    "Para convertir el arreglo $b$ en un vector utilizaremos la función np.reshape()"
   ]
  },
  {
   "cell_type": "code",
   "execution_count": 166,
   "metadata": {},
   "outputs": [],
   "source": [
    "np.reshape?"
   ]
  },
  {
   "cell_type": "code",
   "execution_count": 167,
   "metadata": {},
   "outputs": [],
   "source": [
    "a = np.arange(6)"
   ]
  },
  {
   "cell_type": "code",
   "execution_count": 168,
   "metadata": {},
   "outputs": [
    {
     "data": {
      "text/plain": [
       "array([0, 1, 2, 3, 4, 5])"
      ]
     },
     "execution_count": 168,
     "metadata": {},
     "output_type": "execute_result"
    }
   ],
   "source": [
    "a"
   ]
  },
  {
   "cell_type": "code",
   "execution_count": 169,
   "metadata": {},
   "outputs": [
    {
     "data": {
      "text/plain": [
       "array([[0, 1],\n",
       "       [2, 3],\n",
       "       [4, 5]])"
      ]
     },
     "execution_count": 169,
     "metadata": {},
     "output_type": "execute_result"
    }
   ],
   "source": [
    "a.reshape(3,2)"
   ]
  },
  {
   "cell_type": "code",
   "execution_count": 170,
   "metadata": {},
   "outputs": [],
   "source": [
    "b = b.reshape(N**2)"
   ]
  },
  {
   "cell_type": "code",
   "execution_count": 171,
   "metadata": {},
   "outputs": [
    {
     "data": {
      "text/plain": [
       "array([-2., -5., -5., ...,  5.,  5.,  4.])"
      ]
     },
     "execution_count": 171,
     "metadata": {},
     "output_type": "execute_result"
    }
   ],
   "source": [
    "b"
   ]
  },
  {
   "cell_type": "code",
   "execution_count": 172,
   "metadata": {},
   "outputs": [],
   "source": [
    "b= -b/dx**2"
   ]
  },
  {
   "cell_type": "code",
   "execution_count": 173,
   "metadata": {},
   "outputs": [
    {
     "data": {
      "text/plain": [
       "array([  5202.,  13005.,  13005., ..., -13005., -13005., -10404.])"
      ]
     },
     "execution_count": 173,
     "metadata": {},
     "output_type": "execute_result"
    }
   ],
   "source": [
    "b"
   ]
  },
  {
   "cell_type": "code",
   "execution_count": 174,
   "metadata": {},
   "outputs": [],
   "source": [
    "v = np.linalg.solve(A,b)\n",
    "u = v.reshape(N,N)"
   ]
  },
  {
   "cell_type": "code",
   "execution_count": 175,
   "metadata": {},
   "outputs": [
    {
     "data": {
      "text/plain": [
       "(array([-0.99747463, -2.57617307, -3.31731907, ...,  3.73611864,\n",
       "         3.18087296,  1.99747463]),\n",
       " array([[-9.97474633e-01, -2.57617307e+00, -3.31731907e+00, ...,\n",
       "         -4.14476324e+00, -3.77882519e+00, -2.99410748e+00],\n",
       "        [ 5.86274540e-01, -9.89898584e-01, -1.97114734e+00, ...,\n",
       "         -3.45778648e+00, -2.97643003e+00, -2.19760472e+00],\n",
       "        [ 1.33247138e+00,  1.45153705e-03, -9.77272226e-01, ...,\n",
       "         -2.94696853e+00, -2.47150373e+00, -1.81988137e+00],\n",
       "        ...,\n",
       "        [ 3.40108180e+00,  3.71804938e+00,  3.94696853e+00, ...,\n",
       "          1.97727223e+00,  1.24509410e+00,  2.48729054e-01],\n",
       "        [ 3.59290483e+00,  3.97643003e+00,  4.21124084e+00, ...,\n",
       "          2.72460170e+00,  1.98989858e+00,  8.09025568e-01],\n",
       "        [ 3.99410748e+00,  4.38352508e+00,  4.56356281e+00, ...,\n",
       "          3.73611864e+00,  3.18087296e+00,  1.99747463e+00]]))"
      ]
     },
     "execution_count": 175,
     "metadata": {},
     "output_type": "execute_result"
    }
   ],
   "source": [
    "v,u"
   ]
  },
  {
   "cell_type": "markdown",
   "metadata": {},
   "source": [
    "Hasta este punto hemos implementado el método de diferencias finitas para resolver una PDE y encontrar los valores de $u(x)$ en el dominio de $u_{xx}$"
   ]
  },
  {
   "cell_type": "markdown",
   "metadata": {},
   "source": [
    "Ahora, ya que no tenemos una expresión para la función $u(x)$ procedemos a  visualizar la solución. Para ello necesitamos crear un array con las condiciones de frontera y la solución $u$. Usaremos la funcion vstack para crear dicha matriz."
   ]
  },
  {
   "cell_type": "code",
   "execution_count": 176,
   "metadata": {},
   "outputs": [],
   "source": [
    "a = np.array([1,2,3])\n",
    "b = np.array([4,5,6])"
   ]
  },
  {
   "cell_type": "code",
   "execution_count": 177,
   "metadata": {},
   "outputs": [
    {
     "data": {
      "text/plain": [
       "array([[1, 2, 3],\n",
       "       [4, 5, 6]])"
      ]
     },
     "execution_count": 177,
     "metadata": {},
     "output_type": "execute_result"
    }
   ],
   "source": [
    "np.vstack((a,b))"
   ]
  },
  {
   "cell_type": "code",
   "execution_count": 178,
   "metadata": {},
   "outputs": [],
   "source": [
    "np.vstack?"
   ]
  },
  {
   "cell_type": "code",
   "execution_count": 179,
   "metadata": {},
   "outputs": [],
   "source": [
    "U = np.vstack([np.ones((1,N+2))*u0_b, \n",
    "np.hstack([np.ones((N,1))*u0_l,u,np.ones((N,1))*u0_r]),\n",
    "             np.ones((1,N+2))*u0_t])"
   ]
  },
  {
   "cell_type": "code",
   "execution_count": 180,
   "metadata": {},
   "outputs": [
    {
     "data": {
      "text/plain": [
       "array([[-9.97474633e-01, -2.57617307e+00, -3.31731907e+00, ...,\n",
       "        -4.14476324e+00, -3.77882519e+00, -2.99410748e+00],\n",
       "       [ 5.86274540e-01, -9.89898584e-01, -1.97114734e+00, ...,\n",
       "        -3.45778648e+00, -2.97643003e+00, -2.19760472e+00],\n",
       "       [ 1.33247138e+00,  1.45153705e-03, -9.77272226e-01, ...,\n",
       "        -2.94696853e+00, -2.47150373e+00, -1.81988137e+00],\n",
       "       ...,\n",
       "       [ 3.40108180e+00,  3.71804938e+00,  3.94696853e+00, ...,\n",
       "         1.97727223e+00,  1.24509410e+00,  2.48729054e-01],\n",
       "       [ 3.59290483e+00,  3.97643003e+00,  4.21124084e+00, ...,\n",
       "         2.72460170e+00,  1.98989858e+00,  8.09025568e-01],\n",
       "       [ 3.99410748e+00,  4.38352508e+00,  4.56356281e+00, ...,\n",
       "         3.73611864e+00,  3.18087296e+00,  1.99747463e+00]])"
      ]
     },
     "execution_count": 180,
     "metadata": {},
     "output_type": "execute_result"
    }
   ],
   "source": [
    "u"
   ]
  },
  {
   "cell_type": "code",
   "execution_count": 181,
   "metadata": {},
   "outputs": [
    {
     "data": {
      "text/plain": [
       "array([[-5.        , -5.        , -5.        , ..., -5.        ,\n",
       "        -5.        , -5.        ],\n",
       "       [ 3.        , -0.99747463, -2.57617307, ..., -3.77882519,\n",
       "        -2.99410748, -1.        ],\n",
       "       [ 3.        ,  0.58627454, -0.98989858, ..., -2.97643003,\n",
       "        -2.19760472, -1.        ],\n",
       "       ...,\n",
       "       [ 3.        ,  3.59290483,  3.97643003, ...,  1.98989858,\n",
       "         0.80902557, -1.        ],\n",
       "       [ 3.        ,  3.99410748,  4.38352508, ...,  3.18087296,\n",
       "         1.99747463, -1.        ],\n",
       "       [ 5.        ,  5.        ,  5.        , ...,  5.        ,\n",
       "         5.        ,  5.        ]])"
      ]
     },
     "execution_count": 181,
     "metadata": {},
     "output_type": "execute_result"
    }
   ],
   "source": [
    "U"
   ]
  },
  {
   "cell_type": "code",
   "execution_count": 182,
   "metadata": {},
   "outputs": [],
   "source": [
    "from mpl_toolkits import mplot3d"
   ]
  },
  {
   "cell_type": "code",
   "execution_count": 183,
   "metadata": {},
   "outputs": [],
   "source": [
    "x = np.linspace(0,1,N+2)\n",
    "X, Y = np.meshgrid(x,x)"
   ]
  },
  {
   "cell_type": "code",
   "execution_count": 192,
   "metadata": {},
   "outputs": [
    {
     "data": {
      "image/png": "[encoded data removed]",
      "text/plain": [
       "<Figure size 864x432 with 3 Axes>"
      ]
     },
     "metadata": {
      "needs_background": "light"
     },
     "output_type": "display_data"
    }
   ],
   "source": [
    "fig = plt.figure(figsize=(12,6))\n",
    "cmap = plt.cm.get_cmap(\"RdBu_r\")\n",
    "\n",
    "#Defniendo la gráfica en 2d\n",
    "ax = fig.add_subplot(1,2,1)\n",
    "c = ax.pcolor(X,Y,U,vmin=-5, vmax= 5,cmap=cmap)\n",
    "ax.set_xlabel(r\"$x_1$\", fontsize =18)\n",
    "ax.set_ylabel(r\"$x_2$\", fontsize =18)\n",
    "\n",
    "#gráfica en 3d\n",
    "ax = fig.add_subplot(1,2,2, projection = \"3d\")\n",
    "p = ax.plot_surface(X,Y,U,cmap=cmap)\n",
    "ax.set_xlabel(r\"$x_1$\", fontsize =18)\n",
    "ax.set_ylabel(r\"$x_2$\", fontsize =18)\n",
    "\n",
    "cb = plt.colorbar(p,ax=ax, shrink = 0.75)\n",
    "cb.set_label(r\"$u(x_1,x_2)$\", fontsize=18)"
   ]
  },
  {
   "cell_type": "code",
   "execution_count": null,
   "metadata": {},
   "outputs": [],
   "source": []
  }
 ],
 "metadata": {
  "kernelspec": {
   "display_name": "Python 3",
   "language": "python",
   "name": "python3"
  },
  "language_info": {
   "codemirror_mode": {
    "name": "ipython",
    "version": 3
   },
   "file_extension": ".py",
   "mimetype": "text/x-python",
   "name": "python",
   "nbconvert_exporter": "python",
   "pygments_lexer": "ipython3",
   "version": "3.7.6"
  }
 },
 "nbformat": 4,
 "nbformat_minor": 4
}
