{
 "cells": [
  {
   "cell_type": "markdown",
   "id": "d4a94112",
   "metadata": {},
   "source": [
    "# Crecimiento poblacional"
   ]
  },
  {
   "cell_type": "markdown",
   "id": "7a5e5c48",
   "metadata": {},
   "source": [
    "Consideremos que la edad máxima de un miembro de la población es $L$ años, entonces los siguientes $n$ intervalos representan los grupos de edad.\n",
    "\n",
    "$\\left[ 0, \\frac{L}{n} \\right)$\n",
    "\n",
    "$\\left[ \\frac{L}{n}, \\frac{2L}{n} \\right)$ ...\n",
    "\n",
    "...  así sucesivamente hasta\n",
    " \n",
    "$\\left[ \\frac{(n-1)L}{n}, L \\right]$\n",
    "\n",
    "El vector de la distribución de edades $\\vec{x}$ representa el número de miembros que componen cada grupo de edad\n",
    "\n",
    "$\\vec{x} =\\left[ \\begin{array}{cccc}\n",
    "x_{1} \\\\\n",
    "x_{2} \\\\\n",
    "x_{3} \\\\\n",
    "...\\\\\n",
    "x_{n}\\end{array} \\right]$\n",
    "\n",
    "Durante un periodo de $L/n$ años, la probabilidad de que un miembro del i-ésimo grupo de edad sobreviva para ingresar al grupo de edad (i+1) esta dada por $p_i$, donde\n",
    "\n",
    "$0\\leq p_i \\leq 1, i = 1,2,3, ..., n-1$\n",
    "\n",
    "El número promedio de descendientes por miembro del i-ésimo grupo de edad esta dado pro $b_i$\n",
    "\n",
    "Estas cantidades pueden representarse en forma matricial de la siguiente manera\n",
    "\n",
    "$A = \\left[ \\begin{array}{cccccc}\n",
    "b_{1} & b_{2} & \\ldots & b_{n-1} & b_{n} \\\\\n",
    "p_{1} & 0     & \\ldots & 0       & 0     \\\\\n",
    "0     & p_2   & \\ldots & 0       & 0     \\\\ \n",
    ".     & . & \\ldots & .       & .     \\\\\n",
    ".     & . & \\ldots & .       & .     \\\\ \n",
    ".     & . & \\ldots & .       & .     \\\\ \n",
    "0     & 0 & \\ldots & p_{n-1}       & 0     \\\\ \n",
    "0     & 0 &\\ldots & 0      & p_{n}    \n",
    "\\end{array} \\right]$\n",
    "\n",
    "donde $A$ se conoce como la matriz de **transición de edades**, entonces multiplicando $A$ por el vector de distribución de edades $\\vec{x}$ de un periodo específico produce el vector de distribuciones de edades del siguiente periodo, es decir:\n",
    "\n",
    "$A\\vec{x_i} = \\vec{x}_{i+1} $\n",
    "\n"
   ]
  },
  {
   "cell_type": "markdown",
   "id": "27e915d6",
   "metadata": {},
   "source": [
    "# Ejemplo:"
   ]
  },
  {
   "cell_type": "markdown",
   "id": "7c9c25fc",
   "metadata": {},
   "source": [
    "Consideremos que una población de conejos tiene las siguientes características:\n",
    "\n",
    "1. La mitad de la población de conejos sobrevive el primer año. De los cuales la mitad sobrevive el segundo año y la edad maxima de vida es de 3 años\n",
    "2.  Durante el primer año, los conejos no producen descendencia. El número promedio de descendientes durante el segundo año es 6 y 8 durante el tercero.\n",
    "\n",
    "La población ahora consiste de 24 conejos en el primer grupo de edades, 24 en el segundo y 20 en el tercero. ¿Cuántos conejos habrá en cada grupo de edad dentro de un año?\n"
   ]
  },
  {
   "cell_type": "markdown",
   "id": "c9d5c411",
   "metadata": {},
   "source": [
    "Resolver en clase con participación de estudiantes ..."
   ]
  },
  {
   "cell_type": "code",
   "execution_count": 1,
   "id": "093a11bc",
   "metadata": {},
   "outputs": [],
   "source": [
    "import numpy as np"
   ]
  },
  {
   "cell_type": "code",
   "execution_count": 2,
   "id": "221195f2",
   "metadata": {},
   "outputs": [
    {
     "data": {
      "text/plain": [
       "(array([[0. , 6. , 8. ],\n",
       "        [0.5, 0. , 0. ],\n",
       "        [0. , 0.5, 0. ]]),\n",
       " array([24, 24, 20]))"
      ]
     },
     "execution_count": 2,
     "metadata": {},
     "output_type": "execute_result"
    }
   ],
   "source": [
    "L = 3\n",
    "n = 3\n",
    "p1 = 0.5\n",
    "p2 = 0.5\n",
    "p3 = 0\n",
    "b1 = 0 \n",
    "b2 = 6\n",
    "b3 = 8\n",
    "\n",
    "A = np.array([[b1,b2,b3],[p1,0,0],[0,p2,0]])\n",
    "A\n",
    "\n",
    "x1 =24\n",
    "x2 =24\n",
    "x3 =20\n",
    "x_1 = np.array([x1,x2,x3])\n",
    "A,x_1"
   ]
  },
  {
   "cell_type": "markdown",
   "id": "6fca4e8b",
   "metadata": {},
   "source": [
    "Para determinar la distribución de edades en el momento $i+1$ tenemos que realizar la siguiente operación $A\\vec{x_i} = \\vec{x}_{i+1} $"
   ]
  },
  {
   "cell_type": "code",
   "execution_count": 3,
   "id": "efa5184c",
   "metadata": {},
   "outputs": [
    {
     "data": {
      "text/plain": [
       "array([304.,  12.,  12.])"
      ]
     },
     "execution_count": 3,
     "metadata": {},
     "output_type": "execute_result"
    }
   ],
   "source": [
    "x_2 = A.dot(x_1)\n",
    "x_2"
   ]
  },
  {
   "cell_type": "code",
   "execution_count": 4,
   "id": "872b444c",
   "metadata": {},
   "outputs": [
    {
     "data": {
      "text/plain": [
       "array([168., 152.,   6.])"
      ]
     },
     "execution_count": 4,
     "metadata": {},
     "output_type": "execute_result"
    }
   ],
   "source": [
    "x_3 = A.dot(x_2)\n",
    "x_3"
   ]
  },
  {
   "cell_type": "code",
   "execution_count": null,
   "id": "3cd135e3",
   "metadata": {},
   "outputs": [],
   "source": []
  }
 ],
 "metadata": {
  "kernelspec": {
   "display_name": "Python 3",
   "language": "python",
   "name": "python3"
  },
  "language_info": {
   "codemirror_mode": {
    "name": "ipython",
    "version": 3
   },
   "file_extension": ".py",
   "mimetype": "text/x-python",
   "name": "python",
   "nbconvert_exporter": "python",
   "pygments_lexer": "ipython3",
   "version": "3.8.8"
  }
 },
 "nbformat": 4,
 "nbformat_minor": 5
}
